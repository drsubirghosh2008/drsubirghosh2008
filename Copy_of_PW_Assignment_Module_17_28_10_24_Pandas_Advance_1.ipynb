{
  "nbformat": 4,
  "nbformat_minor": 0,
  "metadata": {
    "colab": {
      "provenance": [],
      "authorship_tag": "ABX9TyMcgBsvG0tsRvJVckuZ3CDt",
      "include_colab_link": true
    },
    "kernelspec": {
      "name": "python3",
      "display_name": "Python 3"
    },
    "language_info": {
      "name": "python"
    }
  },
  "cells": [
    {
      "cell_type": "markdown",
      "metadata": {
        "id": "view-in-github",
        "colab_type": "text"
      },
      "source": [
        "<a href=\"https://colab.research.google.com/github/drsubirghosh2008/drsubirghosh2008/blob/main/Copy_of_PW_Assignment_Module_17_28_10_24_Pandas_Advance_1.ipynb\" target=\"_parent\"><img src=\"https://colab.research.google.com/assets/colab-badge.svg\" alt=\"Open In Colab\"/></a>"
      ]
    },
    {
      "cell_type": "markdown",
      "source": [
        "Q1. List any five functions of the pandas library with execution.\n",
        "\n",
        "Answer:\n",
        "\n"
      ],
      "metadata": {
        "id": "-MzJZ7DP06w8"
      }
    },
    {
      "cell_type": "code",
      "source": [
        "# Sample data for demonstration\n",
        "sample_data = {\n",
        "    \"Name\": [\"Alice\", \"Bob\", \"Claire\", \"David\", \"Eva\"],\n",
        "    \"Age\": [25, 30, 27, 22, 35],\n",
        "    \"Gender\": [\"Female\", \"Male\", \"Female\", \"Male\", \"Female\"],\n",
        "    \"Score\": [88, 92, 95, 85, 90]\n",
        "}\n",
        "\n",
        "# Creating a DataFrame\n",
        "df = pd.DataFrame(sample_data)\n",
        "\n",
        "# 1. head() - Returns the first few rows of the DataFrame\n",
        "head_output = df.head(3)\n",
        "\n",
        "# 2. describe() - Provides summary statistics for numerical columns\n",
        "describe_output = df.describe()\n",
        "\n",
        "# 3. value_counts() - Counts unique values in a specific column (here, \"Gender\")\n",
        "value_counts_output = df[\"Gender\"].value_counts()\n",
        "\n",
        "# 4. drop() - Drops specified columns (here, we drop the \"Score\" column)\n",
        "drop_output = df.drop(columns=\"Score\")\n",
        "\n",
        "# 5. groupby() - Groups data by a column and calculates the mean of each group (here, by \"Gender\")\n",
        "groupby_output = df.groupby(\"Gender\")[\"Score\"].mean()\n",
        "\n",
        "head_output, describe_output, value_counts_output, drop_output, groupby_output\n"
      ],
      "metadata": {
        "colab": {
          "base_uri": "https://localhost:8080/"
        },
        "id": "2e9rnYP040Kj",
        "outputId": "cec6e651-7fab-4a6f-d43a-6cc8aaf0cf2c"
      },
      "execution_count": null,
      "outputs": [
        {
          "output_type": "execute_result",
          "data": {
            "text/plain": [
              "(     Name  Age  Gender  Score\n",
              " 0   Alice   25  Female     88\n",
              " 1     Bob   30    Male     92\n",
              " 2  Claire   27  Female     95,\n",
              "              Age      Score\n",
              " count   5.000000   5.000000\n",
              " mean   27.800000  90.000000\n",
              " std     4.969909   3.807887\n",
              " min    22.000000  85.000000\n",
              " 25%    25.000000  88.000000\n",
              " 50%    27.000000  90.000000\n",
              " 75%    30.000000  92.000000\n",
              " max    35.000000  95.000000,\n",
              " Gender\n",
              " Female    3\n",
              " Male      2\n",
              " Name: count, dtype: int64,\n",
              "      Name  Age  Gender\n",
              " 0   Alice   25  Female\n",
              " 1     Bob   30    Male\n",
              " 2  Claire   27  Female\n",
              " 3   David   22    Male\n",
              " 4     Eva   35  Female,\n",
              " Gender\n",
              " Female    91.0\n",
              " Male      88.5\n",
              " Name: Score, dtype: float64)"
            ]
          },
          "metadata": {},
          "execution_count": 3
        }
      ]
    },
    {
      "cell_type": "markdown",
      "source": [
        "Q2. Given a Pandas DataFrame df with columns 'A', 'B', and 'C', write a Python function to re-index the DataFrame with a new index that starts from 1 and increments by 2 for each row.\n",
        "\n",
        "Answer:\n",
        "\n",
        "Here's a Python function that will re-index a DataFrame df to start from 1 and increment by 2 for each row:"
      ],
      "metadata": {
        "id": "6pZ4zcbp1QhU"
      }
    },
    {
      "cell_type": "code",
      "source": [
        "import pandas as pd\n",
        "\n",
        "def reindex_df(df):\n",
        "    # Create a new index starting from 1, with a step of 2, up to the number of rows in df\n",
        "    new_index = range(1, 2 * len(df) + 1, 2)\n",
        "    # Assign the new index to the DataFrame\n",
        "    df.index = new_index\n",
        "    return df"
      ],
      "metadata": {
        "id": "r1Nz6uUAzC8T"
      },
      "execution_count": 1,
      "outputs": []
    },
    {
      "cell_type": "markdown",
      "source": [
        "To use this function, simply call reindex_df(df) where df is your DataFrame with columns 'A', 'B', and 'C'. The resulting DataFrame will have its index start at 1 and increment by 2 for each subsequent row."
      ],
      "metadata": {
        "id": "ZFRG6c1fzIZ6"
      }
    },
    {
      "cell_type": "markdown",
      "source": [
        "Q3. You have a Pandas DataFrame df with a column named 'Values'. Write a Python function that iterates over the DataFrame and calculates the sum of the first three values in the 'Values' column. The function should print the sum to the console.\n",
        "\n",
        "For example, if the 'Values' column of df contains the values [10, 20, 30, 40, 50], your function should calculate and print the sum of the first three values, which is 60.\n",
        "\n",
        "Answer:\n",
        "\n"
      ],
      "metadata": {
        "id": "KG7zVAf11Wfk"
      }
    },
    {
      "cell_type": "code",
      "source": [
        "import pandas as pd\n",
        "\n",
        "def sum_first_three(df):\n",
        "    # Ensure there are at least three values in the 'Values' column\n",
        "    if len(df['Values']) >= 3:\n",
        "        # Calculate the sum of the first three values\n",
        "        total = df['Values'].iloc[:3].sum()\n",
        "        print(\"The sum of the first three values is:\", total)\n",
        "    else:\n",
        "        print(\"The 'Values' column has fewer than three entries.\")\n",
        "\n",
        "# Example usage\n",
        "# df = pd.DataFrame({'Values': [10, 20, 30, 40, 50]})\n",
        "# sum_first_three(df)"
      ],
      "metadata": {
        "id": "7vw47P8LzcyC"
      },
      "execution_count": 2,
      "outputs": []
    },
    {
      "cell_type": "markdown",
      "source": [
        "This function checks if there are at least three values in the 'Values' column before calculating the sum. If there are fewer than three entries, it will print a message indicating that the column does not have enough values."
      ],
      "metadata": {
        "id": "4Z4YoH3pzjxC"
      }
    },
    {
      "cell_type": "markdown",
      "source": [
        "Q4. Given a Pandas DataFrame df with a column 'Text', write a Python function to create a new column 'Word_Count' that contains the number of words in each row of the 'Text' column.\n",
        "\n",
        "Answer:\n",
        "\n"
      ],
      "metadata": {
        "id": "5l9Kimry1hKU"
      }
    },
    {
      "cell_type": "code",
      "source": [
        "import pandas as pd\n",
        "\n",
        "def add_word_count(df):\n",
        "    # Create 'Word_Count' by splitting each entry in 'Text' and counting the words\n",
        "    df['Word_Count'] = df['Text'].apply(lambda x: len(str(x).split()))\n",
        "    return df\n",
        "\n",
        "# Example usage\n",
        "# df = pd.DataFrame({'Text': [\"Hello world\", \"This is a test\", \"Pandas is fun\"]})\n",
        "# df = add_word_count(df)\n",
        "# print(df)"
      ],
      "metadata": {
        "id": "aX1SHeAgzsTy"
      },
      "execution_count": 3,
      "outputs": []
    },
    {
      "cell_type": "markdown",
      "source": [
        "This function uses the apply method to split each entry in the 'Text' column by spaces and counts the words, handling cases where the 'Text' column may have non-string values by converting them to strings. The resulting word counts are stored in the new 'Word_Count' column."
      ],
      "metadata": {
        "id": "G9iZ_rpHzuGy"
      }
    },
    {
      "cell_type": "markdown",
      "source": [
        "Q5. How are DataFrame.size() and DataFrame.shape() different?\n",
        "\n",
        "Answer:\n",
        "\n",
        "\n",
        "In Pandas, DataFrame.size and DataFrame.shape provide different information about a DataFrame:\n",
        "\n",
        "DataFrame.size:\n",
        "\n",
        "This attribute returns the total number of elements (cells) in the DataFrame.\n",
        "It is equivalent to the product of the number of rows and columns.\n",
        "For example, if a DataFrame has 3 rows and 4 columns, DataFrame.size will return 3 * 4 = 12.\n",
        "DataFrame.shape:\n",
        "\n",
        "This attribute returns a tuple representing the dimensions of the DataFrame in the form (number_of_rows, number_of_columns).\n",
        "For instance, if a DataFrame has 3 rows and 4 columns, DataFrame.shape will return (3, 4).\n",
        "In summary:\n",
        "\n",
        "DataFrame.size gives the total count of all elements.\n",
        "DataFrame.shape gives the count of rows and columns as a tuple."
      ],
      "metadata": {
        "id": "lSIdckAa1muE"
      }
    },
    {
      "cell_type": "markdown",
      "source": [
        "Q6. Which function of pandas do we use to read an excel file?\n",
        "\n",
        "Answer:\n",
        "\n",
        "In Pandas, the function used to read an Excel file is pd.read_excel()."
      ],
      "metadata": {
        "id": "5GVH2nzS1qs8"
      }
    },
    {
      "cell_type": "code",
      "source": [
        "import pandas as pd\n",
        "\n",
        "# Load an Excel file\n",
        "df = pd.read_excel(\"file_path.xlsx\", sheet_name=\"Sheet1\")"
      ],
      "metadata": {
        "id": "CLIh2o8u0hhR"
      },
      "execution_count": null,
      "outputs": []
    },
    {
      "cell_type": "markdown",
      "source": [
        "Q7. You have a Pandas DataFrame df that contains a column named 'Email' that contains email addresses in the format 'username@domain.com'. Write a Python function that creates a new column 'Username' in df that contains only the username part of each email address.\n",
        "\n",
        "The username is the part of the email address that appears before the '@' symbol. For example, if the email address is 'john.doe@example.com', the 'Username' column should contain 'john.doe'. Your function should extract the username from each email address and store it in the new 'Username'\n",
        "column.\n",
        "\n",
        "Answer:\n",
        "\n"
      ],
      "metadata": {
        "id": "QOvklQlk1tnk"
      }
    },
    {
      "cell_type": "markdown",
      "source": [
        "Here's a Python function that extracts the username from each email address in the 'Email' column and creates a new column 'Username' in the DataFrame df:"
      ],
      "metadata": {
        "id": "D_2EDGGT0szq"
      }
    },
    {
      "cell_type": "code",
      "source": [
        "import pandas as pd\n",
        "\n",
        "def extract_username(df):\n",
        "    # Extract the username by splitting each email at the '@' symbol\n",
        "    df['Username'] = df['Email'].apply(lambda x: x.split('@')[0])\n",
        "    return df\n",
        "\n",
        "# Example usage\n",
        "# df = pd.DataFrame({'Email': ['john.doe@example.com', 'jane.smith@domain.com']})\n",
        "# df = extract_username(df)\n",
        "# print(df)"
      ],
      "metadata": {
        "id": "_KHrzUff0uTS"
      },
      "execution_count": 6,
      "outputs": []
    },
    {
      "cell_type": "markdown",
      "source": [
        "This function uses the apply method to split each email address at the '@' symbol, selecting the first part (username) and assigning it to the new 'Username' column."
      ],
      "metadata": {
        "id": "s8PRhXru00Ey"
      }
    },
    {
      "cell_type": "markdown",
      "source": [
        "Q8. You have a Pandas DataFrame df with columns 'A', 'B', and 'C'. Write a Python function that selects all rows where the value in column 'A' is greater than 5 and the value in column 'B' is less than 10. The function should return a new DataFrame that contains only the selected rows.\n",
        "\n",
        "For example, if df contains the following values:\n",
        "\n",
        "  A B C\n",
        "0 3 5 1\n",
        "1 8 2 7\n",
        "2 6 9 4\n",
        "3 2 3 5\n",
        "4 9 1 2\n",
        "\n",
        "Your function should select the following rows: A B C\n",
        "\n",
        "1 8 2 7\n",
        "4 9 1 2\n",
        "\n",
        "The function should return a new DataFrame that contains only the selected rows.\n",
        "\n",
        "Answer:\n",
        "\n"
      ],
      "metadata": {
        "id": "StyyhDLP17TM"
      }
    },
    {
      "cell_type": "markdown",
      "source": [
        "Here’s a Python function that selects all rows in the DataFrame df where the value in column 'A' is greater than 5 and the value in column 'B' is less than 10. The function returns a new DataFrame containing only the selected rows:"
      ],
      "metadata": {
        "id": "a5Q6Ne7D1A-a"
      }
    },
    {
      "cell_type": "code",
      "source": [
        "import pandas as pd\n",
        "\n",
        "def select_rows(df):\n",
        "    # Use boolean indexing to select rows based on conditions in columns 'A' and 'B'\n",
        "    selected_df = df[(df['A'] > 5) & (df['B'] < 10)]\n",
        "    return selected_df\n",
        "\n",
        "# Example usage\n",
        "# df = pd.DataFrame({'A': [3, 8, 6, 2, 9], 'B': [5, 2, 9, 3, 1], 'C': [1, 7, 4, 5, 2]})\n",
        "# result = select_rows(df)\n",
        "# print(result)"
      ],
      "metadata": {
        "id": "tNNv4s3g0_US"
      },
      "execution_count": 7,
      "outputs": []
    },
    {
      "cell_type": "markdown",
      "source": [
        "This function filters df using boolean indexing with conditions (df['A'] > 5) & (df['B'] < 10), returning a new DataFrame selected_df that only includes rows meeting these criteria."
      ],
      "metadata": {
        "id": "OSG61U6N1IEc"
      }
    },
    {
      "cell_type": "markdown",
      "source": [
        "Q9. Given a Pandas DataFrame df with a column 'Values', write a Python function to calculate the mean, median, and standard deviation of the values in the 'Values' column.\n",
        "\n",
        "Answer:\n",
        "\n"
      ],
      "metadata": {
        "id": "AfkE_Q8k2b39"
      }
    },
    {
      "cell_type": "markdown",
      "source": [
        "\n",
        "Here’s a Python function that calculates the mean, median, and standard deviation of the values in the 'Values' column of a DataFrame df:"
      ],
      "metadata": {
        "id": "8tIVawEp1P95"
      }
    },
    {
      "cell_type": "code",
      "source": [
        "import pandas as pd\n",
        "\n",
        "def calculate_statistics(df):\n",
        "    # Calculate the mean, median, and standard deviation of the 'Values' column\n",
        "    mean_val = df['Values'].mean()\n",
        "    median_val = df['Values'].median()\n",
        "    std_dev = df['Values'].std()\n",
        "\n",
        "    # Print the results\n",
        "    print(\"Mean:\", mean_val)\n",
        "    print(\"Median:\", median_val)\n",
        "    print(\"Standard Deviation:\", std_dev)\n",
        "\n",
        "# Example usage\n",
        "# df = pd.DataFrame({'Values': [10, 20, 30, 40, 50]})\n",
        "# calculate_statistics(df)"
      ],
      "metadata": {
        "id": "VT84YiEA1RZa"
      },
      "execution_count": 8,
      "outputs": []
    },
    {
      "cell_type": "markdown",
      "source": [
        "This function uses Pandas' built-in functions:\n",
        "\n",
        ".mean() to calculate the mean,\n",
        ".median() for the median, and\n",
        ".std() for the standard deviation of the 'Values' column.\n",
        "The results are printed to the console."
      ],
      "metadata": {
        "id": "yGx1ccF91WeS"
      }
    },
    {
      "cell_type": "markdown",
      "source": [
        "Q10. Given a Pandas DataFrame df with a column 'Sales' and a column 'Date', write a Python function to create a new column 'MovingAverage' that contains the moving average of the sales for the past 7 days for each row in the DataFrame. The moving average should be calculated using a window of size 7 and\n",
        "should include the current day.\n",
        "\n",
        "Answer:\n",
        "\n",
        "Here’s a Python function that calculates a 7-day moving average of the 'Sales' column in the DataFrame df and creates a new column 'MovingAverage' to store these values:\n"
      ],
      "metadata": {
        "id": "kSWNpne02emD"
      }
    },
    {
      "cell_type": "code",
      "source": [
        "import pandas as pd\n",
        "\n",
        "def add_moving_average(df):\n",
        "    # Calculate the 7-day moving average for 'Sales' column and store in 'MovingAverage'\n",
        "    df['MovingAverage'] = df['Sales'].rolling(window=7, min_periods=1).mean()\n",
        "    return df\n",
        "\n",
        "# Example usage\n",
        "# df = pd.DataFrame({\n",
        "#     'Date': pd.date_range(start='2023-01-01', periods=10),\n",
        "#     'Sales': [200, 220, 210, 250, 270, 300, 320, 310, 290, 280]\n",
        "# })\n",
        "# df = add_moving_average(df)\n",
        "# print(df)"
      ],
      "metadata": {
        "id": "9tHO9C8R18KS"
      },
      "execution_count": 9,
      "outputs": []
    },
    {
      "cell_type": "markdown",
      "source": [
        "This function uses the .rolling() method with window=7 on the 'Sales' column to calculate the 7-day moving average, including the current day in the calculation. Setting min_periods=1 allows the calculation for rows with fewer than 7 prior days, so values are available from the first row onward."
      ],
      "metadata": {
        "id": "rAvBUMBs2EUM"
      }
    },
    {
      "cell_type": "markdown",
      "source": [
        "Q11. You have a Pandas DataFrame df with a column 'Date'. Write a Python function that creates a new column 'Weekday' in the DataFrame. The 'Weekday' column should contain the weekday name (e.g. Monday, Tuesday) corresponding to each date in the 'Date' column.\n",
        "\n",
        "For example, if df contains the following values:\n",
        "\n",
        "     Date\n",
        "0 2023-01-01\n",
        "1 2023-01-02\n",
        "2 2023-01-03\n",
        "3 2023-01-04\n",
        "4 2023-01-05\n",
        "\n",
        "Your function should create the following DataFrame:\n",
        "\n",
        "     Date     Weekday\n",
        "0 2023-01-01  Sunday\n",
        "1 2023-01-02  Monday\n",
        "2 2023-01-03  Tuesday\n",
        "3 2023-01-04  Wednesday\n",
        "4 2023-01-05  Thursday\n",
        "The function should return the modified DataFrame.\n",
        "\n",
        "Answer:\n",
        "\n",
        "Here's a Python function that adds a new column 'Weekday' to the DataFrame df, containing the weekday name for each date in the 'Date' column:"
      ],
      "metadata": {
        "id": "YbS_lhgI2lGb"
      }
    },
    {
      "cell_type": "code",
      "source": [
        "import pandas as pd\n",
        "\n",
        "def add_weekday_column(df):\n",
        "    # Ensure 'Date' column is of datetime type\n",
        "    df['Date'] = pd.to_datetime(df['Date'])\n",
        "    # Add 'Weekday' column with the weekday name corresponding to each date\n",
        "    df['Weekday'] = df['Date'].dt.day_name()\n",
        "    return df\n",
        "\n",
        "# Example usage\n",
        "# df = pd.DataFrame({'Date': ['2023-01-01', '2023-01-02', '2023-01-03', '2023-01-04', '2023-01-05']})\n",
        "# df = add_weekday_column(df)\n",
        "# print(df)"
      ],
      "metadata": {
        "id": "Sni8xx6B2SGo"
      },
      "execution_count": 10,
      "outputs": []
    },
    {
      "cell_type": "markdown",
      "source": [
        "This function:\n",
        "\n",
        "Converts the 'Date' column to a datetime type (if it's not already).\n",
        "Uses .dt.day_name() to get the weekday name for each date and stores it in the new 'Weekday' column.\n",
        "The modified DataFrame with the new 'Weekday' column is returned."
      ],
      "metadata": {
        "id": "M22QitM32ZZi"
      }
    },
    {
      "cell_type": "markdown",
      "source": [
        "Q12. Given a Pandas DataFrame df with a column 'Date' that contains timestamps, write a Python function to select all rows where the date is between '2023-01-01' and '2023-01-31'.\n",
        "\n",
        "Answer:\n",
        "\n",
        "Here's a Python function that selects all rows in the DataFrame df where the date in the 'Date' column is between '2023-01-01' and '2023-01-31'"
      ],
      "metadata": {
        "id": "kv_DFrjn3Epk"
      }
    },
    {
      "cell_type": "code",
      "source": [
        "import pandas as pd\n",
        "\n",
        "def select_dates_in_range(df):\n",
        "    # Ensure 'Date' column is of datetime type\n",
        "    df['Date'] = pd.to_datetime(df['Date'])\n",
        "    # Select rows where 'Date' is between the specified range\n",
        "    selected_df = df[(df['Date'] >= '2023-01-01') & (df['Date'] <= '2023-01-31')]\n",
        "    return selected_df\n",
        "\n",
        "# Example usage\n",
        "# df = pd.DataFrame({\n",
        "#     'Date': ['2023-01-01 12:00:00', '2023-01-15 15:30:00', '2023-02-01 10:00:00'],\n",
        "#     'Value': [100, 200, 300]\n",
        "# })\n",
        "# result = select_dates_in_range(df)\n",
        "# print(result)"
      ],
      "metadata": {
        "id": "K1PH2GzS2rHF"
      },
      "execution_count": 11,
      "outputs": []
    },
    {
      "cell_type": "markdown",
      "source": [
        "Explanation:\n",
        "\n",
        "The function converts the 'Date' column to a datetime type using pd.to_datetime(), ensuring it can handle date comparisons correctly.\n",
        "\n",
        "It then uses boolean indexing to filter the DataFrame, selecting rows where the date is between '2023-01-01' and '2023-01-31'.\n",
        "\n",
        "The filtered DataFrame selected_df is returned."
      ],
      "metadata": {
        "id": "PKMbVTIg2x-a"
      }
    },
    {
      "cell_type": "markdown",
      "source": [
        "Q13. To use the basic functions of pandas, what is the first and foremost necessary library that needs to be imported?\n",
        "\n",
        "Answer:\n",
        "\n",
        "To use the basic functions of Pandas, the first and foremost necessary library to import is Pandas itself. It is conventionally imported with the alias pd:"
      ],
      "metadata": {
        "id": "BRRGSFDE3NiD"
      }
    },
    {
      "cell_type": "code",
      "source": [
        "import pandas as pd"
      ],
      "metadata": {
        "id": "tzckNJ5j3o3z"
      },
      "execution_count": null,
      "outputs": []
    },
    {
      "cell_type": "markdown",
      "source": [
        "**Thank You!**"
      ],
      "metadata": {
        "id": "v2BQ6bJy1zYb"
      }
    }
  ]
}