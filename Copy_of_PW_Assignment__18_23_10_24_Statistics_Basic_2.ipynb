{
  "nbformat": 4,
  "nbformat_minor": 0,
  "metadata": {
    "colab": {
      "provenance": [],
      "authorship_tag": "ABX9TyPVTaZpJI0Js6f9yYcXP7WB",
      "include_colab_link": true
    },
    "kernelspec": {
      "name": "python3",
      "display_name": "Python 3"
    },
    "language_info": {
      "name": "python"
    }
  },
  "cells": [
    {
      "cell_type": "markdown",
      "metadata": {
        "id": "view-in-github",
        "colab_type": "text"
      },
      "source": [
        "<a href=\"https://colab.research.google.com/github/drsubirghosh2008/drsubirghosh2008/blob/main/Copy_of_PW_Assignment__18_23_10_24_Statistics_Basic_2.ipynb\" target=\"_parent\"><img src=\"https://colab.research.google.com/assets/colab-badge.svg\" alt=\"Open In Colab\"/></a>"
      ]
    },
    {
      "cell_type": "markdown",
      "source": [
        "Q1. What are the three measures of central tendency?\n",
        "\n",
        "Answer:\n",
        "The three measures of central tendency are:\n",
        "\n",
        "Mean: The arithmetic average of a set of values, calculated by summing all the numbers and dividing by the total number of values.\n",
        "\n",
        "Median: The middle value when the data set is ordered from smallest to largest. If there is an even number of observations, the median is the average of the two middle numbers.\n",
        "\n",
        "Mode: The value that appears most frequently in a data set. A data set can have more than one mode if multiple values appear with the same frequency."
      ],
      "metadata": {
        "id": "zfghXxAGsMN7"
      }
    },
    {
      "cell_type": "markdown",
      "source": [
        "Q2. What is the difference between the mean, median, and mode? How are they used to measure the central tendency of a dataset?\n",
        "\n",
        "Answer:\n",
        "\n",
        "The mean, median, and mode are all measures of central tendency, but they capture different aspects of how data points are distributed in a dataset. Here's the difference between them:\n",
        "\n",
        "1. Mean (Average):\n",
        "Definition: The mean is the sum of all the values divided by the number of values.\n",
        "\n",
        "Use: It gives a general idea of the data's central value and is widely used in various applications.\n",
        "\n",
        "Sensitivity: The mean is sensitive to extreme values (outliers). A few very high or low values can skew the mean significantly.\n",
        "\n",
        "Example: If the data set is [1, 2, 3, 4, 100], the mean is (1+2+3+4+100) / 5 = 22, which is not representative of most of the values.\n",
        "\n",
        "2. Median:\n",
        "Definition: The median is the middle value in an ordered data set. If the dataset has an odd number of observations, it is the middle number; if even, it’s the average of the two middle numbers.\n",
        "Use: The median is a better measure of central tendency when the data contains outliers or is skewed, as it isn't influenced by extreme values.\n",
        "Sensitivity: It is resistant to outliers.\n",
        "Example: For the data set [1, 2, 3, 4, 100], the median is 3, which better reflects the center of the bulk of the data.\n",
        "3. Mode:\n",
        "Definition: The mode is the value that appears most frequently in the data set. A dataset can have more than one mode (bimodal, multimodal).\n",
        "\n",
        "Use: The mode is useful for categorical data or when the most common value needs to be identified. It doesn't consider all values but focuses on frequency.\n",
        "Sensitivity: It doesn’t consider the magnitude of other values; it just focuses on frequency.\n",
        "\n",
        "Example: In a dataset like [1, 1, 2, 2, 2, 3, 4], the mode is 2 because it appears most frequently.\n",
        "\n",
        "When to Use Each Measure:\n",
        "\n",
        "Mean: Use when data is symmetric and free of extreme outliers. It gives an overall central value.\n",
        "Median: Use when data is skewed or contains outliers. The median provides a better center for the majority of the data.\n",
        "Mode: Use for finding the most frequent value, especially in categorical data, or in cases where you're interested in the most typical or common value."
      ],
      "metadata": {
        "id": "fQ3ZbaddseFk"
      }
    },
    {
      "cell_type": "markdown",
      "source": [
        "Q3. Measure the three measures of central tendency for the given height data:\n",
        "[178,177,176,177,178.2,178,175,179,180,175,178.9,176.2,177,172.5,178,176.5]\n",
        "\n",
        "Answer\n",
        "\n",
        "For the given height data:\n",
        "\n",
        "Mean: 177.02 (approximately)\n",
        "Median: 177.0\n",
        "Mode: 177.0\n",
        "These values indicate that most of the heights cluster around 177 cm."
      ],
      "metadata": {
        "id": "mU8NVc6otGnk"
      }
    },
    {
      "cell_type": "code",
      "source": [
        "import numpy as np\n",
        "from scipy import stats\n",
        "\n",
        "# Given height data\n",
        "height_data = [178, 177, 176, 177, 178.2, 178, 175, 179, 180, 175, 178.9, 176.2, 177, 172.5, 178, 176.5]\n",
        "\n",
        "# Calculating mean, median, and mode\n",
        "mean_height = np.mean(height_data)\n",
        "median_height = np.median(height_data)\n",
        "mode_height = stats.mode(height_data)\n",
        "\n",
        "# mean_height, median_height, mode_height.mode[0]\n",
        "print(mean_height, median_height, mode_height)"
      ],
      "metadata": {
        "colab": {
          "base_uri": "https://localhost:8080/"
        },
        "id": "f3VnG3hhtput",
        "outputId": "6e196f34-4617-4df6-a025-21cfd3701fca"
      },
      "execution_count": null,
      "outputs": [
        {
          "output_type": "stream",
          "name": "stdout",
          "text": [
            "177.01875 177.0 ModeResult(mode=177.0, count=3)\n"
          ]
        }
      ]
    },
    {
      "cell_type": "markdown",
      "source": [
        "Q4. Find the standard deviation for the given data:\n",
        "[178,177,176,177,178.2,178,175,179,180,175,178.9,176.2,177,172.5,178,176.5]\n",
        "\n",
        "Answer:\n",
        "\n",
        "The standard deviation for the given height data is approximately 1.79. This indicates that the heights vary by about 1.79 cm from the mean on average."
      ],
      "metadata": {
        "id": "tpgz-esUuW50"
      }
    },
    {
      "cell_type": "code",
      "source": [
        "# Calculating the standard deviation for the given height data\n",
        "std_deviation = np.std(height_data)\n",
        "\n",
        "std_deviation\n"
      ],
      "metadata": {
        "colab": {
          "base_uri": "https://localhost:8080/"
        },
        "id": "Nz2nBk6lurST",
        "outputId": "77a4be0d-71b8-49b1-ead0-ac220795ff2f"
      },
      "execution_count": null,
      "outputs": [
        {
          "output_type": "execute_result",
          "data": {
            "text/plain": [
              "1.7885814036548633"
            ]
          },
          "metadata": {},
          "execution_count": 5
        }
      ]
    },
    {
      "cell_type": "markdown",
      "source": [
        "Q5. How are measures of dispersion such as range, variance, and standard deviation used to describe the spread of a dataset? Provide an example.\n",
        "\n",
        "Answer:\n",
        "\n",
        "\n",
        "Measures of dispersion, such as range, variance, and standard deviation, describe how spread out the data points are in a dataset. They give insight into the variability or consistency of the data.\n",
        "\n",
        "1. Range:\n",
        "\n",
        "Definition: The range is the difference between the maximum and minimum values in the dataset.\n",
        "\n",
        "Use: It gives a quick sense of how spread out the extreme values are, but it only considers the two extreme points, ignoring the distribution of the other data.\n",
        "\n",
        "Example: In a dataset of heights [175, 176, 177, 178, 179, 180], the range would be 180 - 175 = 5 cm.\n",
        "\n",
        "2. Variance:\n",
        "\n",
        "Definition: Variance measures the average squared deviation of each number from the mean. It reflects the overall spread of the data.\n",
        "Use: It gives an idea of how far data points are from the mean on average, but because it involves squaring the differences, it’s harder to interpret in the original units of measurement.\n",
        "\n",
        "Example: If the mean height is 177 cm, and individual heights are close to 177, the variance will be small. A larger variance would suggest more variability in the heights.\n",
        "\n",
        "3. Standard Deviation:\n",
        "\n",
        "Definition: Standard deviation is the square root of the variance. It brings the units back to the same scale as the original data, making it easier to interpret.\n",
        "\n",
        "Use: It gives an indication of how much, on average, the data points deviate from the mean. It’s commonly used because it’s in the same units as the data.\n",
        "\n",
        "Example: If the standard deviation of the heights is 1.79 cm (as in the earlier example), most heights will be within ±1.79 cm of the mean (177.02 cm), meaning that the data is relatively concentrated around the mean.\n",
        "\n",
        "Example Dataset:\n",
        "\n",
        "Consider two sets of exam scores for students:\n",
        "\n",
        "Class A: [80, 85, 90, 95, 100]\n",
        "\n",
        "Class B: [60, 70, 80, 90, 100]\n",
        "\n",
        "Range:\n",
        "\n",
        "Class A: 100 - 80 = 20\n",
        "Class B: 100 - 60 = 40\n",
        "The range of Class B is larger, indicating more spread.\n",
        "\n",
        "Variance:\n",
        "\n",
        "Class A has a smaller variance than Class B, meaning that Class A's scores are more tightly clustered around the mean, while Class B has more variability.\n",
        "\n",
        "Standard Deviation:\n",
        "\n",
        "Class A's standard deviation will be smaller than Class B’s, indicating that the scores in Class A are more consistent.\n",
        "\n",
        "Summary:\n",
        "\n",
        "Range: Provides a simple measure of spread but is affected by extreme values (outliers).\n",
        "Variance: Quantifies how much the data points differ from the mean on average, but in squared units.\n",
        "Standard Deviation: Gives an easy-to-interpret measure of spread in the same units as the data, widely used for understanding variability."
      ],
      "metadata": {
        "id": "I8oHicSvuxec"
      }
    },
    {
      "cell_type": "markdown",
      "source": [
        "Q6. What is a Venn diagram?\n",
        "\n",
        "Answer:\n",
        "\n",
        "\n",
        "A Venn diagram is a visual tool used to represent the relationships between different sets or groups of objects. It consists of overlapping circles, where each circle represents a set, and the overlaps show the common elements between the sets.\n",
        "\n",
        "Key Components:\n",
        "\n",
        "Circles: Each circle represents a set of items, numbers, or elements.\n",
        "Overlapping areas: The areas where circles overlap show elements that are common to the sets.\n",
        "\n",
        "Non-overlapping areas: These represent elements that are unique to a specific set.\n",
        "\n",
        "Uses of Venn Diagrams:\n",
        "\n",
        "Set Theory: To illustrate the relationships between sets, such as unions, intersections, and differences.\n",
        "\n",
        "Logic: To visualize logical relationships and solve problems involving \"AND\" and \"OR\" conditions.\n",
        "\n",
        "Comparisons: To show similarities and differences between two or more groups, categories, or concepts.\n",
        "\n",
        "Example:\n",
        "\n",
        "Consider two sets:\n",
        "\n",
        "Set A: {1, 2, 3, 4}\n",
        "Set B: {3, 4, 5, 6}\n",
        "\n",
        "A Venn diagram would show two overlapping circles. The overlap would contain {3, 4}, representing the elements common to both Set A and Set B. The non-overlapping parts would show {1, 2} for Set A and {5, 6} for Set B.\n",
        "\n",
        "Venn diagrams are often used in math, logic, statistics, and everyday problem-solving to visualize relationships between groups."
      ],
      "metadata": {
        "id": "vJcaLERZvU-c"
      }
    },
    {
      "cell_type": "markdown",
      "source": [
        "Q7. For the two given sets A = (2,3,4,5,6,7) & B = (0,2,6,8,10). Find:\n",
        "(i) A intersection B\n",
        "(ii) A ⋃ B\n",
        "\n",
        "Answer:\n",
        "\n",
        "\n",
        "For the two sets:\n",
        "\n",
        "A = {2, 3, 4, 5, 6, 7}\n",
        "B = {0, 2, 6, 8, 10}\n",
        "(i) A ∩ B (Intersection of A and B):\n",
        "The intersection consists of elements that are common to both sets A and B.\n",
        "\n",
        "A ∩ B = {2, 6}\n",
        "\n",
        "(ii) A ⋃ B (Union of A and B):\n",
        "The union consists of all elements from both sets, without duplication.\n",
        "\n",
        "A ⋃ B = {0, 2, 3, 4, 5, 6, 7, 8, 10}\n",
        "\n",
        "So:\n",
        "\n",
        "A ∩ B = {2, 6} and\n",
        "A ⋃ B = {0, 2, 3, 4, 5, 6, 7, 8, 10}"
      ],
      "metadata": {
        "id": "b2Ll7kvKvwEc"
      }
    },
    {
      "cell_type": "markdown",
      "source": [
        "Q8. What do you understand about skewness in data?\n",
        "\n",
        "Answer:\n",
        "\n",
        "Skewness refers to the asymmetry in the distribution of data values around its mean. In a perfectly symmetrical distribution, the left and right sides are mirror images of each other, and the skewness is zero. However, when data is not symmetrically distributed, the distribution may be skewed, meaning it has a longer tail on one side than the other.\n",
        "\n",
        "Types of Skewness:\n",
        "\n",
        "Positive Skewness (Right-Skewed):\n",
        "\n",
        "Description: In a positively skewed distribution, the tail on the right side (higher values) is longer than on the left. This means that the majority of the data points are clustered on the left (lower values), and there are a few extreme values (outliers) on the right.\n",
        "\n",
        "Effect on Central Tendency: The mean is greater than the median, and the mode is typically less than the median.\n",
        "\n",
        "Example: Income distribution is often positively skewed because most people earn in the lower to middle ranges, but a few individuals earn very high incomes.\n",
        "\n",
        "Negative Skewness (Left-Skewed):\n",
        "\n",
        "Description: In a negatively skewed distribution, the tail on the left side (lower values) is longer. The majority of the data points are concentrated on the right (higher values), with a few extreme low values.\n",
        "Effect on Central Tendency: The mean is less than the median, and the mode is typically greater than the median.\n",
        "\n",
        "Example: The distribution of ages at retirement may be negatively skewed, as most people retire at older ages, but a few individuals may retire very early.\n",
        "\n",
        "No Skewness (Symmetrical or Zero Skewness):\n",
        "\n",
        "Description: In a perfectly symmetrical distribution, the left and right sides are mirror images, and the mean, median, and mode are all equal.\n",
        "Example: A normal distribution (bell curve) has no skewness.\n",
        "\n",
        "Importance of Skewness:\n",
        "\n",
        "Influence on Statistical Measures: Skewness can affect measures like the mean, median, and standard deviation. In skewed distributions, the mean can be misleading as a measure of central tendency because it is affected by extreme values.\n",
        "\n",
        "Data Interpretation: Understanding skewness helps in interpreting the distribution of data, identifying outliers, and choosing appropriate statistical methods.\n",
        "\n",
        "For example, in highly skewed data, the median might be a better measure of central tendency than the mean."
      ],
      "metadata": {
        "id": "9bHz5i1hwWsk"
      }
    },
    {
      "cell_type": "markdown",
      "source": [
        "Q9. If a data is right skewed then what will be the position of median with respect to mean?\n",
        "\n",
        "Answer:\n",
        "\n",
        "If a data set is right-skewed (positively skewed), the distribution has a longer tail on the right (towards the higher values). In such cases:\n",
        "\n",
        "The mean is pulled to the right by the higher values (outliers) in the tail.\n",
        "The median is less affected by extreme values and remains closer to the bulk of the data.\n",
        "\n",
        "As a result, the median will be less than the mean in a right-skewed distribution.\n",
        "\n",
        "In summary:\n",
        "\n",
        "For a right-skewed distribution:\n",
        "\n",
        "Mean > Median\n"
      ],
      "metadata": {
        "id": "kNbVK_6Wwyv0"
      }
    },
    {
      "cell_type": "markdown",
      "source": [],
      "metadata": {
        "id": "VO-MBViXxZby"
      }
    },
    {
      "cell_type": "markdown",
      "source": [
        "Q10. Explain the difference between covariance and correlation. How are these measures used in statistical analysis?\n",
        "\n",
        "Answer:\n",
        "\n",
        "Covariance and correlation are both measures of the relationship between two variables, but they differ in how they quantify that relationship and in their interpretation. Here’s a breakdown of the differences:\n",
        "\n",
        "1. Covariance:\n",
        "\n",
        "Definition: Covariance measures the direction of the linear relationship between two variables. It indicates whether the variables increase or decrease together.\n",
        "\n",
        "Positive covariance: If the covariance is positive, the variables tend to increase together.\n",
        "\n",
        "Negative covariance: If it is negative, when one variable increases, the other tends to decrease.\n",
        "\n",
        "Units: The value of covariance is expressed in terms of the units of the two variables being compared, making it difficult to interpret directly or compare across datasets with different scales.\n",
        "\n",
        "Limitations: Covariance does not give the strength of the relationship between the variables, and its magnitude depends on the scale of the variables.\n",
        "\n",
        "2. Correlation:\n",
        "\n",
        "Definition: Correlation measures both the strength and direction of the linear relationship between two variables. It standardizes the covariance by dividing it by the product of the standard deviations of the variables.\n",
        "\n",
        "\n",
        "Correlation of +1: Perfect positive linear relationship.\n",
        "Correlation of -1: Perfect negative linear relationship.\n",
        "Correlation of 0: No linear relationship.\n",
        "\n",
        "\n",
        "Differences in Usage:\n",
        "\n",
        "Covariance:\n",
        "\n",
        "Primarily used to determine the direction of the relationship between two variables (i.e., whether they tend to increase or decrease together).\n",
        "Covariance is difficult to interpret when comparing variables with different units or scales, as it doesn’t normalize the values.\n",
        "Covariance is often used in portfolio theory and risk management to understand how assets move together.\n",
        "\n",
        "Correlation:\n",
        "\n",
        "Used to measure both the strength and direction of the linear relationship between two variables.\n",
        "\n",
        "Because it is standardized and dimensionless, it’s easier to interpret and compare across different datasets.\n",
        "\n",
        "Correlation is widely used in statistical analysis to identify the degree of association between variables in fields like economics, biology, and social sciences.\n",
        "\n",
        "Example:\n",
        "\n",
        "Consider two variables: temperature (in °C) and ice cream sales (in dollars). If temperature increases, ice cream sales might also increase.\n",
        "\n",
        "Covariance would tell you that as temperature increases, ice cream sales tend to increase (positive covariance), but the magnitude would depend on the units of the variables (degrees Celsius and dollars).\n",
        "\n",
        "Correlation would provide a value between -1 and 1 that quantifies how strong this relationship is, independent of the units. For example, a correlation of +0.8 would indicate a strong positive linear relationship.\n",
        "\n",
        "To conclude,\n",
        "Covariance tells you if two variables move together (positive or negative relationship) but is difficult to interpret due to its dependence on the scale of the variables.\n",
        "\n",
        "Correlation standardizes this relationship, giving a clearer picture of the strength and direction of the relationship, with values between -1 and +1, making it more interpretable and comparable across datasets."
      ],
      "metadata": {
        "id": "BPEuCcgrxILk"
      }
    },
    {
      "cell_type": "markdown",
      "source": [
        "Q11. What is the formula for calculating the sample mean? Provide an example calculation for a dataset.\n",
        "\n",
        "Answer:\n",
        "\n",
        "\n",
        "The formula for calculating the sample mean (often denoted as\n",
        "𝑥\n",
        "ˉ\n",
        "x\n",
        "ˉ\n",
        " ) is:\n",
        "\n",
        "𝑥\n",
        "ˉ\n",
        "=\n",
        "∑\n",
        "𝑖\n",
        "=\n",
        "1\n",
        "𝑛\n",
        "𝑥\n",
        "𝑖\n",
        "𝑛\n",
        "x\n",
        "ˉ\n",
        " =\n",
        "n\n",
        "∑\n",
        "i=1\n",
        "n\n",
        "​\n",
        " x\n",
        "i\n",
        "​\n",
        "\n",
        "​\n",
        "\n",
        "Where:\n",
        "\n",
        "𝑥\n",
        "ˉ\n",
        "x\n",
        "ˉ\n",
        "  = sample mean\n",
        "𝑥\n",
        "𝑖\n",
        "x\n",
        "i\n",
        "​\n",
        "  = each individual observation in the sample\n",
        "𝑛\n",
        "n = number of observations in the sample\n",
        "∑\n",
        "∑ = summation symbol, which means to add up all the values"
      ],
      "metadata": {
        "id": "Wj8MuxRfyAWs"
      }
    },
    {
      "cell_type": "markdown",
      "source": [
        "Q12. For a normal distribution data what is the relationship between its measure of central tendency?\n",
        "\n",
        "Answer:\n",
        "\n",
        "In a normal distribution, the measures of central tendency (mean, median, and mode) have a specific relationship due to the symmetric nature of the distribution. Here’s how they relate to each other:\n",
        "\n",
        "\n",
        "Relationship in a Normal Distribution:\n",
        "\n",
        "Mean = Median = Mode: In a perfectly normal distribution, all three measures of central tendency are equal and located at the same point on the distribution curve.\n",
        "\n",
        "Visualization:\n",
        "If you were to graph a normal distribution (bell-shaped curve):\n",
        "\n",
        "The peak (highest point) of the curve would represent the mean, median, and mode.\n",
        "The distribution is symmetric around this central point, meaning that the data values are evenly distributed on both sides.\n",
        "\n",
        "In summary, in a normal distribution, the mean, median, and mode are all equal, indicating a perfectly balanced and symmetrical distribution of data around the central value."
      ],
      "metadata": {
        "id": "pMObrjNkyfo7"
      }
    },
    {
      "cell_type": "markdown",
      "source": [
        "Q13. How is covariance different from correlation?\n",
        "\n",
        "Answer:\n",
        "\n",
        "Covariance and correlation are both statistical measures that describe the relationship between two variables, but they differ in several key aspects. Here’s a detailed comparison:\n",
        "\n",
        "Covariance:\n",
        "\n",
        "Measures the degree to which two variables change together. It indicates whether an increase in one variable tends to be associated with an increase or decrease in another variable.\n",
        "\n",
        "Correlation:\n",
        "\n",
        "Measures both the strength and direction of the linear relationship between two variables. It standardizes the covariance by dividing it by the product of the standard deviations of the variables.\n",
        "\n",
        "Covariance:\n",
        "Measures the degree to which two variables change together. It indicates whether an increase in one variable tends to be associated with an increase or decrease in another variable.\n",
        "\n",
        "Correlation:\n",
        "Measures both the strength and direction of the linear relationship between two variables. It standardizes the covariance by dividing it by the product of the standard deviations of the variables.\n"
      ],
      "metadata": {
        "id": "Qx6gH5vlzIKM"
      }
    },
    {
      "cell_type": "markdown",
      "source": [
        "Q14. How do outliers affect measures of central tendency and dispersion? Provide an example.\n",
        "\n",
        "Answer:\n",
        "\n",
        "\n",
        "Outliers are data points that significantly differ from the other observations in a dataset. They can have a considerable impact on measures of central tendency (mean, median, and mode) and measures of dispersion (range, variance, and standard deviation). Here's how outliers affect these measures:\n",
        "\n",
        "Effects on Measures of Central Tendency:\n",
        "Mean:\n",
        "\n",
        "Impact: Outliers can skew the mean significantly, pulling it towards the extreme value. This is because the mean takes into account all values in the dataset.\n",
        "Example: Consider the dataset: [10, 12, 14, 15, 16, 100].\n",
        "The mean is 34.5\n",
        "(10+12+14+15+16+100)/6=34.5.\n",
        "\n",
        "The outlier (100) has greatly increased the mean, making it unrepresentative of the majority of the data.\n",
        "\n",
        "Median:\n",
        "\n",
        "Impact: The median, which is the middle value when the data is ordered, is less affected by outliers. It remains a more robust measure of central tendency in the presence of outliers.\n",
        "Example: Using the same dataset [10, 12, 14, 15, 16, 100]:\n",
        "When ordered: [10, 12, 14, 15, 16, 100], the median is the average of the 3rd and 4th values: 14.5\n",
        "\n",
        "(14+15)/2=14.5\n",
        "\n",
        "The median is not significantly impacted by the outlier (100) and remains a better representation of the dataset's central tendency.\n",
        "\n",
        "Mode:\n",
        "\n",
        "Impact: The mode (the most frequently occurring value) may be unaffected by outliers, especially if the outlier does not occur frequently.\n",
        "Example: In the dataset [10, 12, 14, 15, 15, 100], the mode is 15, which remains unaffected by the outlier.\n",
        "\n",
        "Effects on Measures of Dispersion:\n",
        "Range:\n",
        "\n",
        "Impact: Outliers can greatly increase the range, as the range is calculated as the difference between the maximum and minimum values.\n",
        "Example: For the dataset [10, 12, 14, 15, 16, 100], the range is 90\n",
        "\n",
        "100−10=90. The presence of the outlier (100) significantly increases the range\n",
        "compared to a dataset without the outlier.\n",
        "\n",
        "Variance and Standard Deviation:\n",
        "\n",
        "Impact: Outliers can inflate both variance and standard deviation, as they increase the average squared deviation from the mean. This makes these measures less representative of the data's variability.\n",
        "\n",
        "Example: Using the dataset [10, 12, 14, 15, 16, 100]:\n",
        "\n",
        "Without the outlier, the variance is relatively low, indicating less spread. With the outlier included, the variance and standard deviation will be much higher, reflecting the increased spread caused by the extreme value.\n",
        "\n",
        "Hence,\n",
        "Mean: Highly sensitive to outliers; can be misleading.\n",
        "Median: More robust measure; less affected by outliers.\n",
        "Mode: Generally unaffected by outliers, depending on frequency.\n",
        "Range: Can be greatly inflated by outliers.\n",
        "Variance/Standard Deviation: Increased due to outliers, making them less representative of the dataset's variability.\n",
        "Conclusion:\n",
        "Outliers can skew the interpretation of a dataset, making it crucial to identify and consider their impact when analyzing data. In cases with significant outliers, using median and interquartile range (IQR) for central tendency and dispersion, respectively, may provide a clearer picture of the data's characteristics."
      ],
      "metadata": {
        "id": "V64Y9oFtz7jU"
      }
    },
    {
      "cell_type": "markdown",
      "source": [
        "Thank You!"
      ],
      "metadata": {
        "id": "IRfocmjj0tWz"
      }
    }
  ]
}