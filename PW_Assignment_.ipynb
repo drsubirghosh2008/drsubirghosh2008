{
  "nbformat": 4,
  "nbformat_minor": 0,
  "metadata": {
    "colab": {
      "provenance": [],
      "authorship_tag": "ABX9TyPd1ARKiOTa39xWkezgo8IE",
      "include_colab_link": true
    },
    "kernelspec": {
      "name": "python3",
      "display_name": "Python 3"
    },
    "language_info": {
      "name": "python"
    }
  },
  "cells": [
    {
      "cell_type": "markdown",
      "metadata": {
        "id": "view-in-github",
        "colab_type": "text"
      },
      "source": [
        "<a href=\"https://colab.research.google.com/github/drsubirghosh2008/drsubirghosh2008/blob/main/PW_Assignment_.ipynb\" target=\"_parent\"><img src=\"https://colab.research.google.com/assets/colab-badge.svg\" alt=\"Open In Colab\"/></a>"
      ]
    },
    {
      "cell_type": "markdown",
      "source": [
        "Consider following code to answer further questions:\n",
        "import pandas as pd\n",
        "course_name = [‘Data Science’, ‘Machine Learning’, ‘Big Data’, ‘Data Engineer’]\n",
        "duration = [2,3,6,4]\n",
        "df = pd.DataFrame(data = {‘course_name’ : course_name, ‘duration’ : duration})"
      ],
      "metadata": {
        "id": "PX-hOOLYu1Op"
      }
    },
    {
      "cell_type": "markdown",
      "source": [
        "Q1. Write a code to print the data present in the second row of the dataframe, df.\n",
        "\n",
        "Answer:\n"
      ],
      "metadata": {
        "id": "wHts9qmdw1-h"
      }
    },
    {
      "cell_type": "code",
      "source": [
        "import pandas as pd\n",
        "\n",
        "course_name = ['Data Science', 'Machine Learning', 'Big Data', 'Data Engineer']\n",
        "duration = [2, 3, 6, 4]\n",
        "\n",
        "df = pd.DataFrame(data={'course_name': course_name, 'duration': duration})\n"
      ],
      "metadata": {
        "id": "-8-aJoxWxJZg"
      },
      "execution_count": 2,
      "outputs": []
    },
    {
      "cell_type": "code",
      "source": [
        "print(df)"
      ],
      "metadata": {
        "colab": {
          "base_uri": "https://localhost:8080/"
        },
        "id": "ZNpkdjEbxmPI",
        "outputId": "682cb882-e82a-47da-bfad-55d2efbbd0ab"
      },
      "execution_count": 4,
      "outputs": [
        {
          "output_type": "stream",
          "name": "stdout",
          "text": [
            "        course_name  duration\n",
            "0      Data Science         2\n",
            "1  Machine Learning         3\n",
            "2          Big Data         6\n",
            "3     Data Engineer         4\n"
          ]
        }
      ]
    },
    {
      "cell_type": "code",
      "source": [
        "# Print the data in the second row (index 1)\n",
        "print(df.iloc[1])\n"
      ],
      "metadata": {
        "colab": {
          "base_uri": "https://localhost:8080/"
        },
        "id": "GBxmP1uLxigI",
        "outputId": "552b33f5-fc52-417d-d5be-0a5523fc39c2"
      },
      "execution_count": 3,
      "outputs": [
        {
          "output_type": "stream",
          "name": "stdout",
          "text": [
            "course_name    Machine Learning\n",
            "duration                      3\n",
            "Name: 1, dtype: object\n"
          ]
        }
      ]
    },
    {
      "cell_type": "markdown",
      "source": [
        "Q2. What is the difference between the functions loc and iloc in pandas.DataFrame?\n",
        "\n",
        "Answer:\n",
        "\n",
        "In Pandas, .loc and .iloc are used to access specific rows and columns within a DataFrame, but they operate in different ways:\n",
        "\n",
        ".loc\n",
        "\n",
        "Label-Based Indexing: .loc is used to access rows and columns based on labels (index names).\n",
        "\n",
        "Inclusive: Both the start and end points are included if a range is specified.\n",
        "Syntax: df.loc[row_label, column_label]"
      ],
      "metadata": {
        "id": "qQuOXYujxzeA"
      }
    },
    {
      "cell_type": "code",
      "source": [
        "# Example:\n",
        "\n",
        "df.loc[1, 'course_name']  # Accesses the 'course_name' of the row with label 1\n"
      ],
      "metadata": {
        "colab": {
          "base_uri": "https://localhost:8080/",
          "height": 36
        },
        "id": "mnAEMvgDy02p",
        "outputId": "d8f756d7-ded7-4309-ff46-ea1e2035d09f"
      },
      "execution_count": 5,
      "outputs": [
        {
          "output_type": "execute_result",
          "data": {
            "text/plain": [
              "'Machine Learning'"
            ],
            "application/vnd.google.colaboratory.intrinsic+json": {
              "type": "string"
            }
          },
          "metadata": {},
          "execution_count": 5
        }
      ]
    },
    {
      "cell_type": "markdown",
      "source": [
        "Integer-Based Indexing: .iloc is used to access rows and columns based on integer positions, similar to standard Python indexing.\n",
        "\n",
        "Exclusive Range: For ranges, .iloc follows Python’s zero-based indexing, so the endpoint is exclusive.\n",
        "\n",
        "Syntax: df.iloc[row_position, column_position]"
      ],
      "metadata": {
        "id": "uobUVQ8My97X"
      }
    },
    {
      "cell_type": "code",
      "source": [
        "df.iloc[1, 0]  # Accesses the element in the second row, first column (index 1, position 0)\n"
      ],
      "metadata": {
        "colab": {
          "base_uri": "https://localhost:8080/",
          "height": 36
        },
        "id": "mwbaBr07zAtf",
        "outputId": "d95b4483-f9ba-461c-9dab-ffd446e7f3f0"
      },
      "execution_count": 6,
      "outputs": [
        {
          "output_type": "execute_result",
          "data": {
            "text/plain": [
              "'Machine Learning'"
            ],
            "application/vnd.google.colaboratory.intrinsic+json": {
              "type": "string"
            }
          },
          "metadata": {},
          "execution_count": 6
        }
      ]
    },
    {
      "cell_type": "markdown",
      "source": [
        "Q3. Reindex the given dataframe using a variable, reindex = [3,0,1,2] and store it in the variable, new_df then find the output for both new_df.loc[2] and new_df.iloc[2].\n",
        "\n",
        "Did you observe any difference in both the outputs? If so then explain it.\n",
        "Consider the below code to answer further questions:\n",
        "\n",
        "import pandas as pd\n",
        "import numpy as np\n",
        "columns = ['column_1', 'column_2', 'column_3', 'column_4', 'column_5', 'column_6']\n",
        "indices = [1,2,3,4,5,6]\n",
        "#Creating a dataframe:\n",
        "df1 = pd.DataFrame(np.random.rand(6,6), columns = columns, index = indices)"
      ],
      "metadata": {
        "id": "k8bbBbA9zRdn"
      }
    },
    {
      "cell_type": "markdown",
      "source": [
        "Code Implementation\n",
        "Reindex df using [3, 0, 1, 2] and assign it to new_df.\n",
        "Use .loc and .iloc to access the row with index 2."
      ],
      "metadata": {
        "id": "RGNiG--G0Mfw"
      }
    },
    {
      "cell_type": "code",
      "source": [
        "import pandas as pd\n",
        "import numpy as np\n",
        "\n",
        "# Original DataFrame\n",
        "course_name = ['Data Science', 'Machine Learning', 'Big Data', 'Data Engineer']\n",
        "duration = [2, 3, 6, 4]\n",
        "df = pd.DataFrame(data={'course_name': course_name, 'duration': duration})\n",
        "\n",
        "# Reindexing\n",
        "reindex = [3, 0, 1, 2]\n",
        "new_df = df.reindex(reindex)\n",
        "\n",
        "# Accessing the row using .loc and .iloc\n",
        "loc_output = new_df.loc[2]\n",
        "iloc_output = new_df.iloc[2]\n",
        "\n",
        "print(\"Output of new_df.loc[2]:\")\n",
        "print(loc_output)\n",
        "print(\"\\nOutput of new_df.iloc[2]:\")\n",
        "print(iloc_output)"
      ],
      "metadata": {
        "colab": {
          "base_uri": "https://localhost:8080/"
        },
        "id": "B_OMCicg0Okv",
        "outputId": "c49046ff-32ea-481d-9eac-0787ed7ada6a"
      },
      "execution_count": 7,
      "outputs": [
        {
          "output_type": "stream",
          "name": "stdout",
          "text": [
            "Output of new_df.loc[2]:\n",
            "course_name    Big Data\n",
            "duration              6\n",
            "Name: 2, dtype: object\n",
            "\n",
            "Output of new_df.iloc[2]:\n",
            "course_name    Machine Learning\n",
            "duration                      3\n",
            "Name: 1, dtype: object\n"
          ]
        }
      ]
    },
    {
      "cell_type": "markdown",
      "source": [
        "Explanation of the Difference in Outputs:\n",
        "\n",
        "1. new_df.loc[2]:\n",
        "\n",
        ".loc accesses rows based on the index label, so new_df.loc[2] will return the row where the original index label is 2, regardless of its position in new_df.\n",
        "2. new_df.iloc[2]:\n",
        ".iloc accesses rows based on position, so new_df.iloc[2] will return the row at the third position (position 2) in the reindexed DataFrame new_df, which corresponds to the index label 1 after reindexing.\n",
        "\n",
        "Observed Difference:\n",
        "\n",
        "Yes, there’s a difference in outputs. The difference arises because .loc uses the index label, while .iloc uses the row’s numerical position, so they may return different rows after reindexing."
      ],
      "metadata": {
        "id": "Bh15qrKv0kjH"
      }
    },
    {
      "cell_type": "markdown",
      "source": [
        "Q4. Write a code to find the following statistical measurements for the above dataframe df1:\n",
        "(i) mean of each and every column present in the dataframe.\n",
        "(ii) standard deviation of column, ‘column_2’\n",
        "\n",
        "Answer:\n",
        "\n",
        "To find the mean of each column and the standard deviation of a specific column in df1, you can use the .mean() and .std() functions in Pandas."
      ],
      "metadata": {
        "id": "6V3hmwsS05mG"
      }
    },
    {
      "cell_type": "markdown",
      "source": [
        "To find the mean of each column and the standard deviation of a specific column in df1, you can use the .mean() and .std() functions in Pandas."
      ],
      "metadata": {
        "id": "8LQVE7dB1FuW"
      }
    },
    {
      "cell_type": "code",
      "source": [
        "import pandas as pd\n",
        "import numpy as np\n",
        "\n",
        "# Define columns and indices\n",
        "columns = ['column_1', 'column_2', 'column_3', 'column_4', 'column_5', 'column_6']  # Example column names\n",
        "indices = ['row_1', 'row_2', 'row_3', 'row_4', 'row_5', 'row_6']  # Example row indices\n",
        "\n",
        "# Create DataFrame\n",
        "df1 = pd.DataFrame(np.random.rand(6, 6), columns=columns, index=indices)\n",
        "\n",
        "# Calculating the mean of each column\n",
        "column_means = df1.mean()\n",
        "print(\"Mean of each column:\")\n",
        "print(column_means)\n",
        "\n",
        "# Calculating the standard deviation of 'column_2'\n",
        "column_2_std = df1['column_2'].std()\n",
        "print(\"\\nStandard deviation of 'column_2':\")\n",
        "print(column_2_std)"
      ],
      "metadata": {
        "colab": {
          "base_uri": "https://localhost:8080/"
        },
        "id": "VHQhpXHx2wM-",
        "outputId": "8b1cd507-79db-4107-c464-47645ae96632"
      },
      "execution_count": 10,
      "outputs": [
        {
          "output_type": "stream",
          "name": "stdout",
          "text": [
            "Mean of each column:\n",
            "column_1    0.522697\n",
            "column_2    0.454604\n",
            "column_3    0.450951\n",
            "column_4    0.431223\n",
            "column_5    0.529556\n",
            "column_6    0.665344\n",
            "dtype: float64\n",
            "\n",
            "Standard deviation of 'column_2':\n",
            "0.331252386166281\n"
          ]
        }
      ]
    },
    {
      "cell_type": "markdown",
      "source": [
        "Explanation:\n",
        "\n",
        "Mean of each column: df1.mean() computes the mean of each column in df1.\n",
        "Standard deviation of column_2: df1['column_2'].std() calculates the standard deviation for column_2."
      ],
      "metadata": {
        "id": "PjPxEW5e1nXu"
      }
    },
    {
      "cell_type": "markdown",
      "source": [
        "Q5. Replace the data present in the second row of column, ‘column_2’ by a string variable then find the\n",
        "mean of column, column_2.\n",
        "If you are getting errors in executing it then explain why.\n",
        "[Hint: To replace the data use df1.loc[] and equate this to string data of your choice.]\n",
        "df1 = pd.DataFrame(np.random.rand(6,6), columns = columns, index = indices)\n",
        "\n",
        "Answer:\n",
        "\n"
      ],
      "metadata": {
        "id": "-vLeQUIM22tW"
      }
    },
    {
      "cell_type": "code",
      "source": [
        "import pandas as pd\n",
        "import numpy as np\n",
        "\n",
        "# Initial DataFrame\n",
        "columns = ['column_1', 'column_2', 'column_3', 'column_4', 'column_5', 'column_6']\n",
        "indices = [1, 2, 3, 4, 5, 6]\n",
        "df1 = pd.DataFrame(np.random.rand(6, 6), columns=columns, index=indices)\n",
        "\n",
        "# Replacing the second row in 'column_2' with a string\n",
        "df1.loc[2, 'column_2'] = \"string_value\"\n",
        "\n",
        "# Attempting to calculate the mean of 'column_2'\n",
        "try:\n",
        "    column_2_mean = df1['column_2'].mean()\n",
        "    print(\"Mean of 'column_2':\", column_2_mean)\n",
        "except Exception as e:\n",
        "    print(\"Error:\", e)\n"
      ],
      "metadata": {
        "colab": {
          "base_uri": "https://localhost:8080/"
        },
        "id": "-PU6cB1C3lBu",
        "outputId": "ceb2c444-e9c5-416a-ec47-f10bc45ccdd1"
      },
      "execution_count": 11,
      "outputs": [
        {
          "output_type": "stream",
          "name": "stdout",
          "text": [
            "Error: unsupported operand type(s) for +: 'float' and 'str'\n"
          ]
        },
        {
          "output_type": "stream",
          "name": "stderr",
          "text": [
            "<ipython-input-11-519108087b2d>:10: FutureWarning: Setting an item of incompatible dtype is deprecated and will raise an error in a future version of pandas. Value 'string_value' has dtype incompatible with float64, please explicitly cast to a compatible dtype first.\n",
            "  df1.loc[2, 'column_2'] = \"string_value\"\n"
          ]
        }
      ]
    },
    {
      "cell_type": "markdown",
      "source": [
        "Explanation of the Error:\n",
        "\n",
        "To run this code,  encounter an error when calculating the mean of column_2. This happens because:\n",
        "\n",
        "Pandas cannot calculate the mean of a column that contains mixed data types (e.g., numeric and string values).\n",
        "\n",
        "The presence of a string in column_2 makes the entire column a mixed-type or object column, so numerical operations like mean() will fail.\n",
        "To resolve this issue,  either:\n",
        "\n",
        "Remove or ignore non-numeric values in the column before calculating the mean.\n",
        "Replace the string with a numeric value if  needed all data to be numeric for calculations."
      ],
      "metadata": {
        "id": "Iuz0PCk139Be"
      }
    },
    {
      "cell_type": "code",
      "source": [
        "import pandas as pd\n",
        "import numpy as np\n",
        "\n",
        "# Initialize the DataFrame again for context\n",
        "columns = ['column_1', 'column_2', 'column_3', 'column_4', 'column_5', 'column_6']\n",
        "indices = [1, 2, 3, 4, 5, 6]\n",
        "df1 = pd.DataFrame(np.random.rand(6, 6), columns=columns, index=indices)\n",
        "\n",
        "# Replace the data in the second row of 'column_2' with a string\n",
        "df1.loc[2, 'column_2'] = 'string_value'\n",
        "\n",
        "# Try to calculate the mean of 'column_2'\n",
        "try:\n",
        "    column_2_mean = df1['column_2'].mean()\n",
        "    print(\"Mean of column_2:\", column_2_mean)\n",
        "except Exception as e:\n",
        "    print(\"Error:\", e)\n"
      ],
      "metadata": {
        "colab": {
          "base_uri": "https://localhost:8080/"
        },
        "id": "MJzX_l5t3pRl",
        "outputId": "d089a25b-0ea8-403f-d73e-290a2f729279"
      },
      "execution_count": 12,
      "outputs": [
        {
          "output_type": "stream",
          "name": "stdout",
          "text": [
            "Error: unsupported operand type(s) for +: 'float' and 'str'\n"
          ]
        },
        {
          "output_type": "stream",
          "name": "stderr",
          "text": [
            "<ipython-input-12-8ee60b8f5fd3>:10: FutureWarning: Setting an item of incompatible dtype is deprecated and will raise an error in a future version of pandas. Value 'string_value' has dtype incompatible with float64, please explicitly cast to a compatible dtype first.\n",
            "  df1.loc[2, 'column_2'] = 'string_value'\n"
          ]
        }
      ]
    },
    {
      "cell_type": "markdown",
      "source": [
        "Explanation\n",
        "To run this code, get an error when trying to calculate the mean of column_2. This error occurs because:\n",
        "\n",
        "Data Type Issue: The mean calculation requires numeric data, but introducing a string (like 'string_value') in column_2 changes its data type to an \"object\" column. Pandas cannot calculate the mean on a column containing non-numeric data.\n",
        "\n",
        "Solution:\n",
        "\n",
        "If  needed to perform calculations like the mean, ensure all values in the column are numeric.  replace the string with a numeric value or remove rows with non-numeric values before computing the mean:"
      ],
      "metadata": {
        "id": "kE1rrj7j3xY2"
      }
    },
    {
      "cell_type": "code",
      "source": [
        "# Optionally, replace the string with a numeric value\n",
        "df1.loc[2, 'column_2'] = np.nan  # or another numeric value\n",
        "\n",
        "# Now calculate the mean of 'column_2' with NaN handling\n",
        "column_2_mean = df1['column_2'].mean()\n",
        "print(\"\\nMean of column_2 after replacing with NaN:\", column_2_mean)\n"
      ],
      "metadata": {
        "colab": {
          "base_uri": "https://localhost:8080/"
        },
        "id": "aCQriEYV31W-",
        "outputId": "ef982ad9-1c9c-4abb-e5b7-866a69283b5d"
      },
      "execution_count": 13,
      "outputs": [
        {
          "output_type": "stream",
          "name": "stdout",
          "text": [
            "\n",
            "Mean of column_2 after replacing with NaN: 0.3936616378548295\n"
          ]
        }
      ]
    },
    {
      "cell_type": "markdown",
      "source": [
        "Q6. What do you understand about the windows function in pandas and list the types of windows functions?\n",
        "\n",
        "Answer:\n",
        "\n",
        "In Pandas, window functions are used to perform calculations across a set or \"window\" of data points in a DataFrame. These functions allow for rolling or expanding computations, making them useful for tasks like moving averages, cumulative sums, and more complex time-series analysis. Windows can be defined by a fixed size or can expand to include all previous data points up to the current one.\n",
        "\n",
        "Types of Window Functions\n",
        "\n",
        "Rolling Windows:\n",
        "\n",
        "Operates on a fixed-sized window that moves across the data.\n",
        "Commonly used for calculating rolling statistics like moving averages.\n",
        "Example: .rolling(window=3).mean() calculates the mean over a window of 3 values.\n",
        "\n",
        "Expanding Windows:\n",
        "\n",
        "Expands the window to include all data points from the beginning up to the current point.\n",
        "\n",
        "Useful for cumulative calculations like cumulative sum or cumulative max.\n",
        "Example: .expanding().sum() calculates the cumulative sum up to each point.\n",
        "\n",
        "Exponentially Weighted Windows:\n",
        "\n",
        "Uses an exponentially weighted moving window, giving more importance to recent observations.\n",
        "\n",
        "Useful for smoothing time series data while giving more weight to recent data points.\n",
        "\n",
        "Example: .ewm(span=3).mean() calculates an exponentially weighted moving average with a smoothing factor.\n",
        "\n",
        "Key Uses of Window Functions\n",
        "\n",
        "Window functions are often used in financial analysis, stock prices, moving averages, smoothing noisy data, and analyzing seasonal trends in time series."
      ],
      "metadata": {
        "id": "xxg_HsKs4pUu"
      }
    },
    {
      "cell_type": "markdown",
      "source": [
        "\n",
        "Q7. Write a code to print only the current month and year at the time of answering this question.\n",
        "[Hint: Use pandas.datetime function]\n",
        "\n",
        "Answer:"
      ],
      "metadata": {
        "id": "KW5Cymqp49bl"
      }
    },
    {
      "cell_type": "code",
      "source": [
        "import pandas as pd\n",
        "\n",
        "# Get current date and time\n",
        "current_date = pd.Timestamp.now()\n",
        "\n",
        "# Extract and print only the current month and year\n",
        "print(\"Current month:\", current_date.month)\n",
        "print(\"Current year:\", current_date.year)\n"
      ],
      "metadata": {
        "colab": {
          "base_uri": "https://localhost:8080/"
        },
        "id": "360r80qV5H6d",
        "outputId": "2c8be2ad-5c00-4c9e-c21c-6bab2896b710"
      },
      "execution_count": 14,
      "outputs": [
        {
          "output_type": "stream",
          "name": "stdout",
          "text": [
            "Current month: 10\n",
            "Current year: 2024\n"
          ]
        }
      ]
    },
    {
      "cell_type": "markdown",
      "source": [
        "Q8. Write a Python program that takes in two dates as input (in the format YYYY-MM-DD) and calculates the difference between them in days, hours, and minutes using Pandas time delta. The program should prompt the user to enter the dates and display the result.\n",
        "\n",
        "Answer:\n"
      ],
      "metadata": {
        "id": "iFhYeQkO5m3_"
      }
    },
    {
      "cell_type": "code",
      "source": [
        "import pandas as pd\n",
        "\n",
        "# Prompt user to input two dates\n",
        "date_1_input = input(\"Enter the first date (YYYY-MM-DD): \")\n",
        "date_2_input = input(\"Enter the second date (YYYY-MM-DD): \")\n",
        "\n",
        "# Convert input strings to datetime objects\n",
        "date_1 = pd.to_datetime(date_1_input)\n",
        "date_2 = pd.to_datetime(date_2_input)\n",
        "\n",
        "# Calculate the difference between the two dates\n",
        "difference = date_2 - date_1\n",
        "\n",
        "# Extract days, seconds from the timedelta\n",
        "days = difference.days\n",
        "seconds = difference.seconds\n",
        "\n",
        "# Calculate hours and minutes from seconds\n",
        "hours = seconds // 3600\n",
        "minutes = (seconds % 3600) // 60\n",
        "\n",
        "# Display the results\n",
        "print(f\"Difference: {days} days, {hours} hours, and {minutes} minutes.\")"
      ],
      "metadata": {
        "id": "9xFZYhwB8KWN"
      },
      "execution_count": null,
      "outputs": []
    },
    {
      "cell_type": "code",
      "source": [],
      "metadata": {
        "id": "O15b9FlA7XUd"
      },
      "execution_count": null,
      "outputs": []
    },
    {
      "cell_type": "markdown",
      "source": [
        "Q9. Write a Python program that reads a CSV file containing categorical data and converts a specifiedcolumn to a categorical data type. The program should prompt the user to enter the file path, column name, and category order, and then display the sorted data."
      ],
      "metadata": {
        "id": "ek8E6m9Q6T51"
      }
    },
    {
      "cell_type": "code",
      "source": [
        "import pandas as pd\n",
        "\n",
        "# Function to read CSV and convert specified column to categorical\n",
        "def convert_to_categorical(file_path, column_name, category_order):\n",
        "    # Read the CSV file into a DataFrame\n",
        "    df = pd.read_csv(file_path)\n",
        "\n",
        "    # Check if the specified column exists\n",
        "    if column_name not in df.columns:\n",
        "        print(f\"Column '{column_name}' does not exist in the CSV file.\")\n",
        "        return\n",
        "\n",
        "    # Convert the specified column to categorical type with ordered categories\n",
        "    df[column_name] = pd.Categorical(df[column_name], categories=category_order, ordered=True)\n",
        "\n",
        "    # Sort the DataFrame based on the categorical column\n",
        "    sorted_df = df.sort_values(by=column_name)\n",
        "\n",
        "    # Display the sorted DataFrame\n",
        "    print(\"\\nSorted Data:\")\n",
        "    print(sorted_df)\n",
        "\n",
        "# Main function\n",
        "if __name__ == \"__main__\":\n",
        "    # Prompt user for inputs\n",
        "    file_path = input(\"Enter the CSV file path: \")\n",
        "    column_name = input(\"Enter the column name to convert: \")\n",
        "    category_order = input(\"Enter the category order (comma-separated): \").split(',')\n",
        "\n",
        "    # Strip whitespace from category order\n",
        "    category_order = [category.strip() for category in category_order]\n",
        "\n",
        "    # Call the function to convert and display the sorted data\n",
        "    convert_to_categorical(file_path, column_name, category_order)"
      ],
      "metadata": {
        "id": "I0Cb0csd8o90"
      },
      "execution_count": null,
      "outputs": []
    },
    {
      "cell_type": "markdown",
      "source": [
        "Q10. Write a Python program that reads a CSV file containing sales data for different products and visualizes the data using a stacked bar chart to show the sales of each product category over time. The program should prompt the user to enter the file path and display the chart.\n",
        "\n",
        "Answer:\n",
        "\n",
        "\n",
        "To visualize sales data from a CSV file using a stacked bar chart, you can use the pandas library to read the data and matplotlib or seaborn for plotting. Below is a Python program that accomplishes this task:"
      ],
      "metadata": {
        "id": "pGLYIRon83WM"
      }
    },
    {
      "cell_type": "code",
      "source": [
        "import pandas as pd\n",
        "import matplotlib.pyplot as plt\n",
        "\n",
        "# Function to read CSV and plot stacked bar chart\n",
        "def plot_sales_data(file_path):\n",
        "    # Read the CSV file into a DataFrame\n",
        "    df = pd.read_csv(file_path)\n",
        "\n",
        "    # Check the DataFrame structure\n",
        "    print(\"Data Preview:\")\n",
        "    print(df.head())\n",
        "\n",
        "    # Ensure the DataFrame has the correct columns\n",
        "    if 'Date' not in df.columns or 'Product Category' not in df.columns or 'Sales' not in df.columns:\n",
        "        print(\"CSV must contain 'Date', 'Product Category', and 'Sales' columns.\")\n",
        "        return\n",
        "\n",
        "    # Convert 'Date' column to datetime format\n",
        "    df['Date'] = pd.to_datetime(df['Date'])\n",
        "\n",
        "    # Group by 'Date' and 'Product Category' and sum sales\n",
        "    sales_data = df.groupby(['Date', 'Product Category'])['Sales'].sum().unstack()\n",
        "\n",
        "    # Plotting the stacked bar chart\n",
        "    sales_data.plot(kind='bar', stacked=True, figsize=(10, 6))\n",
        "\n",
        "    plt.title('Sales by Product Category Over Time')\n",
        "    plt.xlabel('Date')\n",
        "    plt.ylabel('Sales')\n",
        "    plt.xticks(rotation=45)\n",
        "    plt.legend(title='Product Category')\n",
        "    plt.tight_layout()  # Adjust layout to prevent clipping of labels\n",
        "    plt.show()\n",
        "\n",
        "# Main function\n",
        "if __name__ == \"__main__\":\n",
        "    # Prompt user for the file path\n",
        "    file_path = input(\"Enter the CSV file path: \")\n",
        "\n",
        "    # Call the function to plot sales data\n",
        "    plot_sales_data(file_path)"
      ],
      "metadata": {
        "id": "pDF9NnEH9IR1"
      },
      "execution_count": null,
      "outputs": []
    },
    {
      "cell_type": "markdown",
      "source": [
        "Q11. You are given a CSV file containing student data that includes the student ID and their test score. Write\n",
        "a Python program that reads the CSV file, calculates the mean, median, and mode of the test scores, and\n",
        "displays the results in a table.\n",
        "The program should do the followingM\n",
        "I Prompt the user to enter the file path of the CSV file containing the student dataR\n",
        "I Read the CSV file into a Pandas DataFrameR\n",
        "I Calculate the mean, median, and mode of the test scores using Pandas toolsR\n",
        "I Display the mean, median, and mode in a table.\n",
        "Assume the CSV file contains the following columnsM\n",
        "I Student ID: The ID of the studentR\n",
        "I Test Score: The score of the student's test.\n",
        "Example usage of the program:\n",
        "Enter the file path of the CSV file containing the student data: student_data.csv\n",
        "+-----------+--------+\n",
        "| Statistic | Value |\n",
        "+-----------+--------+\n",
        "| Mean | 79.6 |\n",
        "| Median | 82 |\n",
        "| Mode | 85, 90 |\n",
        "+-----------+--------+\n",
        "Assume that the CSV file student_data.csv contains the following data:\n",
        "Student ID,Test Score\n",
        "1,85\n",
        "2,90\n",
        "3,80\n",
        "4,75\n",
        "5,85\n",
        "6,82\n",
        "7,78\n",
        "8,85\n",
        "9,90\n",
        "10,85\n",
        "The program should calculate the mean, median, and mode of the test scores and display the results\n",
        "in a table."
      ],
      "metadata": {
        "id": "ucJ3ives9NqM"
      }
    },
    {
      "cell_type": "code",
      "source": [
        "import pandas as pd\n",
        "from tabulate import tabulate\n",
        "\n",
        "def calculate_statistics(file_path):\n",
        "    # Read the CSV file into a DataFrame\n",
        "    df = pd.read_csv(file_path)\n",
        "\n",
        "    # Check if the DataFrame contains the required columns\n",
        "    if 'Test Score' not in df.columns:\n",
        "        print(\"The CSV file must contain a 'Test Score' column.\")\n",
        "        return\n",
        "\n",
        "    # Calculate mean, median, and mode\n",
        "    mean_score = df['Test Score'].mean()\n",
        "    median_score = df['Test Score'].median()\n",
        "    mode_score = df['Test Score'].mode().tolist()\n",
        "\n",
        "    # Prepare the results for display\n",
        "    results = {\n",
        "        \"Statistic\": [\"Mean\", \"Median\", \"Mode\"],\n",
        "        \"Value\": [mean_score, median_score, ', '.join(map(str, mode_score))]\n",
        "    }\n",
        "\n",
        "    # Convert results to DataFrame for better formatting\n",
        "    results_df = pd.DataFrame(results)\n",
        "\n",
        "    # Display the results in a table format\n",
        "    print(\"\\n\" + tabulate(results_df, headers='keys', tablefmt='grid'))\n",
        "\n",
        "# Main function\n",
        "if __name__ == \"__main__\":\n",
        "    # Prompt user for the file path\n",
        "    file_path = input(\"Enter the file path of the CSV file containing the student data: \")\n",
        "\n",
        "    # Call the function to calculate statistics\n",
        "    calculate_statistics(file_path)\n"
      ],
      "metadata": {
        "id": "F2-jTMXX9j-E"
      },
      "execution_count": null,
      "outputs": []
    },
    {
      "cell_type": "markdown",
      "source": [
        "**Thank You!**"
      ],
      "metadata": {
        "id": "O92AW6wz9mxt"
      }
    }
  ]
}