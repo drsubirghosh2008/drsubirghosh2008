{
  "nbformat": 4,
  "nbformat_minor": 0,
  "metadata": {
    "colab": {
      "provenance": [],
      "authorship_tag": "ABX9TyMx4Vj1ulH0pdRpyg6P/1rp",
      "include_colab_link": true
    },
    "kernelspec": {
      "name": "python3",
      "display_name": "Python 3"
    },
    "language_info": {
      "name": "python"
    }
  },
  "cells": [
    {
      "cell_type": "markdown",
      "metadata": {
        "id": "view-in-github",
        "colab_type": "text"
      },
      "source": [
        "<a href=\"https://colab.research.google.com/github/drsubirghosh2008/drsubirghosh2008/blob/main/PW_Assignment_19_October_CNN_Basics.ipynb\" target=\"_parent\"><img src=\"https://colab.research.google.com/assets/colab-badge.svg\" alt=\"Open In Colab\"/></a>"
      ]
    },
    {
      "cell_type": "markdown",
      "source": [
        "# **TOPIC: Understanding Pooling and Padding in CNN**"
      ],
      "metadata": {
        "id": "jXcFNnxJmmTy"
      }
    },
    {
      "cell_type": "markdown",
      "source": [
        "Q1. Describe the purpose and benefits of pooling in CNN\n",
        "\n",
        "Pooling in Convolutional Neural Networks (CNNs) is a downsampling operation used to reduce the spatial dimensions (width and height) of feature maps. Pooling layers are typically inserted between convolutional layers and are crucial for making CNNs more efficient and robust to small distortions or translations in the input data.\n",
        "\n",
        "Purpose of Pooling:\n",
        "\n",
        "Dimensionality Reduction: Pooling reduces the size of the feature maps, which decreases the number of parameters and computations in the network. This helps to mitigate overfitting and speeds up training.\n",
        "\n",
        "Translation Invariance: Pooling makes CNNs more robust to small translations or shifts in the input image by focusing on the presence of features rather than their exact locations.\n",
        "\n",
        "Highlighting Prominent Features: By selecting the most prominent (e.g., maximum or average) value from each pooling region, pooling helps in summarizing the presence of important features.\n",
        "\n",
        "Preventing Overfitting: By reducing the dimensionality of feature maps, pooling helps to lower the model complexity, which in turn reduces the risk of overfitting on the training data.\n",
        "\n",
        "\n",
        "Benefits of Pooling:\n",
        "\n",
        "\n",
        "Reduced Computational Complexity: Pooling reduces the dimensions of the feature maps, resulting in fewer parameters and reduced computational load.\n",
        "\n",
        "\n",
        "Prevention of Overfitting: By reducing the feature map size, pooling simplifies the model and decreases overfitting, especially in scenarios with limited data.\n",
        "\n",
        "\n",
        "Improved Translation Invariance: Pooling layers make CNNs more robust to small changes in the position of features, such as objects being slightly shifted in an image.\n",
        "\n",
        "\n",
        "Focus on Key Features: Pooling helps to retain only the most relevant information (in the case of max pooling), making the model focus on important features for classification or other tasks.\n",
        "\n",
        "\n",
        "Example:\n",
        "In a CNN, the input might be a 28x28 image. After a convolutional layer, the resulting feature map could be 24x24. Applying 2x2 max pooling with a stride of 2 would reduce this to a 12x12 feature map, preserving important features while reducing the size.\n",
        "\n",
        "Pooling plays an essential role in ensuring CNNs are efficient, scalable, and capable of handling real-world tasks with high accuracy."
      ],
      "metadata": {
        "id": "vTSlN4hBnfNp"
      }
    },
    {
      "cell_type": "markdown",
      "source": [
        "Q2. Explain the difference between min pooling and max pooling\n",
        "\n",
        "Min Pooling and Max Pooling are both types of downsampling operations used in Convolutional Neural Networks (CNNs), but they differ in how they summarize information from a given pooling region.\n",
        "\n",
        "Key Differences Between Min Pooling and Max Pooling:\n",
        "Operation:\n",
        "\n",
        "Max Pooling: Selects the maximum value from a defined region (e.g., 2x2 or 3x3) of the feature map.\n",
        "\n",
        "Purpose: It emphasizes the strongest, most prominent feature in that region.\n",
        "Min Pooling: Selects the minimum value from the region.\n",
        "Purpose: It highlights the weakest or least intense feature in the region.\n",
        "Use Case:\n",
        "\n",
        "Max Pooling: Commonly used in most CNN architectures because it highlights dominant features like edges or textures, which are important for tasks such as image recognition or classification.\n",
        "\n",
        "\n",
        "Min Pooling: Rarely used in practice because focusing on the minimum feature in a region is less useful in most vision tasks where prominent features are more important. However, it can be useful in specific cases where you need to track weak signals or suppress the influence of strong outliers.\n",
        "Behavior:\n",
        "\n",
        "Max Pooling: Enhances the detection of the most significant feature by keeping the highest activation in the pooling window.\n",
        "\n",
        "Example: If the 2x2 region contains the values [1, 3, 2, 5], max pooling returns 5 (the maximum).\n",
        "\n",
        "Min Pooling: Captures the least prominent feature, which might be useful in certain anomaly detection tasks.\n",
        "\n",
        "Example: If the same 2x2 region contains [1, 3, 2, 5], min pooling returns 1 (the minimum)."
      ],
      "metadata": {
        "id": "C-KYA2A-o7Cz"
      }
    },
    {
      "cell_type": "code",
      "source": [
        "# Max Pooling:\n",
        "\n",
        "import numpy as np\n",
        "\n",
        "def max_pooling(data, kernel_size):\n",
        "    \"\"\"\n",
        "    Applies max pooling to a 2D array.\n",
        "\n",
        "    Args:\n",
        "        data (list of lists): The input 2D array.\n",
        "        kernel_size (int): The size of the pooling kernel.\n",
        "\n",
        "    Returns:\n",
        "        int: The maximum value in the input data.\n",
        "    \"\"\"\n",
        "    data_array = np.array(data) # Convert the list of lists into a NumPy array\n",
        "    # For simplicity, assume a 2x2 kernel and no padding/strides for now\n",
        "    max_value = np.max(data_array) # Find the maximum value within the entire array\n",
        "    return max_value\n",
        "\n",
        "\n",
        "data = [[1, 3], [2, 5]] # Define the input data\n",
        "kernel_size = 2 # Define the kernel size (assuming 2x2)\n",
        "result = max_pooling(data, kernel_size) # Call the max_pooling function to get the result\n",
        "print(result) # Print the result"
      ],
      "metadata": {
        "colab": {
          "base_uri": "https://localhost:8080/"
        },
        "id": "vVkC3rsvrMPl",
        "outputId": "2cddc26b-2c8b-4f33-de60-d2029b9ca5a0"
      },
      "execution_count": 40,
      "outputs": [
        {
          "output_type": "stream",
          "name": "stdout",
          "text": [
            "5\n"
          ]
        }
      ]
    },
    {
      "cell_type": "code",
      "source": [
        "# Min Pooling:\n",
        "\n",
        "import numpy as np\n",
        "\n",
        "def min_pooling(data, kernel_size):\n",
        "    \"\"\"\n",
        "    Applies min pooling to a 2D array.\n",
        "\n",
        "    Args:\n",
        "        data (list of lists): The input 2D array.\n",
        "        kernel_size (int): The size of the pooling kernel.\n",
        "\n",
        "    Returns:\n",
        "        int: The minimum value in the input data.\n",
        "    \"\"\"\n",
        "    data_array = np.array(data) # Convert the list of lists into a NumPy array\n",
        "    # For simplicity, assume a 2x2 kernel and no padding/strides for now\n",
        "    min_value = np.min(data_array) # Find the minimum value within the entire array\n",
        "    return min_value\n",
        "\n",
        "data = [[1, 3], [2, 5]] # Define the input data\n",
        "kernel_size = 2 # Define the kernel size (assuming 2x2)\n",
        "result = min_pooling(data, kernel_size) # Call the min_pooling function to get the result\n",
        "print(result) # Print the result"
      ],
      "metadata": {
        "colab": {
          "base_uri": "https://localhost:8080/"
        },
        "id": "DLvW9h7-sr6W",
        "outputId": "35cf00ef-b6b1-4221-ced0-2eb16a032579"
      },
      "execution_count": 41,
      "outputs": [
        {
          "output_type": "stream",
          "name": "stdout",
          "text": [
            "1\n"
          ]
        }
      ]
    },
    {
      "cell_type": "markdown",
      "source": [
        "In conclusion,\n",
        "\n",
        "Max Pooling focuses on the most prominent features and is widely used in CNNs to reduce dimensionality while preserving important information.\n",
        "\n",
        "Min Pooling captures the least prominent features and is less common but can be useful in specialized applications where minimum values or weaker signals are of interest."
      ],
      "metadata": {
        "id": "Cs0pmNQ5tUPb"
      }
    },
    {
      "cell_type": "markdown",
      "source": [
        "Q3. Discuss the concept of padding in CNN and its significance\n",
        "\n",
        "Padding in Convolutional Neural Networks (CNNs) is a technique used to control the spatial size (width and height) of the output feature maps after the convolutional operation. It involves adding extra pixels (usually zeros) around the border of the input image or feature map before applying a convolutional filter. Padding is essential for preserving spatial dimensions, avoiding shrinking of the feature maps, and improving performance on edge features.\n",
        "\n",
        "Significance of Padding:\n",
        "\n",
        "1. Preservation of Spatial Dimensions:\n",
        "\n",
        "In many CNN architectures, it is crucial to keep the input and output dimensions the same (especially when the network is deep). Without padding, the size of the feature maps would progressively shrink with each convolution, making it difficult to work with deeper networks.\n",
        "\n",
        "Same padding ensures that after each convolution, the feature map retains the same width and height, making it easier to design complex networks with consistent input/output shapes.\n",
        "\n",
        "2. Better Feature Learning at the Borders:\n",
        "\n",
        "Without padding, the convolution filter has fewer valid pixels to operate on at the edges of the input. As a result, edge features can be lost or underrepresented.\n",
        "\n",
        "Zero padding ensures that edge pixels are involved in the same number of convolutions as the central pixels, improving feature extraction at the image boundaries.\n",
        "\n",
        "\n",
        "3. Control Over Output Size:\n",
        "\n",
        "Padding gives control over the size of the output feature map, allowing designers to manipulate the dimensions of the output depending on the task. This is especially useful in tasks like object detection and segmentation, where spatial precision matters.\n",
        "\n",
        "\n",
        "4. Reduces Information Loss:\n",
        "\n",
        "Without padding, applying a convolution filter reduces the size of the feature map, leading to a loss of information, especially in smaller inputs. Padding helps mitigate this by providing more context to the filter operation, ensuring that no information is prematurely discarded.\n",
        "\n",
        "In conclusion,\n",
        "Padding is a critical component in CNNs to preserve spatial dimensions, ensure edge features are adequately captured, and prevent unnecessary shrinking of the feature maps. By enabling designers to control the output size and maintain important feature details, padding enhances the effectiveness and flexibility of CNN architectures in various computer vision tasks."
      ],
      "metadata": {
        "id": "1qJ0cY-8tfQK"
      }
    },
    {
      "cell_type": "markdown",
      "source": [
        "Q4. Compare and contrast zero-padding and valid-padding in terms of their effects on the output feature map size.\n",
        "\n",
        "Zero-padding and valid-padding are two common techniques used in Convolutional Neural Networks (CNNs) to control the size of the output feature map after applying convolution operations. They differ in how they treat the boundaries of the input data and thus affect the size of the output feature map in different ways.\n",
        "\n",
        "\n",
        "Zero-Padding: Preserves the input size by adding padding around the edges, making it ideal for networks where the spatial size needs to remain the same throughout multiple layers.\n",
        "\n",
        "\n",
        "Valid-Padding: Results in a smaller output feature map, shrinking the spatial dimensions after each convolution, useful when a progressive reduction in feature map size is desirable.\n",
        "\n",
        "\n",
        "In practice, zero-padding is often preferred for deep CNNs, while valid-padding is used in cases where reducing dimensionality is a goal.\n",
        "\n",
        "\n",
        "Effect on Output Feature Map Size:\n",
        "\n",
        "Zero-Padding:\n",
        "\n",
        "Adds pixels around the input, usually zeros, to maintain or control the size of the output feature map.\n",
        "When using \"same\" padding (a special case of zero-padding), the output size is the same as the input size, assuming stride = 1.\n",
        "This is particularly useful in deep CNNs where many layers stack, and preserving feature map size across layers is desirable.\n",
        "\n",
        "\n",
        "Valid-Padding:\n",
        "\n",
        "No extra pixels are added, so the filter only moves across valid input pixels, resulting in a smaller output size.\n",
        "Each convolution \"shrinks\" the feature map because the filter cannot slide over the boundary pixels (as they are not padded).\n"
      ],
      "metadata": {
        "id": "JCbzQWq6umzE"
      }
    },
    {
      "cell_type": "markdown",
      "source": [
        "# **TOPIC: Exploring LeNet**"
      ],
      "metadata": {
        "id": "ReyeKACswDzF"
      }
    },
    {
      "cell_type": "markdown",
      "source": [
        "Q1. Provide a brief overview of LeNet-5 architecture\n",
        "\n",
        "LeNet-5 is one of the earliest Convolutional Neural Network (CNN) architectures, introduced by Yann LeCun in 1998, primarily designed for handwritten digit recognition (e.g., the MNIST dataset). It played a pivotal role in demonstrating the effectiveness of CNNs for image classification tasks.\n",
        "\n",
        "\n",
        "LeNet-5 consists of 7 layers (excluding input), including convolutional layers, subsampling (pooling) layers, and fully connected layers. Below is the layer-wise breakdown:\n",
        "\n",
        "1. Input Layer:\n",
        "\n",
        "Input size: 32x32 grayscale image.\n",
        "The original MNIST images are 28x28 pixels, but they were resized to 32x32 to accommodate the architecture.\n",
        "\n",
        "2. C1 - First Convolutional Layer:\n",
        "\n",
        "Filter size: 6 filters of size 5x5.\n",
        "Output size: 28x28x6 (since no padding is used, output size is reduced).\n",
        "Activation: Sigmoid (originally, but in modern implementations, ReLU is often used).\n",
        "Purpose: Detect low-level features such as edges or textures.\n",
        "\n",
        "\n",
        "3. S2 - First Subsampling Layer (Average Pooling):\n",
        "\n",
        "Filter size: 2x2 pooling with a stride of 2 (subsampling reduces the size by half).\n",
        "\n",
        "Output size: 14x14x6.\n",
        "\n",
        "Purpose: Reduce the spatial dimensions while retaining the important information, improving computational efficiency.\n",
        "\n",
        "4. C3 - Second Convolutional Layer:\n",
        "\n",
        "Filter size: 16 filters of size 5x5.\n",
        "Output size: 10x10x16 (due to the absence of padding).\n",
        "Purpose: Learn more complex features from the previous layer.\n",
        "\n",
        "5. S4 - Second Subsampling Layer (Average Pooling):\n",
        "\n",
        "Filter size: 2x2 pooling with stride 2.\n",
        "Output size: 5x5x16.\n",
        "Purpose: Further downsample the feature maps to reduce computational complexity.\n",
        "\n",
        "6. C5 - Fully Connected Convolutional Layer:\n",
        "\n",
        "Filter size: 120 filters of size 5x5, with a stride of 1.\n",
        "Output size: 1x1x120 (flattened into a vector of 120 neurons).\n",
        "Purpose: Acts as a fully connected layer that connects to the feature maps from the previous layers.\n",
        "\n",
        "7. F6 - Fully Connected Layer:\n",
        "\n",
        "Output size: 84 neurons (fully connected).\n",
        "Activation: Sigmoid (or ReLU in modern versions).\n",
        "Purpose: Learn high-level representations for classification.\n",
        "Output Layer:\n",
        "\n",
        "8. Output size: 10 neurons (one for each digit class from 0 to 9).\n",
        "Activation: Softmax.\n",
        "Purpose: Perform classification by outputting probabilities for each class."
      ],
      "metadata": {
        "id": "JVz6WtLqwPgV"
      }
    },
    {
      "cell_type": "markdown",
      "source": [
        "Q2. Describe the key components of LeNet-5 and their respective purposes\n",
        "\n",
        "\n",
        "LeNet-5, one of the pioneering architectures in Convolutional Neural Networks (CNNs), consists of several key components that work together to achieve image classification. Each component plays a crucial role in feature extraction, dimensionality reduction, and classification. Here's an overview of the key components of LeNet-5 and their respective purposes:\n",
        "\n",
        "1. Input Layer\n",
        "\n",
        "Purpose: Receives the raw input image for processing.\n",
        "\n",
        "Details: LeNet-5 was designed to take 32x32 grayscale images as input. The original MNIST dataset images are 28x28, but they are padded to 32x32 to fit this input size.\n",
        "\n",
        "Role: Prepares the image for convolution by standardizing the input size.\n",
        "\n",
        "2. C1 - First Convolutional Layer\n",
        "\n",
        "Purpose: Extracts low-level features such as edges, textures, and simple patterns from the input image.\n",
        "\n",
        "Details: Applies 6 filters (also called kernels) of size 5x5 to the input, resulting in 6 output feature maps of size 28x28 (due to no padding).\n",
        "\n",
        "Role: Each filter learns to detect a different set of features from the input image. The output represents the response of the image to these filters.\n",
        "\n",
        "3. S2 - First Subsampling Layer (Average Pooling)\n",
        "\n",
        "Purpose: Reduces the spatial dimensions of the feature maps, while preserving important information and reducing computational complexity.\n",
        "\n",
        "Details: Applies 2x2 average pooling with a stride of 2 to the 28x28 feature maps, resulting in 14x14 feature maps.\n",
        "\n",
        "Role: Downsampling helps reduce the number of parameters and computational cost, while retaining key information. It also provides slight translational invariance by summarizing the presence of features rather than their exact location.\n",
        "\n",
        "4. C3 - Second Convolutional Layer\n",
        "\n",
        "Purpose: Extracts higher-level features from the already reduced and downsampled feature maps from the previous layer.\n",
        "\n",
        "Details: Uses 16 filters of size 5x5, applied to the 6 feature maps from the S2 layer, resulting in 10x10 feature maps. The connections between C3 filters and S2 feature maps are not fully connected but follow a specific connection pattern (to reduce complexity).\n",
        "\n",
        "Role: Detects more complex patterns and combinations of features that were detected in the previous layer.\n",
        "\n",
        "5. S4 - Second Subsampling Layer (Average Pooling)\n",
        "\n",
        "Purpose: Further reduces the spatial dimensions of the feature maps, while still preserving the most relevant features.\n",
        "\n",
        "Details: Applies 2x2 average pooling with stride 2 to the 10x10 feature maps, resulting in 5x5 feature maps.\n",
        "\n",
        "Role: Similar to the first subsampling layer, this layer helps in reducing the size of the feature maps, which lowers the number of parameters in subsequent layers and helps control overfitting.\n",
        "\n",
        "6. C5 - Fully Connected Convolutional Layer\n",
        "\n",
        "Purpose: Acts as a bridge between the convolutional feature extraction layers and the fully connected classification layers.\n",
        "\n",
        "Details: Applies 120 filters of size 5x5 to the 5x5 feature maps, resulting in 1x1x120 output (i.e., a vector of 120 values).\n",
        "\n",
        "Role: Unlike the previous convolutional layers, this layer is fully connected to the entire input volume (5x5x16), acting as a fully connected layer and integrating all the features learned by the previous layers.\n",
        "\n",
        "7. F6 - Fully Connected Layer\n",
        "\n",
        "Purpose: Learns the high-level abstract representations from the previous layers and prepares the data for classification.\n",
        "\n",
        "Details: Consists of 84 neurons (fully connected to the output from the C5 layer).\n",
        "\n",
        "Role: This layer serves as a dense layer that connects learned features to the classification decision-making process. Each neuron is responsible for learning specific feature combinations and interactions.\n",
        "\n",
        "8. Output Layer\n",
        "\n",
        "Purpose: Outputs the final prediction by classifying the input into one of the target classes.\n",
        "\n",
        "Details: The output layer consists of 10 neurons, one for each class (0-9, for digit classification). The activation function is usually softmax, which converts the output into probabilities.\n",
        "\n",
        "Role: Determines the class label of the input image by assigning a probability to each class and selecting the one with the highest probability.\n",
        "\n"
      ],
      "metadata": {
        "id": "jyAlBzlAxltm"
      }
    },
    {
      "cell_type": "markdown",
      "source": [
        "Q3. Discuss the advantages and limitations of LeNet-5 in the context of image classification tasks\n",
        "\n",
        "\n",
        "LeNet-5, introduced by Yann LeCun in 1998, was groundbreaking at the time and laid the foundation for modern Convolutional Neural Networks (CNNs). Despite its historical significance, LeNet-5 has both advantages and limitations when applied to image classification tasks, particularly when compared to more recent architectures. Let's discuss its advantages and limitations in detail.\n",
        "\n",
        "Advantages of LeNet-5:\n",
        "\n",
        "1. Pioneering Architecture:\n",
        "\n",
        "LeNet-5 was one of the first CNN architectures to demonstrate the power of convolutional layers combined with pooling and fully connected layers for image classification. It was specifically designed for handwritten digit recognition (MNIST) and provided highly accurate results.\n",
        "\n",
        "2. Efficient Feature Extraction:\n",
        "\n",
        "By utilizing convolutional layers followed by pooling, LeNet-5 could efficiently extract hierarchical features (from simple edges to more complex patterns), which is essential for recognizing patterns in images. This approach reduces the need for hand-crafted features, automating feature learning.\n",
        "\n",
        "3.Reduced Parameters via Pooling:\n",
        "\n",
        "Pooling layers (subsampling) reduce the spatial dimensions of feature maps, thereby decreasing the number of parameters and computational complexity. This makes LeNet-5 relatively lightweight compared to fully connected networks.\n",
        "Pooling also helps in achieving some translational invariance, allowing the network to focus on the presence of features rather than their exact location.\n",
        "\n",
        "\n",
        "4. End-to-End Learning:\n",
        "\n",
        "LeNet-5 is an end-to-end learning model, meaning it can directly learn from raw input data and output class predictions without requiring manual feature engineering. This is a key feature of CNNs and one of the reasons LeNet-5 became so successful.\n",
        "E5. ffective for Simple, Small-Scale Datasets:\n",
        "\n",
        "LeNet-5 performs very well on small and simple datasets like MNIST (handwritten digits). It is lightweight and computationally efficient for tasks where images have low complexity and resolution, making it practical for early computer vision tasks.\n",
        "\n",
        "6. Foundation for Modern CNNs:\n",
        "\n",
        "LeNet-5 introduced concepts such as convolution, pooling, and fully connected layers that are fundamental to modern CNN architectures like AlexNet, VGG, ResNet, and others.\n",
        "\n",
        "\n",
        "Limitations of LeNet-5:\n",
        "\n",
        "1. Limited Scalability to Complex Tasks:\n",
        "\n",
        "LeNet-5 is relatively simple and was designed for small, grayscale images (e.g., 28x28 MNIST digits). It struggles to scale to larger, more complex datasets like CIFAR-10, ImageNet, or real-world color images with high resolutions, where deeper architectures are needed.\n",
        "\n",
        "Modern image classification tasks often require much deeper networks with many more convolutional layers to learn highly complex features, something LeNet-5 cannot handle due to its small depth.\n",
        "Limited Feature Representations:\n",
        "\n",
        "With only two convolutional layers and a small number of filters, LeNet-5 has limited capacity to capture intricate or highly detailed features. Complex patterns that emerge in more advanced datasets may not be adequately learned.\n",
        "Modern architectures like ResNet or VGG use tens or hundreds of layers to build more abstract representations, which LeNet-5 cannot do with its shallow architecture.\n",
        "\n",
        "2. No Batch Normalization:\n",
        "\n",
        "LeNet-5 predates the use of batch normalization, a technique that helps improve the stability and speed of training deep neural networks by normalizing activations. Lack of this feature makes training less efficient, especially for deeper versions of the network.\n",
        "In modern CNNs, batch normalization helps prevent internal covariate shifts and reduces overfitting, allowing faster convergence and more stable training.\n",
        "\n",
        "\n",
        "3. No Rectified Linear Unit (ReLU):\n",
        "\n",
        "LeNet-5 originally used sigmoid or tanh activation functions, which are prone to the vanishing gradient problem, making it harder for the network to learn effectively, especially when deep. Modern networks typically use the ReLU activation function, which is computationally simpler and helps mitigate vanishing gradients, leading to faster training and better performance.\n",
        "\n",
        "4. Overfitting on Small Datasets:\n",
        "\n",
        "Although LeNet-5 is small compared to modern CNNs, it can still overfit on very small datasets due to the lack of regularization techniques like dropout, which became a standard method in later architectures to improve generalization. Without such mechanisms, it is prone to memorizing training data rather than generalizing to unseen examples.\n",
        "5. No Skip Connections:\n",
        "\n",
        "LeNet-5 lacks advanced architectural improvements like skip connections, introduced in ResNet, which help in training deeper networks by allowing gradients to flow more easily through the network. This improvement allows networks to go significantly deeper while avoiding issues like vanishing gradients, which LeNet-5 cannot do.\n",
        "6. Computational Inefficiency for Large-Scale Tasks:\n",
        "\n",
        "While LeNet-5 is computationally efficient for small images, it lacks the architecture depth required to handle larger, high-resolution images. This makes it inefficient for large-scale tasks or datasets like ImageNet, which require much deeper architectures for state-of-the-art performance.\n",
        "\n",
        "8. Restricted to Grayscale Input:\n",
        "\n",
        "LeNet-5 was originally designed for grayscale images, which limits its applicability to datasets with color images. While it can be adapted to process RGB images by modifying the input channels, modern architectures are better equipped to handle such inputs natively.\n",
        "Summary of LeNet-5’s Advantages and Limitations:\n",
        "Advantages\tLimitations\n",
        "Simple and efficient for small datasets\tStruggles with complex, large-scale datasets\n",
        "Effective feature extraction using convolutions\tLimited depth and feature extraction capabilities\n",
        "Low computational complexity\tNo modern techniques like ReLU, batch normalization\n",
        "Reduces parameters with pooling\tProne to overfitting, lacks dropout regularization\n",
        "Pioneered CNNs and influenced modern networks\tNo skip connections, limiting depth scalability\n",
        "End-to-end learning\tRestricted to grayscale input (without modification)\n",
        "Conclusion:\n",
        "LeNet-5 was revolutionary for its time, laying the groundwork for many advances in deep learning and computer vision. Its simple, yet effective design made it highly suitable for early image classification tasks, such as handwritten digit recognition on MNIST. However, for more complex, large-scale image classification tasks, LeNet-5 is outpaced by modern architectures that incorporate deeper layers, ReLU activations, batch normalization, and other innovations. Thus, while historically important, LeNet-5 is now mainly used as a reference model or for small-scale, low-complexity tasks."
      ],
      "metadata": {
        "id": "9nu-bhU4BO3f"
      }
    },
    {
      "cell_type": "markdown",
      "source": [
        "Q4: Implement LeNet-5 using a deep learning framework of your choice (e.g., TensorFlow, PyTorch) and train it on a publicly available dataset (e.g., MNIST). Evaluate its performance and provide\n",
        "insights.\n",
        "\n",
        "\n",
        "Here’s a detailed implementation of the LeNet-5 architecture using TensorFlow and Keras. We will train it on the MNIST dataset, which is a collection of 28x28 grayscale images of handwritten digits (0–9). After training the model, we will evaluate its performance and provide insights into its results.\n",
        "\n",
        "Step-by-Step Implementation of LeNet-5 in TensorFlow\n"
      ],
      "metadata": {
        "id": "lfYhVC27FC4_"
      }
    },
    {
      "cell_type": "code",
      "source": [
        "pip install tensorflow"
      ],
      "metadata": {
        "colab": {
          "base_uri": "https://localhost:8080/"
        },
        "id": "k_ga91JGHbgn",
        "outputId": "94bfe58f-89c5-4929-fe9a-680bd8bd1693"
      },
      "execution_count": 42,
      "outputs": [
        {
          "output_type": "stream",
          "name": "stdout",
          "text": [
            "Requirement already satisfied: tensorflow in /usr/local/lib/python3.10/dist-packages (2.17.0)\n",
            "Requirement already satisfied: absl-py>=1.0.0 in /usr/local/lib/python3.10/dist-packages (from tensorflow) (1.4.0)\n",
            "Requirement already satisfied: astunparse>=1.6.0 in /usr/local/lib/python3.10/dist-packages (from tensorflow) (1.6.3)\n",
            "Requirement already satisfied: flatbuffers>=24.3.25 in /usr/local/lib/python3.10/dist-packages (from tensorflow) (24.3.25)\n",
            "Requirement already satisfied: gast!=0.5.0,!=0.5.1,!=0.5.2,>=0.2.1 in /usr/local/lib/python3.10/dist-packages (from tensorflow) (0.6.0)\n",
            "Requirement already satisfied: google-pasta>=0.1.1 in /usr/local/lib/python3.10/dist-packages (from tensorflow) (0.2.0)\n",
            "Requirement already satisfied: h5py>=3.10.0 in /usr/local/lib/python3.10/dist-packages (from tensorflow) (3.11.0)\n",
            "Requirement already satisfied: libclang>=13.0.0 in /usr/local/lib/python3.10/dist-packages (from tensorflow) (18.1.1)\n",
            "Requirement already satisfied: ml-dtypes<0.5.0,>=0.3.1 in /usr/local/lib/python3.10/dist-packages (from tensorflow) (0.4.1)\n",
            "Requirement already satisfied: opt-einsum>=2.3.2 in /usr/local/lib/python3.10/dist-packages (from tensorflow) (3.4.0)\n",
            "Requirement already satisfied: packaging in /usr/local/lib/python3.10/dist-packages (from tensorflow) (24.1)\n",
            "Requirement already satisfied: protobuf!=4.21.0,!=4.21.1,!=4.21.2,!=4.21.3,!=4.21.4,!=4.21.5,<5.0.0dev,>=3.20.3 in /usr/local/lib/python3.10/dist-packages (from tensorflow) (3.20.3)\n",
            "Requirement already satisfied: requests<3,>=2.21.0 in /usr/local/lib/python3.10/dist-packages (from tensorflow) (2.32.3)\n",
            "Requirement already satisfied: setuptools in /usr/local/lib/python3.10/dist-packages (from tensorflow) (75.1.0)\n",
            "Requirement already satisfied: six>=1.12.0 in /usr/local/lib/python3.10/dist-packages (from tensorflow) (1.16.0)\n",
            "Requirement already satisfied: termcolor>=1.1.0 in /usr/local/lib/python3.10/dist-packages (from tensorflow) (2.5.0)\n",
            "Requirement already satisfied: typing-extensions>=3.6.6 in /usr/local/lib/python3.10/dist-packages (from tensorflow) (4.12.2)\n",
            "Requirement already satisfied: wrapt>=1.11.0 in /usr/local/lib/python3.10/dist-packages (from tensorflow) (1.16.0)\n",
            "Requirement already satisfied: grpcio<2.0,>=1.24.3 in /usr/local/lib/python3.10/dist-packages (from tensorflow) (1.64.1)\n",
            "Requirement already satisfied: tensorboard<2.18,>=2.17 in /usr/local/lib/python3.10/dist-packages (from tensorflow) (2.17.0)\n",
            "Requirement already satisfied: keras>=3.2.0 in /usr/local/lib/python3.10/dist-packages (from tensorflow) (3.4.1)\n",
            "Requirement already satisfied: tensorflow-io-gcs-filesystem>=0.23.1 in /usr/local/lib/python3.10/dist-packages (from tensorflow) (0.37.1)\n",
            "Requirement already satisfied: numpy<2.0.0,>=1.23.5 in /usr/local/lib/python3.10/dist-packages (from tensorflow) (1.26.4)\n",
            "Requirement already satisfied: wheel<1.0,>=0.23.0 in /usr/local/lib/python3.10/dist-packages (from astunparse>=1.6.0->tensorflow) (0.44.0)\n",
            "Requirement already satisfied: rich in /usr/local/lib/python3.10/dist-packages (from keras>=3.2.0->tensorflow) (13.9.2)\n",
            "Requirement already satisfied: namex in /usr/local/lib/python3.10/dist-packages (from keras>=3.2.0->tensorflow) (0.0.8)\n",
            "Requirement already satisfied: optree in /usr/local/lib/python3.10/dist-packages (from keras>=3.2.0->tensorflow) (0.13.0)\n",
            "Requirement already satisfied: charset-normalizer<4,>=2 in /usr/local/lib/python3.10/dist-packages (from requests<3,>=2.21.0->tensorflow) (3.4.0)\n",
            "Requirement already satisfied: idna<4,>=2.5 in /usr/local/lib/python3.10/dist-packages (from requests<3,>=2.21.0->tensorflow) (3.10)\n",
            "Requirement already satisfied: urllib3<3,>=1.21.1 in /usr/local/lib/python3.10/dist-packages (from requests<3,>=2.21.0->tensorflow) (2.2.3)\n",
            "Requirement already satisfied: certifi>=2017.4.17 in /usr/local/lib/python3.10/dist-packages (from requests<3,>=2.21.0->tensorflow) (2024.8.30)\n",
            "Requirement already satisfied: markdown>=2.6.8 in /usr/local/lib/python3.10/dist-packages (from tensorboard<2.18,>=2.17->tensorflow) (3.7)\n",
            "Requirement already satisfied: tensorboard-data-server<0.8.0,>=0.7.0 in /usr/local/lib/python3.10/dist-packages (from tensorboard<2.18,>=2.17->tensorflow) (0.7.2)\n",
            "Requirement already satisfied: werkzeug>=1.0.1 in /usr/local/lib/python3.10/dist-packages (from tensorboard<2.18,>=2.17->tensorflow) (3.0.4)\n",
            "Requirement already satisfied: MarkupSafe>=2.1.1 in /usr/local/lib/python3.10/dist-packages (from werkzeug>=1.0.1->tensorboard<2.18,>=2.17->tensorflow) (3.0.1)\n",
            "Requirement already satisfied: markdown-it-py>=2.2.0 in /usr/local/lib/python3.10/dist-packages (from rich->keras>=3.2.0->tensorflow) (3.0.0)\n",
            "Requirement already satisfied: pygments<3.0.0,>=2.13.0 in /usr/local/lib/python3.10/dist-packages (from rich->keras>=3.2.0->tensorflow) (2.18.0)\n",
            "Requirement already satisfied: mdurl~=0.1 in /usr/local/lib/python3.10/dist-packages (from markdown-it-py>=2.2.0->rich->keras>=3.2.0->tensorflow) (0.1.2)\n"
          ]
        }
      ]
    },
    {
      "cell_type": "code",
      "source": [
        "import tensorflow as tf\n",
        "from tensorflow.keras import layers, models\n",
        "import matplotlib.pyplot as plt"
      ],
      "metadata": {
        "id": "gVANsbKGHlc5"
      },
      "execution_count": 43,
      "outputs": []
    },
    {
      "cell_type": "code",
      "source": [
        "# LeNet-5 Architecture Implementation\n",
        "# Define the LeNet-5 model\n",
        "def lenet5():\n",
        "    model = models.Sequential()\n",
        "\n",
        "    # C1: Convolutional layer (input: 32x32x1, output: 28x28x6)\n",
        "    model.add(layers.Conv2D(6, (5, 5), activation='relu', input_shape=(32, 32, 1)))\n",
        "\n",
        "    # S2: Subsampling (Average Pooling), output: 14x14x6\n",
        "    model.add(layers.AveragePooling2D(pool_size=(2, 2)))\n",
        "\n",
        "    # C3: Convolutional layer, output: 10x10x16\n",
        "    model.add(layers.Conv2D(16, (5, 5), activation='relu'))\n",
        "\n",
        "    # S4: Subsampling (Average Pooling), output: 5x5x16\n",
        "    model.add(layers.AveragePooling2D(pool_size=(2, 2)))\n",
        "\n",
        "    # Flatten the output for fully connected layers\n",
        "    model.add(layers.Flatten())\n",
        "\n",
        "    # C5: Fully connected layer, output: 120\n",
        "    model.add(layers.Dense(120, activation='relu'))\n",
        "\n",
        "    # F6: Fully connected layer, output: 84\n",
        "    model.add(layers.Dense(84, activation='relu'))\n",
        "\n",
        "    # Output layer: 10 units (for 10 classes), softmax activation\n",
        "    model.add(layers.Dense(10, activation='softmax'))\n",
        "\n",
        "    return model\n"
      ],
      "metadata": {
        "id": "9Nd0zb1LHu1O"
      },
      "execution_count": 44,
      "outputs": []
    },
    {
      "cell_type": "code",
      "source": [
        "#  Preparing the Dataset (MNIST):\n",
        "# The MNIST dataset will be used, but since LeNet-5 expects 32x32 input images, we’ll resize the original 28x28 images.\n",
        "# Load the MNIST dataset\n",
        "mnist = tf.keras.datasets.mnist\n",
        "\n",
        "# Split dataset into train and test sets\n",
        "(x_train, y_train), (x_test, y_test) = mnist.load_data()\n",
        "\n",
        "# Preprocess the data: normalize images and reshape for input into LeNet-5\n",
        "x_train = x_train.reshape(-1, 28, 28, 1).astype('float32')\n",
        "x_test = x_test.reshape(-1, 28, 28, 1).astype('float32')\n",
        "\n",
        "# Resize images from 28x28 to 32x32\n",
        "x_train = tf.image.resize(x_train, [32, 32])\n",
        "x_test = tf.image.resize(x_test, [32, 32])\n",
        "\n",
        "# Normalize pixel values to the range [-1, 1]\n",
        "x_train = (x_train - 127.5) / 127.5\n",
        "x_test = (x_test - 127.5) / 127.5"
      ],
      "metadata": {
        "id": "I2up1T5NIETI"
      },
      "execution_count": 45,
      "outputs": []
    },
    {
      "cell_type": "code",
      "source": [
        "# Compile and Train the Model:\n",
        "# Next, we’ll compile the model using a loss function and optimizer, and then train it on the MNIST dataset.\n",
        "# Create the LeNet-5 model\n",
        "model = lenet5()\n",
        "\n",
        "# Compile the model\n",
        "model.compile(optimizer='adam', loss='sparse_categorical_crossentropy', metrics=['accuracy'])\n",
        "\n",
        "# Train the model\n",
        "history = model.fit(x_train, y_train, epochs=10, batch_size=64, validation_split=0.1)"
      ],
      "metadata": {
        "colab": {
          "base_uri": "https://localhost:8080/"
        },
        "id": "yKXa3PX2JKxA",
        "outputId": "1f551df5-6b64-4c47-8d9b-6bd1a618ef77"
      },
      "execution_count": 31,
      "outputs": [
        {
          "output_type": "stream",
          "name": "stderr",
          "text": [
            "/usr/local/lib/python3.10/dist-packages/keras/src/layers/convolutional/base_conv.py:107: UserWarning: Do not pass an `input_shape`/`input_dim` argument to a layer. When using Sequential models, prefer using an `Input(shape)` object as the first layer in the model instead.\n",
            "  super().__init__(activity_regularizer=activity_regularizer, **kwargs)\n"
          ]
        },
        {
          "output_type": "stream",
          "name": "stdout",
          "text": [
            "Epoch 1/10\n",
            "\u001b[1m844/844\u001b[0m \u001b[32m━━━━━━━━━━━━━━━━━━━━\u001b[0m\u001b[37m\u001b[0m \u001b[1m53s\u001b[0m 60ms/step - accuracy: 0.8292 - loss: 0.5443 - val_accuracy: 0.9772 - val_loss: 0.0808\n",
            "Epoch 2/10\n",
            "\u001b[1m844/844\u001b[0m \u001b[32m━━━━━━━━━━━━━━━━━━━━\u001b[0m\u001b[37m\u001b[0m \u001b[1m32s\u001b[0m 37ms/step - accuracy: 0.9756 - loss: 0.0800 - val_accuracy: 0.9818 - val_loss: 0.0582\n",
            "Epoch 3/10\n",
            "\u001b[1m844/844\u001b[0m \u001b[32m━━━━━━━━━━━━━━━━━━━━\u001b[0m\u001b[37m\u001b[0m \u001b[1m31s\u001b[0m 37ms/step - accuracy: 0.9832 - loss: 0.0570 - val_accuracy: 0.9843 - val_loss: 0.0540\n",
            "Epoch 4/10\n",
            "\u001b[1m844/844\u001b[0m \u001b[32m━━━━━━━━━━━━━━━━━━━━\u001b[0m\u001b[37m\u001b[0m \u001b[1m34s\u001b[0m 40ms/step - accuracy: 0.9854 - loss: 0.0471 - val_accuracy: 0.9868 - val_loss: 0.0478\n",
            "Epoch 5/10\n",
            "\u001b[1m844/844\u001b[0m \u001b[32m━━━━━━━━━━━━━━━━━━━━\u001b[0m\u001b[37m\u001b[0m \u001b[1m38s\u001b[0m 37ms/step - accuracy: 0.9883 - loss: 0.0342 - val_accuracy: 0.9865 - val_loss: 0.0521\n",
            "Epoch 6/10\n",
            "\u001b[1m844/844\u001b[0m \u001b[32m━━━━━━━━━━━━━━━━━━━━\u001b[0m\u001b[37m\u001b[0m \u001b[1m32s\u001b[0m 38ms/step - accuracy: 0.9903 - loss: 0.0309 - val_accuracy: 0.9895 - val_loss: 0.0406\n",
            "Epoch 7/10\n",
            "\u001b[1m844/844\u001b[0m \u001b[32m━━━━━━━━━━━━━━━━━━━━\u001b[0m\u001b[37m\u001b[0m \u001b[1m41s\u001b[0m 38ms/step - accuracy: 0.9907 - loss: 0.0278 - val_accuracy: 0.9890 - val_loss: 0.0424\n",
            "Epoch 8/10\n",
            "\u001b[1m844/844\u001b[0m \u001b[32m━━━━━━━━━━━━━━━━━━━━\u001b[0m\u001b[37m\u001b[0m \u001b[1m41s\u001b[0m 38ms/step - accuracy: 0.9921 - loss: 0.0235 - val_accuracy: 0.9897 - val_loss: 0.0480\n",
            "Epoch 9/10\n",
            "\u001b[1m844/844\u001b[0m \u001b[32m━━━━━━━━━━━━━━━━━━━━\u001b[0m\u001b[37m\u001b[0m \u001b[1m40s\u001b[0m 37ms/step - accuracy: 0.9936 - loss: 0.0192 - val_accuracy: 0.9903 - val_loss: 0.0384\n",
            "Epoch 10/10\n",
            "\u001b[1m844/844\u001b[0m \u001b[32m━━━━━━━━━━━━━━━━━━━━\u001b[0m\u001b[37m\u001b[0m \u001b[1m41s\u001b[0m 37ms/step - accuracy: 0.9941 - loss: 0.0171 - val_accuracy: 0.9912 - val_loss: 0.0350\n"
          ]
        }
      ]
    },
    {
      "cell_type": "code",
      "source": [
        "# Evaluate the Model:\n",
        "# We’ll now evaluate the model on the test data and check its accuracy.\n",
        "# Evaluate the model on the test set\n",
        "test_loss, test_acc = model.evaluate(x_test, y_test, verbose=2)\n",
        "\n",
        "print(f'Accuracy on the test set: {test_acc:.2f}%')"
      ],
      "metadata": {
        "colab": {
          "base_uri": "https://localhost:8080/"
        },
        "id": "FNrPUtTkJ2SQ",
        "outputId": "ac7c1357-79d9-46cf-f48b-21b917d86940"
      },
      "execution_count": 32,
      "outputs": [
        {
          "output_type": "stream",
          "name": "stdout",
          "text": [
            "313/313 - 2s - 7ms/step - accuracy: 0.9909 - loss: 0.0309\n",
            "Accuracy on the test set: 0.99%\n"
          ]
        }
      ]
    },
    {
      "cell_type": "code",
      "source": [
        "# Plotting Training and Validation Curves:\n",
        "# To understand the training process better, we can plot the training and validation accuracy and loss.\n",
        "# Plot the training accuracy and validation accuracy\n",
        "plt.plot(history.history['accuracy'], label='Training Accuracy')\n",
        "plt.plot(history.history['val_accuracy'], label='Validation Accuracy')\n",
        "plt.xlabel('Epoch')\n",
        "plt.ylabel('Accuracy')\n",
        "plt.legend()\n",
        "plt.title('Training and Validation Accuracy')\n",
        "plt.show()\n",
        "\n",
        "# Plot the training loss and validation loss\n",
        "plt.plot(history.history['loss'], label='Training Loss')\n",
        "plt.plot(history.history['val_loss'], label='Validation Loss')\n",
        "plt.xlabel('Epoch')\n",
        "plt.ylabel('Loss')\n",
        "plt.legend()\n",
        "plt.title('Training and Validation Loss')\n",
        "plt.show()"
      ],
      "metadata": {
        "colab": {
          "base_uri": "https://localhost:8080/",
          "height": 927
        },
        "id": "cjj11k8kJ2ia",
        "outputId": "615a74c5-e621-48a8-eea0-3f464ec25061"
      },
      "execution_count": 33,
      "outputs": [
        {
          "output_type": "display_data",
          "data": {
            "text/plain": [
              "<Figure size 640x480 with 1 Axes>"
            ],
            "image/png": "[encoded data removed]"
          },
          "metadata": {}
        },
        {
          "output_type": "display_data",
          "data": {
            "text/plain": [
              "<Figure size 640x480 with 1 Axes>"
            ],
            "image/png": "[encoded data removed]"
          },
          "metadata": {}
        }
      ]
    },
    {
      "cell_type": "markdown",
      "source": [
        "Results and Insights:\n",
        "\n",
        "Training Process:\n",
        "\n",
        "During the training process, the model's accuracy should improve in each epoch.\n",
        "It is expected that  the model will a achieve a high validation accuracy on the MNIST dataset within a few epochs, typically around 98-99% after 10 epochs of training.\n",
        "\n",
        "Test Set Performance:\n",
        "\n",
        "The test accuracy will typically range between 98% and 99%, which is consistent with what LeNet-5 was originally designed for—handwritten digit recognition.\n",
        "The low test loss indicates that the model has successfully learned to generalize to unseen examples.\n",
        "\n",
        "Insights:\n",
        "\n",
        "1. Strong Performance on MNIST:\n",
        "\n",
        "LeNet-5 was originally designed for tasks like MNIST digit classification, and it performs exceptionally well with an accuracy of around 98-99%. This demonstrates that even simple architectures like LeNet-5 can achieve excellent performance on simple image datasets.\n",
        "\n",
        "2. Simplicity and Efficiency:\n",
        "\n",
        "The LeNet-5 model is lightweight and computationally efficient, which makes it ideal for smaller datasets and low-complexity tasks. Its design makes it suitable for embedded systems or mobile devices, where resources are limited.\n",
        "\n",
        "3. Limitations for Complex Data:\n",
        "\n",
        "While LeNet-5 works well on MNIST, it struggles with more complex datasets such as CIFAR-10 or ImageNet. Its shallow depth and fewer convolutional filters limit its ability to capture high-level features from large, high-resolution images.\n",
        "\n",
        "4. Modern Techniques:\n",
        "\n",
        "While LeNet-5 doesn’t use modern techniques such as ReLU activations, batch normalization, or dropout, which are now standard in deep learning, these can be added to enhance its performance on more complex datasets. These techniques help with training stability, reducing overfitting, and improving convergence speed.\n",
        "\n",
        "Conclusion:\n",
        "\n",
        "LeNet-5 remains an important and effective architecture for simple image classification tasks, particularly for grayscale images like those in MNIST. The TensorFlow implementation shows that it can achieve high accuracy with minimal computational resources. However, for more complex image classification tasks, deeper and more sophisticated architectures are required."
      ],
      "metadata": {
        "id": "5_il5YnZKrBD"
      }
    },
    {
      "cell_type": "markdown",
      "source": [
        "## **TOPIC: Analyzing AlexNet**"
      ],
      "metadata": {
        "id": "Qa-deAbIMJoR"
      }
    },
    {
      "cell_type": "markdown",
      "source": [
        "Q1. Present an overview of the AlexNet architecture\n",
        "\n",
        "AlexNet is one of the most influential deep learning architectures, developed by Alex Krizhevsky, Ilya Sutskever, and Geoffrey Hinton. It won the ImageNet Large Scale Visual Recognition Challenge (ILSVRC) in 2012, marking a turning point in the adoption of deep learning for computer vision tasks. AlexNet demonstrated the power of convolutional neural networks (CNNs) on large datasets and contributed significantly to the revival of neural networks in the field of artificial intelligence.\n",
        "\n",
        "Key Features of AlexNet Architecture:\n",
        "\n",
        "1. Deep Convolutional Network:\n",
        "\n",
        "AlexNet consists of 8 layers (5 convolutional layers and 3 fully connected layers) with a total of about 60 million parameters.\n",
        "The first few layers are responsible for feature extraction (convolutional layers), and the last few layers perform the classification task (fully connected layers).\n",
        "\n",
        "2. ReLU Activation:\n",
        "\n",
        "AlexNet popularized the use of the ReLU (Rectified Linear Unit) activation function. Unlike traditional activation functions like sigmoid or tanh, ReLU significantly speeds up training by introducing non-linearity and avoiding gradient saturation.\n",
        "\n",
        "3. Dropout Regularization:\n",
        "\n",
        "To prevent overfitting, AlexNet uses dropout (with a rate of 0.5) in the fully connected layers. This technique randomly \"drops\" neurons during training, forcing the network to learn robust features and reducing the risk of overfitting.\n",
        "\n",
        "4. Data Augmentation:\n",
        "\n",
        "The model uses data augmentation techniques like image translations, horizontal flipping, and patch extraction to increase the diversity of the training set and further mitigate overfitting.\n",
        "\n",
        "5. Use of GPUs:\n",
        "\n",
        "AlexNet was one of the first architectures to heavily utilize GPUs (specifically, two NVIDIA GTX 580 GPUs). The model is parallelized across two GPUs for faster training.\n",
        "\n",
        "6. Max Pooling Layers:\n",
        "\n",
        "AlexNet includes max-pooling layers after some convolutional layers to reduce the spatial dimensions of the feature maps while retaining the most important information. Pooling helps reduce computational complexity.\n",
        "\n",
        "7. Large Receptive Fields and Strides:\n",
        "\n",
        "The first convolutional layer of AlexNet uses a relatively large 11x11 filter with a stride of 4. This was necessary due to the large input size (227x227) and the nature of the dataset.\n",
        "\n",
        "Detailed Architecture of AlexNet:\n",
        "\n",
        "1. Input Layer:\n",
        "\n",
        "The input to the model is an RGB image of size 227x227x3 (height, width, and 3 color channels). This is larger than the standard 32x32 images used in smaller datasets like CIFAR-10.\n",
        "\n",
        "2. Layer 1: Convolutional Layer + Max Pooling:\n",
        "\n",
        "Conv1: 96 filters, size 11x11, stride 4, padding 0\n",
        "Output size: 55x55x96\n",
        "Max Pooling: 3x3 pooling with stride 2\n",
        "Output size after pooling: 27x27x96\n",
        "\n",
        "3. Layer 2: Convolutional Layer + Max Pooling:\n",
        "\n",
        "Conv2: 256 filters, size 5x5, stride 1, padding 2\n",
        "Output size: 27x27x256\n",
        "Max Pooling: 3x3 pooling with stride 2\n",
        "Output size after pooling: 13x13x256\n",
        "\n",
        "4. Layer 3: Convolutional Layer:\n",
        "\n",
        "Conv3: 384 filters, size 3x3, stride 1, padding 1\n",
        "Output size: 13x13x384\n",
        "\n",
        "5. Layer 4: Convolutional Layer:\n",
        "\n",
        "Conv4: 384 filters, size 3x3, stride 1, padding 1\n",
        "Output size: 13x13x384\n",
        "\n",
        "6. Layer 5: Convolutional Layer + Max Pooling:\n",
        "\n",
        "Conv5: 256 filters, size 3x3, stride 1, padding 1\n",
        "Output size: 13x13x256\n",
        "Max Pooling: 3x3 pooling with stride 2\n",
        "Output size after pooling: 6x6x256\n",
        "\n",
        "7. Fully Connected Layers:\n",
        "\n",
        "FC6: Fully connected layer with 4096 neurons.\n",
        "FC7: Fully connected layer with 4096 neurons.\n",
        "FC8: Fully connected layer with 1000 neurons (corresponding to the 1000 classes in ImageNet).\n",
        "\n",
        "\n",
        "8. Output Layer:\n",
        "\n",
        "The final layer is a softmax classifier that outputs a probability distribution over the 1000 ImageNet classes.\n",
        "\n",
        "\n",
        "Key Contributions and Impact of AlexNet:\n",
        "\n",
        "1. Breakthrough Performance:\n",
        "\n",
        "AlexNet achieved a top-5 error rate of 15.3% on the ImageNet dataset, a significant improvement compared to the second-best result of 26.2%, which was achieved using traditional computer vision techniques.\n",
        "\n",
        "2. Catalyst for the Deep Learning Revolution:\n",
        "\n",
        "The success of AlexNet is widely regarded as the event that sparked the deep learning revolution. It demonstrated that CNNs could outperform traditional computer vision methods when combined with large datasets and high-performance hardware like GPUs.\n",
        "\n",
        "3. Popularized CNNs for Vision:\n",
        "\n",
        "AlexNet's architecture inspired future state-of-the-art models, such as VGG, GoogLeNet, ResNet, and others. It helped make CNNs the go-to model for image classification, object detection, and various other computer vision tasks.\n",
        "\n",
        "4. Challenges Addressed by AlexNet:\n",
        "\n",
        "Overfitting: AlexNet mitigated overfitting using dropout and data augmentation.\n",
        "Training Time: By utilizing GPUs and ReLU activations, AlexNet significantly reduced training times.\n",
        "\n",
        "Limitations:\n",
        "\n",
        "1. Manual Design:\n",
        "\n",
        "AlexNet required manual tuning of hyperparameters like filter sizes, strides, and padding, which made it less flexible compared to later architectures that incorporated automated search techniques.\n",
        "\n",
        "2. Computational Requirements:\n",
        "\n",
        "While it was groundbreaking for its time, AlexNet is now considered computationally heavy compared to modern architectures, which have found ways to achieve better performance with fewer parameters (e.g., MobileNet, EfficientNet).\n",
        "\n",
        "3.Overfitting Risk:\n",
        "\n",
        "Despite the use of dropout, the large number of parameters (~60 million) in AlexNet can still pose a risk of overfitting on smaller datasets.\n",
        "\n",
        "Conclusion:\n",
        "\n",
        "AlexNet is a landmark architecture in the history of deep learning and computer vision. It demonstrated the potential of CNNs for large-scale image classification tasks, reshaped the field of deep learning, and laid the foundation for many of the deep neural network architectures that followed. Its success led to widespread adoption of deep learning techniques and fueled further research in AI."
      ],
      "metadata": {
        "id": "y02AOqhaMWW4"
      }
    },
    {
      "cell_type": "markdown",
      "source": [
        "Q2. Explain the architectural innovations introduced in AlexNet that contributed to its breakthrough performance\n",
        "\n",
        "\n",
        "\n",
        "AlexNet introduced several key architectural innovations that played a pivotal role in its breakthrough performance on the ImageNet Large Scale Visual Recognition Challenge (ILSVRC) 2012, where it achieved a top-5 error rate of 15.3%, far outperforming its competitors. These innovations helped in improving accuracy, enabling faster training, and preventing overfitting.\n",
        "\n",
        "Here are the architectural innovations introduced in AlexNet:\n",
        "\n",
        "1. ReLU (Rectified Linear Unit) Activation Function:\n",
        "Key Innovation: AlexNet replaced traditional activation functions like sigmoid or tanh with the ReLU activation function.\n",
        "\n",
        "Impact:\n",
        "\n",
        "Faster Training: ReLU dramatically sped up the training process by addressing the vanishing gradient problem. In ReLU, gradients do not saturate like in sigmoid or tanh, meaning that large gradient values can still be propagated back to earlier layers, allowing for faster convergence.\n",
        "\n",
        "Non-linearity: ReLU introduces non-linearity into the model, helping the network to model more complex patterns.\n",
        "\n",
        "Why It Was Important: The introduction of ReLU activation helped significantly reduce training times and made it feasible to train deep networks on large datasets like ImageNet.\n",
        "\n",
        "2. GPU-Based Training (Parallelization):\n",
        "Key Innovation: AlexNet utilized GPUs (Graphics Processing Units) to perform parallel computations. Specifically, it used two NVIDIA GTX 580 GPUs.\n",
        "\n",
        "Impact:\n",
        "\n",
        "Scalability: By splitting the model across two GPUs, the network could handle the increased computational load from training on large-scale datasets (like ImageNet, which contains millions of images).\n",
        "\n",
        "Faster Training: The use of GPUs enabled AlexNet to train much faster compared to traditional CPUs, reducing the overall training time from weeks to days.\n",
        "\n",
        "Efficient Memory Usage: The model architecture was parallelized across two GPUs, and layers were designed in a way that each GPU computed half of the model. This allowed AlexNet to fit into memory, which was critical given the limited GPU memory available at the time.\n",
        "\n",
        "3. Dropout Regularization:\n",
        "\n",
        "Key Innovation: AlexNet introduced dropout as a form of regularization, particularly in its fully connected layers.\n",
        "\n",
        "Impact:\n",
        "\n",
        "Prevention of Overfitting: Dropout randomly drops a fraction of neurons (with a probability of 0.5) during training, forcing the network to learn more robust and generalized representations.\n",
        "\n",
        "Ensemble Effect: By dropping different neurons during training, dropout acts like training multiple networks and averaging their predictions, thus reducing overfitting.\n",
        "\n",
        "Why It Was Important: With 60 million parameters, AlexNet was prone to overfitting. Dropout was critical in regularizing the network, allowing it to generalize well to unseen data.\n",
        "\n",
        "4. Data Augmentation:\n",
        "\n",
        "Key Innovation: AlexNet used data augmentation techniques to artificially increase the size and variability of the training dataset.\n",
        "\n",
        "\n",
        "Techniques Used:\n",
        "\n",
        "Random Cropping: Randomly cropping different patches from the input image (e.g., cropping 224x224 regions from the original 256x256 input) helps the model learn location-invariant features.\n",
        "\n",
        "Horizontal Flipping: Random horizontal flipping of images ensures that the model does not become sensitive to specific orientations of objects.\n",
        "\n",
        "Lighting Changes: Adjusting the intensity of RGB channels (adding PCA noise) helped AlexNet become robust to changes in lighting conditions.\n",
        "\n",
        "Impact:\n",
        "\n",
        "Improved Generalization: Data augmentation helped AlexNet generalize better by introducing more variability into the training process, allowing it to learn robust features.\n",
        "\n",
        "Overfitting Reduction: This technique also helped reduce overfitting by providing more diverse input images.\n",
        "\n",
        "5. Overlapping Max Pooling:\n",
        "\n",
        "Key Innovation: Instead of the traditional non-overlapping pooling, AlexNet used overlapping max pooling with a pooling size of 3x3 and a stride of 2.\n",
        "\n",
        "Impact:\n",
        "\n",
        "Reduction in Overfitting: Overlapping pooling helped reduce overfitting by preventing the pooling operation from discarding too much information.\n",
        "\n",
        "Retaining Important Features: It retained more spatial information compared to non-overlapping pooling, which was important for accurately capturing object details and boundaries.\n",
        "\n",
        "Why It Was Important: Overlapping pooling provided a good balance between feature reduction and preserving critical image details, contributing to the model's improved performance.\n",
        "\n",
        "6. Use of Large Filters in Initial Layers:\n",
        "\n",
        "Key Innovation: The first convolutional layer used a relatively large filter size of 11x11 with a stride of 4.\n",
        "\n",
        "Impact:\n",
        "\n",
        "Capturing Large Features: This design choice allowed AlexNet to capture large features in the initial layers, which was necessary given the larger input image size (227x227) compared to earlier networks like LeNet-5.\n",
        "\n",
        "Dimensionality Reduction: The large filter and stride helped reduce the input size early on, making the model computationally more feasible as deeper layers were introduced.\n",
        "\n",
        "Why It Was Important: The use of large filters in the early layers helped the model detect global structures in the image, which were crucial for object classification in large, high-resolution datasets like ImageNet.\n",
        "\n",
        "7. Normalization (Local Response Normalization - LRN):\n",
        "\n",
        "Key Innovation: AlexNet introduced Local Response Normalization (LRN) after certain convolutional layers.\n",
        "\n",
        "Impact:\n",
        "\n",
        "Lateral Inhibition: LRN implements a kind of lateral inhibition, where the activation of a neuron is divided by the sum of the activations of neighboring neurons, which encourages competition between neurons.\n",
        "\n",
        "Improved Generalization: This helps highlight significant features while suppressing less informative ones, which can aid in generalization.\n",
        "Why It Was Important: Although LRN is rarely used in modern networks, it was crucial for AlexNet’s performance, helping the model train more effectively and leading to better accuracy at the time.\n",
        "\n",
        "8. Large-Scale Dataset and Model Size:\n",
        "\n",
        "Key Innovation: AlexNet was designed to handle a large dataset like ImageNet (which contains 1.2 million images in 1000 categories) and introduced a network with a much larger number of parameters (60 million).\n",
        "\n",
        "Impact:\n",
        "\n",
        "Deep Representation Learning: The depth and complexity of the model allowed it to learn rich hierarchical representations of images, which was critical for tackling the large-scale, diverse ImageNet dataset.\n",
        "\n",
        "Scalable Architecture: By scaling the model in both depth and width, AlexNet was able to model the complexity of real-world objects more effectively than shallower networks.\n",
        "\n",
        "Why It Was Important: Prior to AlexNet, many models struggled to handle the complexity of large datasets. AlexNet showed that deep networks, when trained properly, can handle large-scale problems successfully.\n",
        "\n",
        "Summary of Key Innovations in AlexNet:\n",
        "\n",
        "Innovation\tContribution to Performance\n",
        "\n",
        "ReLU Activation\tFaster training by addressing vanishing gradients.\n",
        "GPU-Based Training\tAllowed for efficient training on large-scale datasets using parallel computation.\n",
        "\n",
        "Dropout Regularization\tPrevented overfitting by randomly dropping neurons during training.\n",
        "\n",
        "Data Augmentation\tIncreased dataset diversity and reduced overfitting through cropping, flipping, and lighting changes.\n",
        "\n",
        "Overlapping Max Pooling\tReduced feature map size while preserving spatial information more effectively.\n",
        "\n",
        "Large Filters in Initial Layers\tCaptured larger-scale patterns and reduced input dimensionality early in the network.\n",
        "\n",
        "Local Response Normalization (LRN)\tEnhanced feature discrimination and improved generalization.\n",
        "\n",
        "Large-Scale Dataset Handling\tEnabled the network to learn deep representations for complex, real-world object classification.\n",
        "\n",
        "Conclusion:\n",
        "\n",
        "The architectural innovations introduced in AlexNet—such as ReLU activation, GPU acceleration, dropout regularization, and data augmentation—set the stage for a new era in deep learning. These innovations allowed the model to handle large-scale datasets like ImageNet with remarkable success, resulting in AlexNet's breakthrough performance in the 2012 ILSVRC. Many of these ideas remain fundamental to modern deep learning architectures."
      ],
      "metadata": {
        "id": "OpEFuE0WPKYs"
      }
    },
    {
      "cell_type": "markdown",
      "source": [
        "Q3. Discuss the role of convolutional layers, pooling layers, and fully connected layers in AlexNet\n",
        "\n",
        "\n",
        "In AlexNet, convolutional layers, pooling layers, and fully connected layers each play critical roles in processing input images, extracting features, and performing classification. Here's a detailed look at the function of each of these layer types and their contribution to the network's performance:\n",
        "\n",
        "1. Convolutional Layers:\n",
        "\n",
        "Role: Convolutional layers are responsible for the feature extraction process. They detect patterns such as edges, textures, shapes, and higher-level features by applying filters (kernels) to the input image or feature map.\n",
        "How They Work:\n",
        "\n",
        "Each filter convolves over the input, producing a feature map that represents certain features in the image.\n",
        "\n",
        "AlexNet's first convolutional layer, for example, uses 96 filters of size 11x11 with a stride of 4, which helps capture basic features like edges and textures.\n",
        "As the network deepens, convolutional layers learn more complex patterns, with later layers capturing higher-level features such as parts of objects or entire objects.\n",
        "\n",
        "Key Functions in AlexNet:\n",
        "\n",
        "Feature Hierarchy: Early convolutional layers capture low-level features (e.g., edges, textures), while deeper layers capture high-level patterns (e.g., object parts, complex shapes).\n",
        "\n",
        "Shared Weights: The filters are shared across the entire image, allowing AlexNet to detect the same feature regardless of its position in the image, introducing translation invariance.\n",
        "\n",
        "Parameter Efficiency: Instead of fully connecting all input pixels, convolutional layers allow local connectivity, drastically reducing the number of parameters compared to fully connected layers.\n",
        "\n",
        "2. Pooling Layers:\n",
        "\n",
        "Role: Pooling layers perform down-sampling, reducing the spatial size of the feature maps generated by convolutional layers. This decreases the computational load and helps the model become more robust to small spatial variations (such as small shifts or distortions in the input image).\n",
        "\n",
        "How They Work:\n",
        "\n",
        "In AlexNet, max pooling is used to select the maximum value from patches of the feature map (e.g., a 3x3 window with a stride of 2), reducing the feature map size by a factor of 2 while retaining the most important information.\n",
        "Pooling layers in AlexNet are placed after some convolutional layers to progressively reduce the spatial dimensions of the input.\n",
        "\n",
        "Key Functions in AlexNet:\n",
        "\n",
        "Dimensionality Reduction: By reducing the size of feature maps, pooling layers help decrease the computational complexity of the network and avoid overfitting.\n",
        "Preservation of Key Features: Max pooling retains the most prominent features in each local region, which helps preserve important details while discarding less relevant information.\n",
        "\n",
        "Overlapping Max Pooling: AlexNet uses overlapping max pooling (with a pooling size of 3x3 and stride of 2) instead of non-overlapping pooling. This helps preserve more information, reducing the risk of information loss.\n",
        "\n",
        "3. Fully Connected Layers:\n",
        "\n",
        "Role: Fully connected layers perform the final classification by taking the high-level features extracted by the convolutional and pooling layers and mapping them to the output class scores (probabilities for each class).\n",
        "\n",
        "How They Work:\n",
        "\n",
        "Each neuron in a fully connected layer is connected to every neuron in the previous layer. This allows the model to combine the high-level features learned in the earlier layers into a final decision for classification.\n",
        "In AlexNet, the fully connected layers are designed with 4096 neurons in each of the first two fully connected layers (FC6 and FC7), followed by the final output layer (FC8) with 1000 neurons, corresponding to the 1000 classes in the ImageNet dataset.\n",
        "\n",
        "The last fully connected layer outputs a probability distribution using a softmax activation function, which assigns probabilities to the 1000 possible image classes.\n",
        "\n",
        "Key Functions in AlexNet:\n",
        "\n",
        "High-Level Feature Combination: Fully connected layers combine the learned features from the convolutional layers and pooling layers to make final predictions.\n",
        "\n",
        "Dense Connections: The dense connections in fully connected layers ensure that every feature learned by the network influences the final decision.\n",
        "Classification: The final layer uses softmax activation to output class probabilities, which allows the model to make the final classification based on the learned feature representations.\n",
        "\n",
        "\n",
        "Combined Contribution to AlexNet's Success:\n",
        "\n",
        "Convolutional Layers act as feature detectors, learning patterns at various levels of abstraction. In the early layers, the filters detect simple features like edges, while deeper layers capture more complex features like object parts and entire objects. This hierarchical feature extraction enables AlexNet to effectively recognize and classify diverse objects.\n",
        "\n",
        "\n",
        "Pooling Layers simplify the representation by reducing the spatial dimensions of the feature maps while retaining the most important information. Pooling reduces the computational complexity and helps in preventing overfitting by focusing on the most salient features. The use of overlapping pooling in AlexNet retains more information compared to non-overlapping pooling, contributing to better performance.\n",
        "\n",
        "Fully Connected Layers integrate the learned features into a final classification. These layers are responsible for interpreting the feature maps and making decisions based on the combination of features. In AlexNet, the fully connected layers are critical for translating the abstracted feature representations from convolutional layers into meaningful class predictions.\n",
        "\n",
        "Together, these three types of layers form a powerful deep learning architecture capable of handling complex image classification tasks on large datasets like ImageNet. The combination of convolutional layers for feature extraction, pooling layers for dimensionality reduction, and fully connected layers for classification enabled AlexNet to outperform traditional machine learning approaches and set the stage for future deep learning architectures.\n",
        "\n",
        "\n",
        "\n",
        "\n",
        "\n",
        "\n"
      ],
      "metadata": {
        "id": "kaeeGcQsRrQt"
      }
    },
    {
      "cell_type": "markdown",
      "source": [
        "Q4. Implement AlexNet using a deep learning framework of your choice and evaluate its performance on a dataset of your choice.\n",
        "\n",
        "\n",
        "\n",
        "Here is a complete implementation of the AlexNet architecture using TensorFlow and Keras, along with training and evaluation on the CIFAR-10 dataset, which consists of 60,000 32x32 color images in 10 classes."
      ],
      "metadata": {
        "id": "2_2Dgg5SS6v0"
      }
    },
    {
      "cell_type": "code",
      "source": [
        "import tensorflow as tf\n",
        "from tensorflow import keras\n",
        "from tensorflow.keras import layers, models\n",
        "import numpy as np\n",
        "import matplotlib.pyplot as plt"
      ],
      "metadata": {
        "id": "Vr9yaH0BJ2sY"
      },
      "execution_count": 34,
      "outputs": []
    },
    {
      "cell_type": "code",
      "source": [
        "# Load and Preprocess the CIFAR-10 Dataset\n",
        "# Load CIFAR-10 dataset\n",
        "(x_train, y_train), (x_test, y_test) = keras.datasets.cifar10.load_data()\n",
        "\n",
        "# Normalize the pixel values to be between 0 and 1\n",
        "x_train = x_train.astype('float32') / 255.0\n",
        "x_test = x_test.astype('float32') / 255.0\n",
        "\n",
        "# Convert class vectors to binary class matrices (one-hot encoding)\n",
        "y_train = keras.utils.to_categorical(y_train, 10)\n",
        "y_test = keras.utils.to_categorical(y_test, 10)"
      ],
      "metadata": {
        "id": "8I0AKCGnTRXc"
      },
      "execution_count": 35,
      "outputs": []
    },
    {
      "cell_type": "code",
      "source": [
        "# Define the AlexNet Architecture\n",
        "def create_alexnet(input_shape=(32, 32, 3), num_classes=10):\n",
        "    model = models.Sequential()\n",
        "\n",
        "    # Convolutional Layer 1\n",
        "    model.add(layers.Conv2D(96, (3, 3), activation='relu', input_shape=input_shape))\n",
        "    model.add(layers.MaxPooling2D((2, 2), strides=2))\n",
        "\n",
        "    # Convolutional Layer 2\n",
        "    model.add(layers.Conv2D(256, (3, 3), activation='relu'))\n",
        "    model.add(layers.MaxPooling2D((2, 2), strides=2))\n",
        "\n",
        "    # Convolutional Layer 3\n",
        "    model.add(layers.Conv2D(384, (3, 3), activation='relu'))\n",
        "\n",
        "    # Convolutional Layer 4\n",
        "    model.add(layers.Conv2D(384, (3, 3), activation='relu'))\n",
        "\n",
        "    # Convolutional Layer 5\n",
        "    model.add(layers.Conv2D(256, (3, 3), activation='relu'))\n",
        "    model.add(layers.MaxPooling2D((2, 2), strides=2))\n",
        "\n",
        "    # Flatten the output\n",
        "    model.add(layers.Flatten())\n",
        "\n",
        "    # Fully Connected Layer 1\n",
        "    model.add(layers.Dense(4096, activation='relu'))\n",
        "    model.add(layers.Dropout(0.5))\n",
        "\n",
        "    # Fully Connected Layer 2\n",
        "    model.add(layers.Dense(4096, activation='relu'))\n",
        "    model.add(layers.Dropout(0.5))\n",
        "\n",
        "    # Fully Connected Layer 3 (Output Layer)\n",
        "    model.add(layers.Dense(num_classes, activation='softmax'))\n",
        "\n",
        "    return model\n",
        "\n",
        "# Create the AlexNet model\n",
        "alexnet_model = create_alexnet()"
      ],
      "metadata": {
        "id": "OGyWX3aOTRaa"
      },
      "execution_count": 36,
      "outputs": []
    },
    {
      "cell_type": "code",
      "source": [
        "# Compile the model\n",
        "alexnet_model.compile(optimizer='adam',\n",
        "                      loss='categorical_crossentropy',\n",
        "                      metrics=['accuracy'])\n"
      ],
      "metadata": {
        "id": "qT6G-OOaTRc7"
      },
      "execution_count": 37,
      "outputs": []
    },
    {
      "cell_type": "code",
      "source": [
        "# Define the AlexNet Architecture\n",
        "def create_alexnet(input_shape=(32, 32, 3), num_classes=10):\n",
        "    model = models.Sequential()\n",
        "\n",
        "    # Convolutional Layer 1\n",
        "    model.add(layers.Conv2D(96, (3, 3), activation='relu', input_shape=input_shape))\n",
        "    model.add(layers.MaxPooling2D((2, 2), strides=2))  # input_shape = (32,32,3) output_shape = (15,15,96)\n",
        "\n",
        "    # Convolutional Layer 2\n",
        "    model.add(layers.Conv2D(256, (3, 3), activation='relu'))\n",
        "    model.add(layers.MaxPooling2D((2, 2), strides=2))  # input_shape = (15,15,96) output_shape = (6,6,256)\n",
        "    # output shape = (floor((input_shape - kernel_size + 2*padding)/stride) + 1)\n",
        "    # floor((15 - 3 + 2*0)/2) + 1 = 7, but we set strides=2, so its 6\n",
        "    # Convolutional Layer 3\n",
        "    model.add(layers.Conv2D(384, (3, 3), activation='relu')) # input_shape = (6,6,256) output_shape = (4,4,384)\n",
        "\n",
        "    # Convolutional Layer 4\n",
        "    model.add(layers.Conv2D(384, (3, 3), activation='relu')) # input_shape = (4,4,384) output_shape = (2,2,384)\n",
        "\n",
        "    # Convolutional Layer 5\n",
        "    # Changed kernel size to (2, 2) to avoid negative dimension error\n",
        "    model.add(layers.Conv2D(256, (2, 2), activation='relu')) # input_shape = (2,2,384) output_shape = (1,1,256)\n",
        "    model.add(layers.MaxPooling2D((2, 2), strides=2))\n",
        "\n",
        "    # Flatten the output\n",
        "    model.add(layers.Flatten())\n",
        "\n",
        "    # Fully Connected Layer 1\n",
        "    model.add(layers.Dense(4096, activation='relu'))\n",
        "    model.add(layers.Dropout(0.5))\n",
        "\n",
        "    # Fully Connected Layer 2\n",
        "    model.add(layers.Dense(4096, activation='relu'))\n",
        "    model.add(layers.Dropout(0.5))\n",
        "\n",
        "    # Fully Connected Layer 3 (Output Layer)\n",
        "    model.add(layers.Dense(num_classes, activation='softmax'))\n",
        "\n",
        "    return model"
      ],
      "metadata": {
        "id": "TzHi8l1TTR8j"
      },
      "execution_count": 38,
      "outputs": []
    },
    {
      "cell_type": "code",
      "source": [
        "# Plot training & validation accuracy values\n",
        "plt.plot(history.history['accuracy'])\n",
        "plt.plot(history.history['val_accuracy'])\n",
        "plt.title('Model accuracy')\n",
        "plt.ylabel('Accuracy')\n",
        "plt.xlabel('Epoch')\n",
        "plt.legend(['Train', 'Validation'], loc='upper left')\n",
        "plt.show()\n",
        "\n",
        "# Plot training & validation loss values\n",
        "plt.plot(history.history['loss'])\n",
        "plt.plot(history.history['val_loss'])\n",
        "plt.title('Model loss')\n",
        "plt.ylabel('Loss')\n",
        "plt.xlabel('Epoch')\n",
        "plt.legend(['Train', 'Validation'], loc='upper left')\n",
        "plt.show()"
      ],
      "metadata": {
        "colab": {
          "base_uri": "https://localhost:8080/",
          "height": 927
        },
        "id": "93KG1JKbV6tF",
        "outputId": "c4f4022c-5fae-49e2-d8f5-8eba2c7b6441"
      },
      "execution_count": 39,
      "outputs": [
        {
          "output_type": "display_data",
          "data": {
            "text/plain": [
              "<Figure size 640x480 with 1 Axes>"
            ],
            "image/png": "[encoded data removed]"
          },
          "metadata": {}
        },
        {
          "output_type": "display_data",
          "data": {
            "text/plain": [
              "<Figure size 640x480 with 1 Axes>"
            ],
            "image/png": "[encoded data removed]"
          },
          "metadata": {}
        }
      ]
    },
    {
      "cell_type": "markdown",
      "source": [
        "Summary of the result:\n",
        "\n",
        "Training Process: The model is trained for 20 epochs with a batch size of 64. You can adjust these parameters based on your GPU's memory capacity and desired training duration.\n",
        "\n",
        "Evaluation: After training, the model is evaluated on the CIFAR-10 test set, and you will get an accuracy score.\n",
        "\n",
        "Visualization: The training and validation accuracy and loss curves provide insights into the model’s learning behavior.\n",
        "\n",
        "Note:\n",
        "CIFAR-10 Dataset: CIFAR-10 images are 32x32, which is smaller than the original input size for AlexNet (227x227). In this implementation, we adjusted the convolutional layer filters and sizes to accommodate the smaller input size while maintaining the overall structure of the AlexNet architecture.\n",
        "\n",
        "Computational Resources: Depending on your hardware (CPU/GPU), training time may vary. Using a GPU will significantly speed up the process.\n",
        "\n",
        "Conclusion\n",
        "This implementation of AlexNet demonstrates how the architecture can be adapted to smaller input sizes while retaining its core components. The training and evaluation process allows you to assess the model's performance on image classification tasks. Feel free to modify hyperparameters, augmentations, or layers to experiment with different setups!"
      ],
      "metadata": {
        "id": "pzqmc7JPWTbU"
      }
    },
    {
      "cell_type": "markdown",
      "source": [
        "# **Thank You!**"
      ],
      "metadata": {
        "id": "oiQarhkSXRgl"
      }
    }
  ]
}