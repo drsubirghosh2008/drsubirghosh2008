{
  "nbformat": 4,
  "nbformat_minor": 0,
  "metadata": {
    "colab": {
      "provenance": [],
      "authorship_tag": "ABX9TyNB9G6jJkvaNR50tUuJ5zzB",
      "include_colab_link": true
    },
    "kernelspec": {
      "name": "python3",
      "display_name": "Python 3"
    },
    "language_info": {
      "name": "python"
    }
  },
  "cells": [
    {
      "cell_type": "markdown",
      "metadata": {
        "id": "view-in-github",
        "colab_type": "text"
      },
      "source": [
        "<a href=\"https://colab.research.google.com/github/drsubirghosh2008/drsubirghosh2008/blob/main/PW_Assignment_Module_10_Python__16_10_24.ipynb\" target=\"_parent\"><img src=\"https://colab.research.google.com/assets/colab-badge.svg\" alt=\"Open In Colab\"/></a>"
      ]
    },
    {
      "cell_type": "markdown",
      "source": [
        "Q1. Create a python program to sort the given list of tuples based on integer value using a  lambda function.\n",
        "[('Sachin Tendulkar', 34357), ('Ricky Ponting', 27483), ('Jack Kallis', 25534), ('Virat Kohli', 24936)]\n",
        "\n",
        "\n",
        "Answer:\n",
        "\n",
        "\n",
        "To use the sorted() function along with a lambda function to sort the list of tuples based on the integer value. Here's a Python program that does that:\n",
        "\n",
        "In this program:\n",
        "\n",
        "The sorted() function is used to sort the list of tuples.\n",
        "\n",
        "The key=lambda x: x[1] tells the sorted() function to use the second element (integer score) of each tuple for sorting.\n",
        "\n",
        "The reverse=True sorts the list in descending order. If you want ascending order, just remove reverse=True.\n"
      ],
      "metadata": {
        "id": "CiLLFm-PAtRm"
      }
    },
    {
      "cell_type": "code",
      "source": [
        "# List of tuples\n",
        "cricketers = [\n",
        "    ('Sachin Tendulkar', 34357),\n",
        "    ('Ricky Ponting', 27483),\n",
        "    ('Jack Kallis', 25534),\n",
        "    ('Virat Kohli', 24936)\n",
        "]\n",
        "\n",
        "# Sorting the list of tuples based on the integer value (second element in each tuple)\n",
        "sorted_cricketers = sorted(cricketers, key=lambda x: x[1], reverse=True)\n",
        "\n",
        "# Displaying the sorted list\n",
        "for player in sorted_cricketers:\n",
        "    print(player)"
      ],
      "metadata": {
        "colab": {
          "base_uri": "https://localhost:8080/"
        },
        "id": "TfSbj1b7BEeF",
        "outputId": "e6da2ba7-147e-4e8a-9fbf-d3d484a424c3"
      },
      "execution_count": null,
      "outputs": [
        {
          "output_type": "stream",
          "name": "stdout",
          "text": [
            "('Sachin Tendulkar', 34357)\n",
            "('Ricky Ponting', 27483)\n",
            "('Jack Kallis', 25534)\n",
            "('Virat Kohli', 24936)\n"
          ]
        }
      ]
    },
    {
      "cell_type": "markdown",
      "source": [
        "Q2. Write a Python Program to find the squares of all the numbers in the given list of integers using  lambda and map functions.\n",
        "[1, 2, 3, 4, 5, 6, 7, 8, 9, 10]\n",
        "\n",
        "Answer:\n",
        "\n",
        "using the map() function along with a lambda function to find the squares of all the numbers in the list. Here's a Python program that does that:"
      ],
      "metadata": {
        "id": "Z97E9w8cBslk"
      }
    },
    {
      "cell_type": "code",
      "source": [
        "# List of integers\n",
        "numbers = [1, 2, 3, 4, 5, 6, 7, 8, 9, 10]\n",
        "\n",
        "# Using map and lambda to find the squares of all numbers\n",
        "squares = list(map(lambda x: x ** 2, numbers))\n",
        "\n",
        "# Displaying the result\n",
        "print(squares)"
      ],
      "metadata": {
        "colab": {
          "base_uri": "https://localhost:8080/"
        },
        "id": "5-FhrbVhCrMA",
        "outputId": "6d0c26df-89cc-4109-9eb2-5a17a1fa6026"
      },
      "execution_count": null,
      "outputs": [
        {
          "output_type": "stream",
          "name": "stdout",
          "text": [
            "[1, 4, 9, 16, 25, 36, 49, 64, 81, 100]\n"
          ]
        }
      ]
    },
    {
      "cell_type": "markdown",
      "source": [
        "Q3. Write a python program to convert the given list of integers into a tuple of strings. Use map and lambda functions\n",
        "\n",
        "Given String: [1, 2, 3, 4, 5, 6, 7, 8, 9, 10]\n",
        "\n",
        "Expected output: ('1', '2', '3', '4', '5', '6', '7', '8', '9', '10')\n",
        "\n",
        "using the map() function along with a lambda function to convert the given list of integers into a tuple of strings. Here's the Python program to achieve this:"
      ],
      "metadata": {
        "id": "tt6Iej5JDKZm"
      }
    },
    {
      "cell_type": "code",
      "source": [
        "# List of integers\n",
        "numbers = [1, 2, 3, 4, 5, 6, 7, 8, 9, 10]\n",
        "\n",
        "# Using map and lambda to convert each integer to a string\n",
        "string_tuple = tuple(map(lambda x: str(x), numbers))\n",
        "\n",
        "# Displaying the result\n",
        "print(string_tuple)"
      ],
      "metadata": {
        "colab": {
          "base_uri": "https://localhost:8080/"
        },
        "id": "Q8jV6J2KD9xG",
        "outputId": "e31a44d9-dfc8-4458-fd5b-cc8a37413b62"
      },
      "execution_count": null,
      "outputs": [
        {
          "output_type": "stream",
          "name": "stdout",
          "text": [
            "('1', '2', '3', '4', '5', '6', '7', '8', '9', '10')\n"
          ]
        }
      ]
    },
    {
      "cell_type": "markdown",
      "source": [
        "Q4. Write a python program using reduce function to compute the product of a list containing numbers from 1 to 25.\n",
        "\n",
        "\n",
        "\n",
        "\n",
        "Using  the reduce() function from the functools module to compute the product of a list of numbers. Here's the Python program to compute the product of numbers from 1 to 25:"
      ],
      "metadata": {
        "id": "2Ee-zC_NESCl"
      }
    },
    {
      "cell_type": "code",
      "source": [
        "from functools import reduce\n",
        "\n",
        "# List of numbers from 1 to 25\n",
        "numbers = list(range(1, 26))\n",
        "\n",
        "# Using reduce to compute the product of all numbers in the list\n",
        "product = reduce(lambda x, y: x * y, numbers)\n",
        "\n",
        "# Displaying the result\n",
        "print(product)"
      ],
      "metadata": {
        "colab": {
          "base_uri": "https://localhost:8080/"
        },
        "id": "1q4mhQseERM9",
        "outputId": "f01997d7-8996-4bdb-bedb-7867f122b8d8"
      },
      "execution_count": null,
      "outputs": [
        {
          "output_type": "stream",
          "name": "stdout",
          "text": [
            "15511210043330985984000000\n"
          ]
        }
      ]
    },
    {
      "cell_type": "markdown",
      "source": [
        "Q5. Write a python program to filter the numbers in a given list that are divisible by 2 and 3 using the filter function.\n",
        "[2, 3, 6, 9, 27, 60, 90, 120, 55, 46]\n",
        "\n",
        "\n",
        "\n",
        "Using the filter() function along with a lambda function to filter the numbers divisible by both 2 and 3. Here's the Python program for that:"
      ],
      "metadata": {
        "id": "RnKQ5gU5FKj2"
      }
    },
    {
      "cell_type": "code",
      "source": [
        "# List of numbers\n",
        "numbers = [2, 3, 6, 9, 27, 60, 90, 120, 55, 46]\n",
        "\n",
        "# Using filter and lambda to get numbers divisible by both 2 and 3\n",
        "divisible_by_2_and_3 = list(filter(lambda x: x % 2 == 0 and x % 3 == 0, numbers))\n",
        "\n",
        "# Displaying the result\n",
        "print(divisible_by_2_and_3)"
      ],
      "metadata": {
        "colab": {
          "base_uri": "https://localhost:8080/"
        },
        "id": "CpEWMjqLFv8O",
        "outputId": "bf0aa77b-c20d-4b09-c0b4-3d08b1248875"
      },
      "execution_count": null,
      "outputs": [
        {
          "output_type": "stream",
          "name": "stdout",
          "text": [
            "[6, 60, 90, 120]\n"
          ]
        }
      ]
    },
    {
      "cell_type": "markdown",
      "source": [
        "Q6. Write a python program to find palindromes in the given list of strings using lambda and filter function.\n",
        "\n",
        "['python', 'php', 'aba', 'radar', 'level']\n",
        "\n",
        "\n",
        "Using the filter() function along with a lambda function to find palindromes in the given list of strings. Here's the Python program for that:"
      ],
      "metadata": {
        "id": "1qNnZUinF17f"
      }
    },
    {
      "cell_type": "code",
      "source": [
        "# List of strings\n",
        "words = ['python', 'php', 'aba', 'radar', 'level']\n",
        "\n",
        "# Using filter and lambda to find palindromes\n",
        "palindromes = list(filter(lambda x: x == x[::-1], words))\n",
        "\n",
        "# Displaying the result\n",
        "print(palindromes)"
      ],
      "metadata": {
        "colab": {
          "base_uri": "https://localhost:8080/"
        },
        "id": "vPyKGT9HGtO3",
        "outputId": "bae94555-390c-40bb-f5fa-ffa527af2d04"
      },
      "execution_count": null,
      "outputs": [
        {
          "output_type": "stream",
          "name": "stdout",
          "text": [
            "['php', 'aba', 'radar', 'level']\n"
          ]
        }
      ]
    },
    {
      "cell_type": "markdown",
      "source": [
        "Thank you!"
      ],
      "metadata": {
        "id": "lCbQpw8ZGzjV"
      }
    }
  ]
}