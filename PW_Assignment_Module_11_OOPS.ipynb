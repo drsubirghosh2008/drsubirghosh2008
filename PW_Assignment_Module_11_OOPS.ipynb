{
  "nbformat": 4,
  "nbformat_minor": 0,
  "metadata": {
    "colab": {
      "provenance": [],
      "authorship_tag": "ABX9TyMWXc6gWWDVRrgIBhtdPnPc",
      "include_colab_link": true
    },
    "kernelspec": {
      "name": "python3",
      "display_name": "Python 3"
    },
    "language_info": {
      "name": "python"
    }
  },
  "cells": [
    {
      "cell_type": "markdown",
      "metadata": {
        "id": "view-in-github",
        "colab_type": "text"
      },
      "source": [
        "<a href=\"https://colab.research.google.com/github/drsubirghosh2008/drsubirghosh2008/blob/main/PW_Assignment_Module_11_OOPS.ipynb\" target=\"_parent\"><img src=\"https://colab.research.google.com/assets/colab-badge.svg\" alt=\"Open In Colab\"/></a>"
      ]
    },
    {
      "cell_type": "markdown",
      "source": [
        "Q1. Explain Class and Object with respect to Object-Oriented Programming. Give a suitable example.\n",
        "\n",
        "Class:\n",
        "\n",
        "A class is a blueprint or template for creating objects. It defines the properties (attributes) and behaviors (methods) that the objects created from the class will have.\n",
        "It serves as a general definition, but no memory or storage is allocated until an object is instantiated from the class.\n",
        "Object:\n",
        "\n",
        "An object is an instance of a class. When a class is defined, no memory is allocated until you create an object of that class. Each object can have different attribute values, but it will share the methods defined by the class.\n",
        "Example:\n",
        "Let’s consider a real-life analogy to illustrate this:\n",
        "\n",
        "Class: Think of a Car blueprint. This blueprint specifies that a car should have properties like brand, color, and speed, and behaviors like start, stop, and accelerate.\n",
        "Object: When this blueprint to build actual cars, each car is an object. For example, a red Toyota or a blue Honda are different objects (instances) of the class \"Car.\"\n",
        "\n",
        "In this example:\n",
        "\n",
        "Car is the class.\n",
        "car1 and car2 are objects (instances of the Car class).\n",
        "Each object can call the methods and has attributes, like brand and color, based on the class definition."
      ],
      "metadata": {
        "id": "7BHh9_dwBQgF"
      }
    },
    {
      "cell_type": "code",
      "source": [
        "# Defining a class Car\n",
        "class Car:\n",
        "    def __init__(self, brand, color):\n",
        "        self.brand = brand  # Attribute\n",
        "        self.color = color  # Attribute\n",
        "\n",
        "    def start(self):  # Method\n",
        "        print(f\"The {self.color} {self.brand} is starting.\")\n",
        "\n",
        "    def stop(self):  # Method\n",
        "        print(f\"The {self.color} {self.brand} is stopping.\")\n",
        "\n",
        "# Creating objects of the class Car\n",
        "car1 = Car(\"Toyota\", \"red\")  # Object 1\n",
        "car2 = Car(\"Honda\", \"blue\")   # Object 2\n",
        "\n",
        "# Using the object's methods\n",
        "car1.start()  # Output: The red Toyota is starting.\n",
        "car2.stop()   # Output: The blue Honda is stopping."
      ],
      "metadata": {
        "colab": {
          "base_uri": "https://localhost:8080/"
        },
        "id": "03uCnvIMCFps",
        "outputId": "6ec01b49-b7f8-4be3-a39a-cafe7468470a"
      },
      "execution_count": 1,
      "outputs": [
        {
          "output_type": "stream",
          "name": "stdout",
          "text": [
            "The red Toyota is starting.\n",
            "The blue Honda is stopping.\n"
          ]
        }
      ]
    },
    {
      "cell_type": "markdown",
      "source": [
        "Q2. Name the four pillars of OOPs.\n",
        "\n",
        "\n",
        "The four pillars of Object-Oriented Programming (OOP) are:\n",
        "\n",
        "1. Encapsulation:\n",
        "\n",
        "Encapsulation refers to the bundling of data (attributes) and methods (functions) that operate on the data into a single unit or class. It also restricts direct access to some of the object's components to prevent accidental interference or misuse.\n",
        "Example: In a class, we use private variables and methods to hide the internal details of the object from the outside world. The public methods are used to interact with the object.\n",
        "\n",
        "2. Abstraction:\n",
        "\n",
        "Abstraction is the process of hiding the complex implementation details and showing only the essential features of the object. It simplifies the interface for the user.\n",
        "Example: When you use a TV remote, you only interact with buttons (interface), without worrying about the internal circuits or processes happening inside.\n",
        "\n",
        "3. Inheritance:\n",
        "\n",
        "Inheritance allows a new class (child or subclass) to inherit the properties and methods of an existing class (parent or superclass). It promotes code reusability and establishes a relationship between classes.\n",
        "\n",
        "Example: A Dog class can inherit from an Animal class, allowing the Dog class to reuse properties like age and methods like eat() from the Animal class.\n",
        "\n",
        "4.Polymorphism:\n",
        "\n",
        "Polymorphism allows objects of different classes to be treated as objects of a common superclass. It also allows one method to behave differently based on the object it is acting upon.\n",
        "Example: A method called draw() can be implemented differently in multiple classes such as Circle, Rectangle, or Square. Even though the method name is the same, it will produce different outputs based on the object it is called on.\n",
        "These four pillars provide the foundation for designing modular, scalable, and maintainable code in OOP."
      ],
      "metadata": {
        "id": "ZZcrfF2TCUzc"
      }
    },
    {
      "cell_type": "markdown",
      "source": [
        "Q3. Explain why the __init__() function is used. Give a suitable example.\n",
        "\n",
        "The __init__() function in Python is a special method, also known as the constructor. It is automatically invoked when a new object of a class is created. The primary purpose of __init__() is to initialize the object's attributes with values when the object is instantiated.\n",
        "\n",
        "Key Points:\n",
        "Initialization: It allows you to initialize the object's state by assigning initial values to the attributes.\n",
        "Automatic Call: It is automatically called when an object is created, and you don’t need to call it explicitly.\n",
        "Not a Destructor: It is used for initialization, not cleanup (destruction). For cleanup purposes, Python uses __del__().\n",
        "\n",
        "Explanation:\n",
        "__init__(): In the above example, the __init__() method is used to initialize the name and age attributes of the Person object when it is created.\n",
        "Object Creation: When person1 = Person(\"Alice\", 25) is executed, the __init__() method is automatically called with \"Alice\" and 25 as arguments to initialize the name and age attributes of person1.\n",
        "Method Usage: The introduce() method can then use these initialized attributes for further actions or behaviors.\n",
        "Without the __init__() method, attributes would have to be manually assigned after creating an object, which can be inconvenient and error-prone.\n"
      ],
      "metadata": {
        "id": "KEPedW_2DF8s"
      }
    },
    {
      "cell_type": "code",
      "source": [
        "class Person:\n",
        "    # The __init__ method to initialize attributes\n",
        "    def __init__(self, name, age):\n",
        "        self.name = name  # Initialize the name attribute\n",
        "        self.age = age    # Initialize the age attribute\n",
        "\n",
        "    # Method to display information\n",
        "    def introduce(self):\n",
        "        print(f\"Hi, my name is {self.name} and I am {self.age} years old.\")\n",
        "\n",
        "# Creating an object of the Person class\n",
        "person1 = Person(\"Subir\", 51)\n",
        "\n",
        "# Calling a method on the object\n",
        "person1.introduce()  # Output: Hi, my name is Alice and I am 25 years old.\n"
      ],
      "metadata": {
        "colab": {
          "base_uri": "https://localhost:8080/"
        },
        "id": "usUuLF7vDqK0",
        "outputId": "395a1e50-d71b-432b-ab99-d9c581241280"
      },
      "execution_count": 4,
      "outputs": [
        {
          "output_type": "stream",
          "name": "stdout",
          "text": [
            "Hi, my name is Subir and I am 51 years old.\n"
          ]
        }
      ]
    },
    {
      "cell_type": "markdown",
      "source": [
        "Q4. Why self is used in OOPs?\n",
        "\n",
        "In Object-Oriented Programming (OOP), self is a reference to the current instance of the class. It is used to access variables and methods associated with that particular object.\n",
        "\n",
        "Key Reasons for Using self:\n",
        "Instance Reference:\n",
        "\n",
        "The self keyword represents the current object and allows you to access its attributes and methods.\n",
        "Every method in a class automatically takes self as the first parameter to identify which object is calling the method.\n",
        "Differentiate Between Local and Instance Variables:\n",
        "\n",
        "self is used to differentiate between instance variables and local variables that might have the same name.\n",
        "Without self, it would be hard for the program to determine whether you are referring to an instance variable or just a local variable.\n",
        "Allows Method Calls on Instances:\n",
        "\n",
        "To call a method on an object, Python implicitly passes the object as the first argument. This is why self must be explicitly declared as the first parameter in instance methods.\n",
        "Object-Specific Behavior:\n",
        "To ensure that each object maintains its own copy of the attributes and behaviors, allowing unique behavior for different objects of the same class.\n",
        "\n"
      ],
      "metadata": {
        "id": "h7mt1JMhD8vV"
      }
    },
    {
      "cell_type": "code",
      "source": [
        "class Dog:\n",
        "    def __init__(self, name, breed):\n",
        "        self.name = name  # self.name refers to the instance variable 'name'\n",
        "        self.breed = breed  # self.breed refers to the instance variable 'breed'\n",
        "\n",
        "    def bark(self):\n",
        "        print(f\"{self.name} is barking!\")  # Using self to refer to the instance's 'name'\n",
        "\n",
        "# Creating two instances of the Dog class\n",
        "dog1 = Dog(\"Buddy\", \"Golden Retriever\")\n",
        "dog2 = Dog(\"Charlie\", \"Poodle\")\n",
        "\n",
        "# Each instance calls the method independently\n",
        "dog1.bark()  # Output: Buddy is barking!\n",
        "dog2.bark()  # Output: Charlie is barking!\n"
      ],
      "metadata": {
        "colab": {
          "base_uri": "https://localhost:8080/"
        },
        "id": "pgtji5aZEySt",
        "outputId": "321b3258-2e52-469d-ff0d-71b83c05ea9b"
      },
      "execution_count": 5,
      "outputs": [
        {
          "output_type": "stream",
          "name": "stdout",
          "text": [
            "Buddy is barking!\n",
            "Charlie is barking!\n"
          ]
        }
      ]
    },
    {
      "cell_type": "markdown",
      "source": [
        "Q5. What is inheritance? Give an example for each type of inheritance.\n",
        "\n",
        "Inheritance in Object-Oriented Programming (OOP)\n",
        "Inheritance is a mechanism where a new class (derived or child class) inherits the properties and methods of an existing class (base or parent class). It allows for code reusability and hierarchical classification, promoting modular design.\n",
        "\n",
        "Types of Inheritance:\n",
        "1. Single Inheritance:\n",
        "\n",
        "A child class inherits from one parent class\n",
        "\n",
        "2. Multiple Inheritance:\n",
        "\n",
        "A child class inherits from more than one parent class.\n",
        "\n",
        "3. Multilevel Inheritance:\n",
        "\n",
        "A chain of inheritance where a class inherits from a parent class, and that parent class is itself inherited from another class.\n",
        "\n",
        "4. Hierarchical Inheritance:\n",
        "\n",
        "Multiple child classes inherit from the same parent class.\n",
        "\n",
        "5. Hybrid Inheritance:\n",
        "\n",
        "A combination of two or more types of inheritance. It is typically a mix of hierarchical and multiple inheritance."
      ],
      "metadata": {
        "id": "aWnq0Gd-E5VU"
      }
    },
    {
      "cell_type": "code",
      "source": [
        "# Single Inheritance:\n",
        "class Animal:  # Parent class\n",
        "    def speak(self):\n",
        "        print(\"Animal is speaking\")\n",
        "\n",
        "class Dog(Animal):  # Child class inheriting from Animal\n",
        "    def bark(self):\n",
        "        print(\"Dog is barking\")\n",
        "\n",
        "# Creating an object of the Dog class\n",
        "dog = Dog()\n",
        "dog.speak()  # Output: Animal is speaking (inherited from Animal class)\n",
        "dog.bark()   # Output: Dog is barking\n"
      ],
      "metadata": {
        "colab": {
          "base_uri": "https://localhost:8080/"
        },
        "id": "88WKZzTiF2r0",
        "outputId": "53f955b9-e40d-4e9b-c77c-f7bfdeb281f0"
      },
      "execution_count": 6,
      "outputs": [
        {
          "output_type": "stream",
          "name": "stdout",
          "text": [
            "Animal is speaking\n",
            "Dog is barking\n"
          ]
        }
      ]
    },
    {
      "cell_type": "code",
      "source": [
        "# Multiple Inheritance:\n",
        "class Father:\n",
        "    def work(self):\n",
        "        print(\"Father is working\")\n",
        "\n",
        "class Mother:\n",
        "    def cook(self):\n",
        "        print(\"Mother is cooking\")\n",
        "\n",
        "class Child(Father, Mother):  # Inheriting from both Father and Mother\n",
        "    def play(self):\n",
        "        print(\"Child is playing\")\n",
        "\n",
        "# Creating an object of the Child class\n",
        "child = Child()\n",
        "child.work()  # Output: Father is working\n",
        "child.cook()  # Output: Mother is cooking\n",
        "child.play()  # Output: Child is playing\n"
      ],
      "metadata": {
        "colab": {
          "base_uri": "https://localhost:8080/"
        },
        "id": "hy8sJyTUF9HT",
        "outputId": "1a49e597-3feb-411f-8d99-5de9f4433bd8"
      },
      "execution_count": 7,
      "outputs": [
        {
          "output_type": "stream",
          "name": "stdout",
          "text": [
            "Father is working\n",
            "Mother is cooking\n",
            "Child is playing\n"
          ]
        }
      ]
    },
    {
      "cell_type": "code",
      "source": [
        "# Multilevel Inheritance:\n",
        "class Animal:\n",
        "    def eat(self):\n",
        "        print(\"Animal is eating\")\n",
        "\n",
        "class Mammal(Animal):  # Inheriting from Animal\n",
        "    def walk(self):\n",
        "        print(\"Mammal is walking\")\n",
        "\n",
        "class Dog(Mammal):  # Inheriting from Mammal\n",
        "    def bark(self):\n",
        "        print(\"Dog is barking\")\n",
        "\n",
        "# Creating an object of the Dog class\n",
        "dog = Dog()\n",
        "dog.eat()   # Output: Animal is eating (inherited from Animal)\n",
        "dog.walk()  # Output: Mammal is walking (inherited from Mammal)\n",
        "dog.bark()  # Output: Dog is barking"
      ],
      "metadata": {
        "colab": {
          "base_uri": "https://localhost:8080/"
        },
        "id": "foItWdgkGIpM",
        "outputId": "0ad82228-70bf-4e33-efbb-3233b16117ab"
      },
      "execution_count": 8,
      "outputs": [
        {
          "output_type": "stream",
          "name": "stdout",
          "text": [
            "Animal is eating\n",
            "Mammal is walking\n",
            "Dog is barking\n"
          ]
        }
      ]
    },
    {
      "cell_type": "code",
      "source": [
        "# Hierarchical Inheritance:\n",
        "class Vehicle:\n",
        "    def start(self):\n",
        "        print(\"Vehicle is starting\")\n",
        "\n",
        "class Car(Vehicle):  # Inherits from Vehicle\n",
        "    def drive(self):\n",
        "        print(\"Car is driving\")\n",
        "\n",
        "class Bike(Vehicle):  # Inherits from Vehicle\n",
        "    def ride(self):\n",
        "        print(\"Bike is riding\")\n",
        "\n",
        "# Creating objects of the Car and Bike classes\n",
        "car = Car()\n",
        "bike = Bike()\n",
        "\n",
        "car.start()  # Output: Vehicle is starting (inherited from Vehicle)\n",
        "car.drive()  # Output: Car is driving\n",
        "\n",
        "bike.start()  # Output: Vehicle is starting (inherited from Vehicle)\n",
        "bike.ride()   # Output: Bike is riding"
      ],
      "metadata": {
        "colab": {
          "base_uri": "https://localhost:8080/"
        },
        "id": "RWBdyvTMGVD7",
        "outputId": "461c32f1-1d2c-4568-b0a0-3a107670a882"
      },
      "execution_count": 9,
      "outputs": [
        {
          "output_type": "stream",
          "name": "stdout",
          "text": [
            "Vehicle is starting\n",
            "Car is driving\n",
            "Vehicle is starting\n",
            "Bike is riding\n"
          ]
        }
      ]
    },
    {
      "cell_type": "code",
      "source": [
        "# Hybrid Inheritance:\n",
        "class Animal:\n",
        "    def speak(self):\n",
        "        print(\"Animal speaks\")\n",
        "\n",
        "class Bird(Animal):\n",
        "    def fly(self):\n",
        "        print(\"Bird is flying\")\n",
        "\n",
        "class Fish(Animal):\n",
        "    def swim(self):\n",
        "        print(\"Fish is swimming\")\n",
        "\n",
        "class Penguin(Bird, Fish):  # Inheriting from both Bird and Fish\n",
        "    def walk(self):\n",
        "        print(\"Penguin is walking\")\n",
        "\n",
        "# Creating an object of the Penguin class\n",
        "penguin = Penguin()\n",
        "penguin.speak()  # Output: Animal speaks (inherited from Animal)\n",
        "penguin.fly()    # Output: Bird is flying (inherited from Bird)\n",
        "penguin.swim()   # Output: Fish is swimming (inherited from Fish)\n",
        "penguin.walk()   # Output: Penguin is walking\n"
      ],
      "metadata": {
        "colab": {
          "base_uri": "https://localhost:8080/"
        },
        "id": "6BsTaP6PGf70",
        "outputId": "2b68c4e4-e452-48ac-e317-fd7952c139fa"
      },
      "execution_count": 10,
      "outputs": [
        {
          "output_type": "stream",
          "name": "stdout",
          "text": [
            "Animal speaks\n",
            "Bird is flying\n",
            "Fish is swimming\n",
            "Penguin is walking\n"
          ]
        }
      ]
    },
    {
      "cell_type": "markdown",
      "source": [
        "Thank you!"
      ],
      "metadata": {
        "id": "Wrdr2DAXGsSV"
      }
    }
  ]
}