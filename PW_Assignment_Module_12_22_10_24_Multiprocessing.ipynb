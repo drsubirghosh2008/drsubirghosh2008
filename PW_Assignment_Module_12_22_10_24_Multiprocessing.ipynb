{
  "nbformat": 4,
  "nbformat_minor": 0,
  "metadata": {
    "colab": {
      "provenance": [],
      "authorship_tag": "ABX9TyP3FhvcFHamS11lntFFdR8E",
      "include_colab_link": true
    },
    "kernelspec": {
      "name": "python3",
      "display_name": "Python 3"
    },
    "language_info": {
      "name": "python"
    }
  },
  "cells": [
    {
      "cell_type": "markdown",
      "metadata": {
        "id": "view-in-github",
        "colab_type": "text"
      },
      "source": [
        "<a href=\"https://colab.research.google.com/github/drsubirghosh2008/drsubirghosh2008/blob/main/PW_Assignment_Module_12_22_10_24_Multiprocessing.ipynb\" target=\"_parent\"><img src=\"https://colab.research.google.com/assets/colab-badge.svg\" alt=\"Open In Colab\"/></a>"
      ]
    },
    {
      "cell_type": "markdown",
      "source": [
        "Q1. What is multiprocessing in python? Why is it useful?\n",
        "\n",
        "\n",
        "Answer:\n",
        "\n",
        "\n",
        "Multiprocessing in Python refers to the ability to create multiple processes that run in parallel to execute tasks simultaneously. It is a way to take advantage of multiple CPUs or CPU cores to run tasks concurrently, making it possible to perform heavy computational tasks more efficiently.\n",
        "\n",
        "Python provides a multiprocessing module that supports creating processes. Each process in the multiprocessing module has its own memory space, and can execute code concurrently, independent of the other processes.\n",
        "\n",
        "Key features of the multiprocessing module:\n",
        "\n",
        "Process creation: Allows the creation of separate processes to run tasks in parallel.\n",
        "Shared data: Supports shared data across processes using queues, pipes, and shared memory.\n",
        "Synchronization primitives: Includes mechanisms like locks, semaphores, and events to coordinate between processes.\n",
        "\n",
        "The Reasons why Multiprocessing Useful?\n",
        "\n",
        "Multiprocessing is particularly useful in the following scenarios:\n",
        "\n",
        "Bypassing the Global Interpreter Lock (GIL): Python's Global Interpreter Lock (GIL) limits the execution of threads in Python, allowing only one thread to execute at a time within a single process. This prevents true parallelism in CPU-bound tasks when using threading. Multiprocessing creates separate processes, each with its own Python interpreter and memory space, effectively bypassing the GIL and achieving true parallelism.\n",
        "\n",
        "Improved Performance for CPU-bound Tasks: CPU-bound tasks, such as mathematical computations, data processing, or image manipulation, can significantly benefit from multiprocessing. By distributing these tasks across multiple CPU cores, the workload can be processed faster.\n",
        "\n",
        "Parallel Processing: Multiprocessing allows the execution of multiple tasks at the same time. It is ideal for tasks that can be split into smaller, independent sub-tasks that can be executed concurrently.\n",
        "\n",
        "Task Isolation: Each process in multiprocessing runs in its own memory space, meaning that one process's memory is independent of another's. This isolation reduces the risks of memory corruption and race conditions that often occur in multithreading.\n",
        "\n",
        "Scalability: Multiprocessing makes it easier to scale applications across multiple CPUs or CPU cores. This is particularly useful when working with large datasets or computationally expensive algorithms, allowing for horizontal scaling across processors."
      ],
      "metadata": {
        "id": "4db7252NaBYC"
      }
    },
    {
      "cell_type": "code",
      "source": [
        "# Example:\n",
        "import multiprocessing\n",
        "\n",
        "def print_square(num):\n",
        "    print(f\"Square: {num * num}\")\n",
        "\n",
        "def print_cube(num):\n",
        "    print(f\"Cube: {num * num * num}\")\n",
        "\n",
        "if __name__ == \"__main__\":\n",
        "    # Creating two processes\n",
        "    process1 = multiprocessing.Process(target=print_square, args=(10,))\n",
        "    process2 = multiprocessing.Process(target=print_cube, args=(10,))\n",
        "\n",
        "    # Start the processes\n",
        "    process1.start()\n",
        "    process2.start()\n",
        "\n",
        "    # Wait for processes to complete\n",
        "    process1.join()\n",
        "    process2.join()\n",
        "\n",
        "    print(\"Both processes completed.\")\n"
      ],
      "metadata": {
        "colab": {
          "base_uri": "https://localhost:8080/"
        },
        "id": "ouBr_RcsajMq",
        "outputId": "ed096941-f3f1-4363-a50e-a5cfd606227d"
      },
      "execution_count": 1,
      "outputs": [
        {
          "output_type": "stream",
          "name": "stdout",
          "text": [
            "Square: 100Cube: 1000\n",
            "\n",
            "Both processes completed.\n"
          ]
        }
      ]
    },
    {
      "cell_type": "markdown",
      "source": [
        "Use Cases:\n",
        "\n",
        "Data processing: Distributing data processing tasks across multiple cores, such as processing large datasets, image processing, etc.\n",
        "Web scraping: Running multiple web scraping tasks concurrently, each fetching data from different URLs simultaneously.\n",
        "Simulations: Running simulations or complex mathematical models in parallel to reduce processing time.\n",
        "\n",
        "Multiprocessing in Python is a powerful way to achieve true parallelism by utilizing multiple processors. It is especially useful for CPU-bound tasks, allowing programs to bypass the limitations of Python's GIL, and it improves performance by executing tasks concurrently across multiple processes."
      ],
      "metadata": {
        "id": "i65wyFcOaxcS"
      }
    },
    {
      "cell_type": "markdown",
      "source": [
        "Q2. What are the differences between multiprocessing and multithreading?\n",
        "\n",
        "Answer:\n",
        "\n",
        "The differences between multiprocessing and multithreading are:\n",
        "\n",
        "1. Global Interpreter Lock (GIL):\n",
        "\n",
        "Multiprocessing: Each process has its own Python interpreter and memory space, so the GIL is not an issue. This allows for true parallelism on multi-core machines, making multiprocessing ideal for CPU-bound tasks.\n",
        "\n",
        "Multithreading: In Python, the GIL prevents more than one thread from executing Python bytecode simultaneously in a single process, limiting true parallelism. Therefore, threading is more suitable for I/O-bound tasks (e.g., file I/O, network requests) where the threads can run concurrently while waiting for I/O operations to complete.\n",
        "\n",
        "2. Memory:\n",
        "\n",
        "Multiprocessing: Processes are completely separate and do not share memory. Each process has its own memory space, making it safe from issues like race conditions. However, sharing data between processes requires explicit mechanisms such as queues or pipes, which introduces overhead.\n",
        "\n",
        "Multithreading: Threads run in the same memory space, so data is shared easily among them. This reduces memory usage but introduces risks such as race conditions and requires synchronization tools (e.g., locks, semaphores) to prevent conflicts when accessing shared data.\n",
        "\n",
        "3. Performance:\n",
        "\n",
        "Multiprocessing: Since each process runs independently, this approach takes full advantage of multiple CPU cores. Multiprocessing is ideal for CPU-bound tasks, where the processing power of multiple cores can be utilized for parallelism. However, creating processes incurs more overhead due to separate memory and interpreter instances.\n",
        "\n",
        "Multithreading: Threading introduces less overhead than creating processes because threads share memory. While multithreading is constrained by the GIL for CPU-bound tasks, it can improve performance in I/O-bound tasks by allowing multiple threads to perform different I/O operations concurrently.\n",
        "\n",
        "4. Communication and Synchronization:\n",
        "\n",
        "Multiprocessing: Communication between processes is more complex and requires inter-process communication (IPC) mechanisms like pipes, queues, or shared memory. This can be slower due to the overhead of passing data between separate memory spaces.\n",
        "\n",
        "Multithreading: Communication between threads is easier since threads share memory. However, synchronization is more critical because multiple threads accessing the same resources can lead to race conditions. Proper use of locks and other synchronization tools is necessary.\n",
        "\n",
        "5. Use Case Suitability:\n",
        "\n",
        "Multiprocessing is well-suited for CPU-bound tasks such as mathematical computations, data processing, simulations, and scientific computations where high CPU utilization across multiple cores is essential.\n",
        "\n",
        "Multithreading is more appropriate for I/O-bound tasks like web scraping, file I/O, and network requests where the GIL is less of an issue because threads spend much of their time waiting for external resources."
      ],
      "metadata": {
        "id": "-OiUAsdja7FR"
      }
    },
    {
      "cell_type": "code",
      "source": [
        "# Example of Multiprocessing:\n",
        "\n",
        "import multiprocessing\n",
        "\n",
        "def print_square(num):\n",
        "    print(f\"Square: {num * num}\")\n",
        "\n",
        "if __name__ == \"__main__\":\n",
        "    process = multiprocessing.Process(target=print_square, args=(5,))\n",
        "    process.start()\n",
        "    process.join()\n"
      ],
      "metadata": {
        "colab": {
          "base_uri": "https://localhost:8080/"
        },
        "id": "MUMcyRB5b1DT",
        "outputId": "d3132f3d-e88e-4661-845b-69fcd17c9503"
      },
      "execution_count": 2,
      "outputs": [
        {
          "output_type": "stream",
          "name": "stdout",
          "text": [
            "Square: 25\n"
          ]
        }
      ]
    },
    {
      "cell_type": "code",
      "source": [
        "# Example of Multithreading:\n",
        "\n",
        "import threading\n",
        "\n",
        "def print_square(num):\n",
        "    print(f\"Square: {num * num}\")\n",
        "\n",
        "if __name__ == \"__main__\":\n",
        "    thread = threading.Thread(target=print_square, args=(5,))\n",
        "    thread.start()\n",
        "    thread.join()\n"
      ],
      "metadata": {
        "colab": {
          "base_uri": "https://localhost:8080/"
        },
        "id": "1OD8MhH7b9MR",
        "outputId": "ef8409b5-6b34-4abe-e17b-a3c4320bd28f"
      },
      "execution_count": 3,
      "outputs": [
        {
          "output_type": "stream",
          "name": "stdout",
          "text": [
            "Square: 25\n"
          ]
        }
      ]
    },
    {
      "cell_type": "markdown",
      "source": [
        "Hence,\n",
        "\n",
        "Multiprocessing is ideal for CPU-bound tasks and offers true parallelism by utilizing multiple processors or cores. Each process is isolated, which increases reliability but comes with higher memory overhead.\n",
        "\n",
        "Multithreading is more suitable for I/O-bound tasks and involves lower overhead, but it is limited by the GIL, preventing true parallelism in CPU-heavy operations. Threads share memory, which simplifies communication but requires careful synchronization."
      ],
      "metadata": {
        "id": "fo56bizJcKVS"
      }
    },
    {
      "cell_type": "markdown",
      "source": [
        "Q3. Write a python code to create a process using the multiprocessing module."
      ],
      "metadata": {
        "id": "fqftCqWccOaq"
      }
    },
    {
      "cell_type": "code",
      "source": [
        "# Answer:\n",
        "\n",
        "import multiprocessing\n",
        "\n",
        "# Define a function that the new process will execute\n",
        "def print_square(num):\n",
        "    print(f\"Square of {num} is {num * num}\")\n",
        "\n",
        "if __name__ == \"__main__\":\n",
        "    # Create a new process\n",
        "    process = multiprocessing.Process(target=print_square, args=(5,))\n",
        "\n",
        "    # Start the process\n",
        "    process.start()\n",
        "\n",
        "    # Wait for the process to finish\n",
        "    process.join()\n",
        "\n",
        "    print(\"Process has completed.\")\n"
      ],
      "metadata": {
        "colab": {
          "base_uri": "https://localhost:8080/"
        },
        "id": "EooVvHWjcYLZ",
        "outputId": "cd00bb6f-165f-48d1-fd43-164566108b55"
      },
      "execution_count": 4,
      "outputs": [
        {
          "output_type": "stream",
          "name": "stdout",
          "text": [
            "Square of 5 is 25\n",
            "Process has completed.\n"
          ]
        }
      ]
    },
    {
      "cell_type": "markdown",
      "source": [
        "Q4. What is a multiprocessing pool in python? Why is it used?\n",
        "\n",
        "Answer:\n",
        "\n",
        "A multiprocessing pool in Python is a feature provided by the multiprocessing module that allows you to manage and execute multiple processes concurrently, with a pool of worker processes. It simplifies the process of parallelizing the execution of tasks by distributing tasks among the worker processes in the pool, making it easier to handle concurrent tasks efficiently.\n",
        "\n",
        "The Pool class in multiprocessing is used to create a pool of worker processes, which can execute tasks in parallel. You can define the number of processes in the pool, and tasks are distributed among them either synchronously or asynchronously.\n",
        "\n",
        "The reasons for using  Multiprocessing Pool:\n",
        "\n",
        "Simplifies Task Parallelization: The pool allows you to divide tasks across multiple worker processes without manually creating and managing individual processes. You can parallelize tasks over multiple processes using high-level functions such as map(), apply(), apply_async(), and map_async().\n",
        "\n",
        "Efficient Use of System Resources: Instead of creating a large number of individual processes, a pool of processes can be reused to handle multiple tasks. This reduces the overhead associated with creating and destroying processes repeatedly.\n",
        "\n",
        "Parallel Execution: The pool makes it easy to execute multiple tasks in parallel, distributing them across different CPU cores and speeding up the execution of CPU-bound or I/O-bound tasks.\n",
        "\n",
        "Improved Performance: By leveraging multiple CPU cores, the pool increases the performance of tasks that can be split into smaller sub-tasks. For example, processing large datasets, running multiple simulations, or performing tasks that are independent of each other.\n",
        "\n",
        "When to Use Multiprocessing Pool:\n",
        "When there are multiple tasks that can be executed in parallel and don't depend on each other.\n",
        "While dealing with CPU-bound tasks that can benefit from the use of multiple CPU cores.\n",
        "To process large datasets by splitting the data into smaller chunks and processing them in parallel."
      ],
      "metadata": {
        "id": "JhkRZwe0cjXJ"
      }
    },
    {
      "cell_type": "code",
      "source": [
        "# Example:\n",
        "import multiprocessing\n",
        "\n",
        "# Define the function to compute the square of a number\n",
        "def square(num):\n",
        "    return num * num\n",
        "\n",
        "if __name__ == \"__main__\":\n",
        "    # Create a pool of 4 worker processes\n",
        "    with multiprocessing.Pool(processes=4) as pool:\n",
        "        # Use pool.map to execute the square function in parallel on the list of numbers\n",
        "        numbers = [1, 2, 3, 4, 5]\n",
        "        results = pool.map(square, numbers)\n",
        "\n",
        "    print(\"Squared numbers:\", results)\n"
      ],
      "metadata": {
        "colab": {
          "base_uri": "https://localhost:8080/"
        },
        "id": "DaQ_8Gz6deWT",
        "outputId": "f56e0fd0-1c2f-4a68-a0d8-91bb237abbc3"
      },
      "execution_count": 6,
      "outputs": [
        {
          "output_type": "stream",
          "name": "stdout",
          "text": [
            "Squared numbers: [1, 4, 9, 16, 25]\n"
          ]
        }
      ]
    },
    {
      "cell_type": "markdown",
      "source": [
        "Q5. How can we create a pool of worker processes in python using the multiprocessing module?\n",
        "\n",
        "Answer:\n",
        "\n",
        "To create a pool of worker processes in Python using the multiprocessing module, you can utilize the Pool class. Here’s a step-by-step guide and example code to demonstrate how to set up a pool of worker processes and use it to execute tasks in parallel.\n",
        "\n",
        "Step-by-Step Guide to Create a Pool of Worker Processes\n",
        "\n",
        "Import the multiprocessing Module: Start by importing the multiprocessing module.\n",
        "\n",
        "Define the Task Function: Create a function that represents the task you want to execute in parallel.\n",
        "\n",
        "Create a Pool of Processes: Use the Pool class to create a pool of worker processes. You can specify the number of processes in the pool.\n",
        "\n",
        "Use Pool Methods to Execute Tasks: Use methods like map(), apply(), or apply_async() to distribute tasks across the worker processes.\n",
        "\n",
        "Close and Join the Pool: After submitting all tasks, call close() to prevent any more tasks from being submitted to the pool and join() to wait for all worker processes to complete."
      ],
      "metadata": {
        "id": "6ie0raEfdmOR"
      }
    },
    {
      "cell_type": "code",
      "source": [
        "# Example Code:\n",
        "\n",
        "import multiprocessing\n",
        "\n",
        "# Define a function that the workers will execute\n",
        "def square(num):\n",
        "    return num * num\n",
        "\n",
        "if __name__ == \"__main__\":\n",
        "    # Create a pool of 4 worker processes\n",
        "    with multiprocessing.Pool(processes=4) as pool:\n",
        "        # List of numbers to process\n",
        "        numbers = [1, 2, 3, 4, 5]\n",
        "\n",
        "        # Use pool.map to execute the square function in parallel\n",
        "        results = pool.map(square, numbers)\n",
        "\n",
        "    print(\"Squared numbers:\", results)\n"
      ],
      "metadata": {
        "colab": {
          "base_uri": "https://localhost:8080/"
        },
        "id": "UCMGMuCvd8eK",
        "outputId": "4a0e4a5d-1b55-44c4-eb87-78ff753c9334"
      },
      "execution_count": 7,
      "outputs": [
        {
          "output_type": "stream",
          "name": "stdout",
          "text": [
            "Squared numbers: [1, 4, 9, 16, 25]\n"
          ]
        }
      ]
    },
    {
      "cell_type": "markdown",
      "source": [
        "Q6. Write a python program to create 4 processes, each process should print a different number using the multiprocessing module in python."
      ],
      "metadata": {
        "id": "m-7NXvu1eNIr"
      }
    },
    {
      "cell_type": "code",
      "source": [
        "# Answer:\n",
        "import multiprocessing\n",
        "\n",
        "# Define a function that will be executed by each process\n",
        "def print_number(num):\n",
        "    print(f\"Process {num}: {num}\")\n",
        "\n",
        "if __name__ == \"__main__\":\n",
        "    # Create a list of numbers to be printed by different processes\n",
        "    numbers = [1, 2, 3, 4]\n",
        "\n",
        "    # Create a list to hold the process references\n",
        "    processes = []\n",
        "\n",
        "    # Create and start a process for each number\n",
        "    for number in numbers:\n",
        "        process = multiprocessing.Process(target=print_number, args=(number,))\n",
        "        processes.append(process)  # Add the process to the list\n",
        "        process.start()  # Start the process\n",
        "\n",
        "    # Wait for all processes to complete\n",
        "    for process in processes:\n",
        "        process.join()\n",
        "\n",
        "    print(\"All processes have completed.\")\n"
      ],
      "metadata": {
        "colab": {
          "base_uri": "https://localhost:8080/"
        },
        "id": "KlgZsfHfeQy5",
        "outputId": "4c219140-c4c5-489a-f0e8-9cf4924d561f"
      },
      "execution_count": 9,
      "outputs": [
        {
          "output_type": "stream",
          "name": "stdout",
          "text": [
            "Process 1: 1\n",
            "Process 2: 2Process 3: 3\n",
            "\n",
            "Process 4: 4\n",
            "All processes have completed.\n"
          ]
        }
      ]
    },
    {
      "cell_type": "markdown",
      "source": [
        "Thank You!"
      ],
      "metadata": {
        "id": "aBzQTKg3eg_Z"
      }
    }
  ]
}