{
  "nbformat": 4,
  "nbformat_minor": 0,
  "metadata": {
    "colab": {
      "provenance": [],
      "authorship_tag": "ABX9TyObf2MiwlKd7KWGUNF6Iil6",
      "include_colab_link": true
    },
    "kernelspec": {
      "name": "python3",
      "display_name": "Python 3"
    },
    "language_info": {
      "name": "python"
    }
  },
  "cells": [
    {
      "cell_type": "markdown",
      "metadata": {
        "id": "view-in-github",
        "colab_type": "text"
      },
      "source": [
        "<a href=\"https://colab.research.google.com/github/drsubirghosh2008/drsubirghosh2008/blob/main/PW_Assignment_Module_12_Exception_handling_1.ipynb\" target=\"_parent\"><img src=\"https://colab.research.google.com/assets/colab-badge.svg\" alt=\"Open In Colab\"/></a>"
      ]
    },
    {
      "cell_type": "markdown",
      "source": [
        "Q1. What is an Exception in python? Write the difference between Exceptions and Syntax errors.\n",
        "\n",
        "Answer:\n",
        "An exception in Python is an error that occurs during the execution of a program. When a Python script encounters a situation it cannot handle, it raises an exception. This exception disrupts the normal flow of the program. Exceptions can be handled using try, except, finally blocks to prevent the program from crashing and allow graceful error handling.\n",
        "\n",
        "Common examples of exceptions include:\n",
        "\n",
        "ZeroDivisionError: when dividing by zero.\n",
        "FileNotFoundError: when a file operation fails.\n",
        "ValueError: when a function gets an argument of the right type but an inappropriate value.\n",
        "\n"
      ],
      "metadata": {
        "id": "1kV5Hk92fLlJ"
      }
    },
    {
      "cell_type": "code",
      "source": [
        "try:\n",
        "    result = 10 / 0\n",
        "except ZeroDivisionError:\n",
        "    print(\"Cannot divide by zero!\")\n"
      ],
      "metadata": {
        "colab": {
          "base_uri": "https://localhost:8080/"
        },
        "id": "fn6OyraZfzOR",
        "outputId": "e987b4e4-1d6a-4d56-b711-189b358b5426"
      },
      "execution_count": 1,
      "outputs": [
        {
          "output_type": "stream",
          "name": "stdout",
          "text": [
            "Cannot divide by zero!\n"
          ]
        }
      ]
    },
    {
      "cell_type": "markdown",
      "source": [
        "Difference between Exceptions and Syntax Errors:\n",
        "1. Exceptions occur during the runtime of the program.\n",
        "\n",
        "   Syntax errors are detected during the parsing or compilation of the code, before the program runs.\n",
        "\n",
        "2. Exceptions are often caused by incorrect logic or unexpected runtime\n",
        "   conditions (e.g., division by zero, file not found).\n",
        "\n",
        "   Syntax errors result from incorrect Python syntax (e.g., missing colons, incorrect indentation, or misusing keywords).\n",
        "\n",
        "3. Exceptions can be handled using try-except blocks.\n",
        "\n",
        "\tSyntax errors cannot be handled by try-except and must be fixed in the code.\n",
        "\n",
        "4. The program can continue to run if exceptions are properly handled.\n",
        "\n",
        "\t The program will not run if it contains syntax errors.\n",
        "\n",
        "5. Example: ValueError, KeyError, IndexError.\n",
        "\n",
        "   Example: SyntaxError: invalid syntax."
      ],
      "metadata": {
        "id": "ywcLahp4fx0K"
      }
    },
    {
      "cell_type": "code",
      "source": [
        "if True\n",
        "    print(\"Missing colon causes a SyntaxError\")\n"
      ],
      "metadata": {
        "colab": {
          "base_uri": "https://localhost:8080/",
          "height": 110
        },
        "id": "SHQFLhxihNZb",
        "outputId": "d720269a-ec25-492a-f68f-fa6ed8ed8c47"
      },
      "execution_count": 4,
      "outputs": [
        {
          "output_type": "error",
          "ename": "SyntaxError",
          "evalue": "expected ':' (<ipython-input-4-57dc860429bb>, line 1)",
          "traceback": [
            "\u001b[0;36m  File \u001b[0;32m\"<ipython-input-4-57dc860429bb>\"\u001b[0;36m, line \u001b[0;32m1\u001b[0m\n\u001b[0;31m    if True\u001b[0m\n\u001b[0m           ^\u001b[0m\n\u001b[0;31mSyntaxError\u001b[0m\u001b[0;31m:\u001b[0m expected ':'\n"
          ]
        }
      ]
    },
    {
      "cell_type": "markdown",
      "source": [
        "Q2. What happens when an exception is not handled? Explain with an example.\n",
        "\n",
        "Answer:\n",
        "\n",
        "When an exception in Python is not handled, the program will terminate immediately, and the interpreter will display a traceback (a detailed error message) showing the type of exception and the line where the error occurred. This abrupt termination stops the execution of any remaining code, and the program does not continue running beyond the point where the exception occurred.\n"
      ],
      "metadata": {
        "id": "qmk8nl1ohc5c"
      }
    },
    {
      "cell_type": "code",
      "source": [
        "# Example of an unhandled exception\n",
        "num1 = 10\n",
        "num2 = 0\n",
        "\n",
        "# This will cause a ZeroDivisionError because division by zero is not allowed\n",
        "result = num1 / num2\n",
        "\n",
        "print(\"This line will not be executed if the exception is not handled.\")\n"
      ],
      "metadata": {
        "colab": {
          "base_uri": "https://localhost:8080/",
          "height": 220
        },
        "id": "UWjjM9Myh1PB",
        "outputId": "9ad48796-e4e4-4bb9-c86f-934ffa14d9e0"
      },
      "execution_count": 5,
      "outputs": [
        {
          "output_type": "error",
          "ename": "ZeroDivisionError",
          "evalue": "division by zero",
          "traceback": [
            "\u001b[0;31m---------------------------------------------------------------------------\u001b[0m",
            "\u001b[0;31mZeroDivisionError\u001b[0m                         Traceback (most recent call last)",
            "\u001b[0;32m<ipython-input-5-43e61a6aa57d>\u001b[0m in \u001b[0;36m<cell line: 6>\u001b[0;34m()\u001b[0m\n\u001b[1;32m      4\u001b[0m \u001b[0;34m\u001b[0m\u001b[0m\n\u001b[1;32m      5\u001b[0m \u001b[0;31m# This will cause a ZeroDivisionError because division by zero is not allowed\u001b[0m\u001b[0;34m\u001b[0m\u001b[0;34m\u001b[0m\u001b[0m\n\u001b[0;32m----> 6\u001b[0;31m \u001b[0mresult\u001b[0m \u001b[0;34m=\u001b[0m \u001b[0mnum1\u001b[0m \u001b[0;34m/\u001b[0m \u001b[0mnum2\u001b[0m\u001b[0;34m\u001b[0m\u001b[0;34m\u001b[0m\u001b[0m\n\u001b[0m\u001b[1;32m      7\u001b[0m \u001b[0;34m\u001b[0m\u001b[0m\n\u001b[1;32m      8\u001b[0m \u001b[0mprint\u001b[0m\u001b[0;34m(\u001b[0m\u001b[0;34m\"This line will not be executed if the exception is not handled.\"\u001b[0m\u001b[0;34m)\u001b[0m\u001b[0;34m\u001b[0m\u001b[0;34m\u001b[0m\u001b[0m\n",
            "\u001b[0;31mZeroDivisionError\u001b[0m: division by zero"
          ]
        }
      ]
    },
    {
      "cell_type": "markdown",
      "source": [
        "In the above example:\n",
        "\n",
        "The program encounters a ZeroDivisionError because division by zero is undefined.\n",
        "Since the exception is not handled using a try-except block, the program terminates, and the last print() statement is not executed.\n",
        "A traceback is shown to the user, indicating where the error occurred and the type of exception that was raised.\n"
      ],
      "metadata": {
        "id": "SNM5vDTHh4zZ"
      }
    },
    {
      "cell_type": "code",
      "source": [
        "num1 = 10\n",
        "num2 = 0\n",
        "\n",
        "try:\n",
        "    result = num1 / num2\n",
        "except ZeroDivisionError:\n",
        "    print(\"Cannot divide by zero!\")\n",
        "\n",
        "print(\"This line will be executed because the exception was handled.\")\n"
      ],
      "metadata": {
        "colab": {
          "base_uri": "https://localhost:8080/"
        },
        "id": "mnpIkTG9iGwI",
        "outputId": "c1a1f43d-1e1b-46cf-c339-4f8e8751b289"
      },
      "execution_count": 6,
      "outputs": [
        {
          "output_type": "stream",
          "name": "stdout",
          "text": [
            "Cannot divide by zero!\n",
            "This line will be executed because the exception was handled.\n"
          ]
        }
      ]
    },
    {
      "cell_type": "markdown",
      "source": [
        "In this case, the exception is caught, and the program continues to execute after handling the error."
      ],
      "metadata": {
        "id": "j25xMTqZiQNh"
      }
    },
    {
      "cell_type": "markdown",
      "source": [
        "Q3. Which Python statements are used to catch and handle exceptions? Explain with an example.\n",
        "\n",
        "Answer:\n",
        "\n",
        "In Python, the following statements are used to catch and handle exceptions:\n",
        "\n",
        "try block: This block contains the code that might raise an exception.\n",
        "\n",
        "except block: This block catches and handles the exception. You can specify the type of exception you want to catch.\n",
        "\n",
        "else block (optional): This block runs if no exceptions are raised in the try block.\n",
        "\n",
        "finally block (optional): This block contains code that will always execute, whether an exception is raised or not, typically used for cleanup activities like closing files or releasing resources."
      ],
      "metadata": {
        "id": "0xkniPT4iSkI"
      }
    },
    {
      "cell_type": "code",
      "source": [
        "try:\n",
        "    # Trying to open a file that doesn't exist\n",
        "    file = open(\"non_existent_file.txt\", \"r\")\n",
        "    data = file.read()\n",
        "except FileNotFoundError:\n",
        "    # Handling the exception if the file is not found\n",
        "    print(\"File not found. Please check the file name.\")\n",
        "else:\n",
        "    # If no exception occurs, this block will run\n",
        "    print(\"File read successfully.\")\n",
        "    file.close()\n",
        "finally:\n",
        "    # This block always runs, whether an exception occurred or not\n",
        "    print(\"Execution complete.\")\n"
      ],
      "metadata": {
        "colab": {
          "base_uri": "https://localhost:8080/"
        },
        "id": "i7mcq7fdi8vY",
        "outputId": "b1ac81ce-24d2-4ba7-edfd-f80dd426308e"
      },
      "execution_count": 9,
      "outputs": [
        {
          "output_type": "stream",
          "name": "stdout",
          "text": [
            "File not found. Please check the file name.\n",
            "Execution complete.\n"
          ]
        }
      ]
    },
    {
      "cell_type": "markdown",
      "source": [
        "Explanation:\n",
        "try block: The code attempts to open a file that doesn't exist. This is a risky operation and might raise a FileNotFoundError.\n",
        "\n",
        "except FileNotFoundError: This block catches the specific FileNotFoundError and prints an appropriate message when the file is not found.\n",
        "\n",
        "else block: If no exception occurs, this block runs, closing the file and printing a success message (not executed in this example).\n",
        "\n",
        "finally block: This block always runs, ensuring that the program completes necessary cleanup, like releasing resources or giving final feedback, even when an exception occurs.\n",
        "\n",
        "The try-except mechanism allows for robust error handling, ensuring the program doesn't crash unexpectedly."
      ],
      "metadata": {
        "id": "JOUBQ_j9jT0x"
      }
    },
    {
      "cell_type": "markdown",
      "source": [
        "Q4. Explain with an example:\n",
        " try and else\n",
        " finally\n",
        " raise\n",
        "\n",
        " Answer:\n",
        "\n",
        " Here’s a breakdown of how the try, else, finally, and raise statements work in Python, along with an example to demonstrate their usage.\n",
        "\n",
        "1. try and else\n",
        "The try block is used to write code that might raise an exception.\n",
        "The else block runs if no exceptions occur in the try block.\n",
        "2. finally\n",
        "The finally block contains code that is always executed, regardless of whether an exception occurred or not. It is typically used for cleanup operations, such as closing files or releasing resources.\n",
        "3. raise\n",
        "The raise statement allows you to manually throw (raise) an exception in your code. You can raise built-in exceptions or custom ones.\n",
        "\n"
      ],
      "metadata": {
        "id": "cHefysrpjhmC"
      }
    },
    {
      "cell_type": "code",
      "source": [
        "def divide_numbers(a, b):\n",
        "    try:\n",
        "        # Attempting a division that may raise an exception\n",
        "        result = a / b\n",
        "    except ZeroDivisionError:\n",
        "        # Handling division by zero\n",
        "        print(\"Cannot divide by zero!\")\n",
        "    else:\n",
        "        # If no exception occurs, this block will execute\n",
        "        print(f\"Division successful, result: {result}\")\n",
        "    finally:\n",
        "        # This block always runs, regardless of exceptions\n",
        "        print(\"Execution of division complete.\")\n",
        "\n",
        "def check_number(n):\n",
        "    if n < 0:\n",
        "        # Manually raising an exception for invalid input\n",
        "        raise ValueError(\"Negative numbers are not allowed.\")\n",
        "    else:\n",
        "        print(f\"Valid number: {n}\")\n",
        "\n",
        "# Using the divide_numbers function\n",
        "divide_numbers(10, 2)  # Valid division\n",
        "divide_numbers(10, 0)  # Division by zero\n",
        "\n",
        "# Using the check_number function\n",
        "try:\n",
        "    check_number(-5)  # Manually raising a ValueError\n",
        "except ValueError as e:\n",
        "    print(e)\n",
        "\n"
      ],
      "metadata": {
        "colab": {
          "base_uri": "https://localhost:8080/"
        },
        "id": "tNndn5iVkCja",
        "outputId": "c2b0dbe1-19ea-48a0-b8d0-6ce940b152c4"
      },
      "execution_count": 10,
      "outputs": [
        {
          "output_type": "stream",
          "name": "stdout",
          "text": [
            "Division successful, result: 5.0\n",
            "Execution of division complete.\n",
            "Cannot divide by zero!\n",
            "Execution of division complete.\n",
            "Negative numbers are not allowed.\n"
          ]
        }
      ]
    },
    {
      "cell_type": "markdown",
      "source": [
        "\n",
        "\n",
        "Explanation:\n",
        "\n",
        "try block: In the divide_numbers() function, the division is attempted inside the try block.\n",
        "\n",
        "except block: If a ZeroDivisionError is encountered (when dividing by zero), the except block handles the exception and prints an appropriate message.\n",
        "\n",
        "else block: If no exception is raised, the else block runs and prints the result of the division.\n",
        "\n",
        "finally block: Regardless of whether an exception occurs, the finally block is executed to indicate that the division operation is complete.\n",
        "\n",
        "raise statement: In the check_number() function, the raise statement is used to manually raise a ValueError if a negative number is passed. This allows for custom exception handling based on specific conditions.\n",
        "\n",
        "This combination of try, else, finally, and raise enables robust error detection, handling, and cleanup in Python programs."
      ],
      "metadata": {
        "id": "xquOzq0ukNR5"
      }
    },
    {
      "cell_type": "markdown",
      "source": [
        "Q5. What are Custom Exceptions in python? Why do we need Custom Exceptions? Explain with an example.\n",
        "\n",
        "Answer:\n",
        "\n",
        "Custom exceptions in Python are user-defined exceptions that allow developers to create their own error types for more specific error handling. While Python provides several built-in exceptions (like ValueError, TypeError, FileNotFoundError), these may not always capture the specific error conditions you want to handle in your program. In such cases, you can define your own exceptions to make your error handling more meaningful and contextual.\n",
        "\n",
        "Need for Custom Exceptions:\n",
        "Custom exceptions allow to:\n",
        "\n",
        "Increase Readability and Context: They provide more specific, meaningful error messages tailored to the application, making debugging easier.\n",
        "Separate Concerns: Different parts of the program might raise specific errors, and custom exceptions allow you to handle them differently.\n",
        "Maintain Code Quality: By raising specific custom exceptions, you avoid overloading generic exceptions like ValueError, which can obscure the root cause of the error.\n",
        "Creating a Custom Exception\n",
        "To create a custom exception, you define a class that inherits from Python's built-in Exception class (or any other appropriate exception class)."
      ],
      "metadata": {
        "id": "b0iLYCpolBeZ"
      }
    },
    {
      "cell_type": "code",
      "source": [
        "# Define a custom exception\n",
        "class NegativeNumberError(Exception):\n",
        "    \"\"\"Exception raised for errors in the input, when the number is negative.\"\"\"\n",
        "\n",
        "    def __init__(self, number, message=\"Number cannot be negative\"):\n",
        "        self.number = number\n",
        "        self.message = message\n",
        "        super().__init__(self.message)\n",
        "\n",
        "# Function that raises the custom exception\n",
        "def check_positive(number):\n",
        "    if number < 0:\n",
        "        # Raise the custom exception if the number is negative\n",
        "        raise NegativeNumberError(number)\n",
        "    else:\n",
        "        print(f\"The number {number} is valid.\")\n",
        "\n",
        "# Example of handling the custom exception\n",
        "try:\n",
        "    check_positive(-5)  # This will raise the custom exception\n",
        "except NegativeNumberError as e:\n",
        "    print(f\"Error: {e}\")\n",
        "finally:\n",
        "    print(\"Execution finished.\")\n"
      ],
      "metadata": {
        "colab": {
          "base_uri": "https://localhost:8080/"
        },
        "id": "bIzIFIbYmxER",
        "outputId": "5e0f41ec-9dbb-41ad-9c6b-2f425e5a0e3b"
      },
      "execution_count": 11,
      "outputs": [
        {
          "output_type": "stream",
          "name": "stdout",
          "text": [
            "Error: Number cannot be negative\n",
            "Execution finished.\n"
          ]
        }
      ]
    },
    {
      "cell_type": "markdown",
      "source": [
        "Explanation:\n",
        "\n",
        "Custom Exception Class (NegativeNumberError):\n",
        "The class NegativeNumberError inherits from Python's built-in Exception class.\n",
        "\n",
        "It includes an initializer __init__ that accepts the number and a custom error message, which is passed to the super().__init__() method.\n",
        "\n",
        "Raising the Custom Exception:\n",
        "\n",
        "The check_positive() function checks if the input number is negative. If it is, it raises the NegativeNumberError with the number that caused the issue.\n",
        "\n",
        "Handling the Custom Exception:\n",
        "\n",
        "Inside the try block, the custom exception is raised, and the except block catches the NegativeNumberError. This allows for specific error messages tailored to the problem, improving readability and debugging.\n",
        "\n",
        "finally Block:\n",
        "\n",
        "The finally block ensures that any cleanup or follow-up code (like final messages) will be executed, regardless of whether the exception was raised.\n",
        "\n",
        "Why Custom Exceptions are Useful:\n",
        "\n",
        "Contextual Error Handling: Custom exceptions provide specific error messages that are relevant to your domain or application, making error diagnosis faster.\n",
        "\n",
        "Separation of Errors: If different components of your program raise distinct types of errors, custom exceptions allow you to isolate and handle each type separately.\n",
        "\n",
        "Modularity and Scalability: As your application grows, custom exceptions can help you manage errors in a structured way, ensuring better maintainability of your code."
      ],
      "metadata": {
        "id": "GDPXtQsnm6zR"
      }
    },
    {
      "cell_type": "markdown",
      "source": [
        "Q6. Create a custom exception class. Use this class to handle an exception.\n",
        "\n",
        "Answer:\n",
        "\n",
        "Here is an example of how you can create a custom exception class and use it to handle an exception in Python.\n",
        "\n",
        "Step 1: Define a Custom Exception Class\n",
        "To create a custom exception class called InsufficientBalanceError, which will be used to signal when an account does not have enough funds for a withdrawal.\n",
        "\n",
        "Step 2: Use the Custom Exception to Handle an Error\n",
        "A simple program that simulates withdrawing money from a bank account, where this custom exception will be raised if the withdrawal amount exceeds the available balance."
      ],
      "metadata": {
        "id": "yOZA4fcsoCkK"
      }
    },
    {
      "cell_type": "code",
      "source": [
        "# Define a custom exception for insufficient balance\n",
        "class InsufficientBalanceError(Exception):\n",
        "    \"\"\"Exception raised for attempting to withdraw more money than available balance.\"\"\"\n",
        "\n",
        "    def __init__(self, balance, amount, message=\"Insufficient balance for withdrawal\"):\n",
        "        self.balance = balance\n",
        "        self.amount = amount\n",
        "        self.message = f\"{message}. Available balance: {self.balance}, Withdrawal amount: {self.amount}\"\n",
        "        super().__init__(self.message)\n",
        "\n",
        "# Bank account class for handling deposits and withdrawals\n",
        "class BankAccount:\n",
        "    def __init__(self, balance=0):\n",
        "        self.balance = balance\n",
        "\n",
        "    def deposit(self, amount):\n",
        "        self.balance += amount\n",
        "        print(f\"Deposit successful! New balance: {self.balance}\")\n",
        "\n",
        "    def withdraw(self, amount):\n",
        "        if amount > self.balance:\n",
        "            # Raise the custom exception if withdrawal amount exceeds balance\n",
        "            raise InsufficientBalanceError(self.balance, amount)\n",
        "        else:\n",
        "            self.balance -= amount\n",
        "            print(f\"Withdrawal successful! New balance: {self.balance}\")\n",
        "\n",
        "# Example usage\n",
        "account = BankAccount(1000)  # Starting balance of 1000\n",
        "\n",
        "try:\n",
        "    account.withdraw(1500)  # Attempt to withdraw more than the available balance\n",
        "except InsufficientBalanceError as e:\n",
        "    print(f\"Error: {e}\")\n",
        "finally:\n",
        "    print(\"Transaction complete.\")\n"
      ],
      "metadata": {
        "colab": {
          "base_uri": "https://localhost:8080/"
        },
        "id": "mDs3OJdUo0Jq",
        "outputId": "fc53ca21-ccd4-48d7-8e4b-dd8eb6d00313"
      },
      "execution_count": 12,
      "outputs": [
        {
          "output_type": "stream",
          "name": "stdout",
          "text": [
            "Error: Insufficient balance for withdrawal. Available balance: 1000, Withdrawal amount: 1500\n",
            "Transaction complete.\n"
          ]
        }
      ]
    },
    {
      "cell_type": "markdown",
      "source": [
        "Explanation:\n",
        "\n",
        "Custom Exception Class (InsufficientBalanceError):\n",
        "Inherits from Python's Exception class.\n",
        "\n",
        "The __init__() method initializes the error message, which includes the current balance and the attempted withdrawal amount.\n",
        "\n",
        "BankAccount Class:\n",
        "\n",
        "The class allows deposits and withdrawals.\n",
        "The withdraw() method raises the InsufficientBalanceError if the withdrawal amount exceeds the current balance.\n",
        "\n",
        "Handling the Custom Exception:\n",
        "\n",
        "The custom exception is raised inside the try block when attempting to withdraw more than the available balance.\n",
        "The except block catches the custom InsufficientBalanceError, and prints a meaningful error message.\n",
        "\n",
        "finally Block:\n",
        "\n",
        "Regardless of whether the exception was raised or not, the finally block executes and prints a message indicating that the transaction is complete.\n",
        "\n",
        "This example shows how custom exceptions can provide more specific, contextually appropriate error messages and help handle situations in a more structured way."
      ],
      "metadata": {
        "id": "M92w1f7SpFTo"
      }
    },
    {
      "cell_type": "markdown",
      "source": [
        "Thank You!"
      ],
      "metadata": {
        "id": "wp0J_J1jpjro"
      }
    }
  ]
}