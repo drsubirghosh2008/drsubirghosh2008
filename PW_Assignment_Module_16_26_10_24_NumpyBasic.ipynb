{
  "nbformat": 4,
  "nbformat_minor": 0,
  "metadata": {
    "colab": {
      "provenance": [],
      "authorship_tag": "ABX9TyOXBJ7OS/1AIip3DeeYDZLJ",
      "include_colab_link": true
    },
    "kernelspec": {
      "name": "python3",
      "display_name": "Python 3"
    },
    "language_info": {
      "name": "python"
    }
  },
  "cells": [
    {
      "cell_type": "markdown",
      "metadata": {
        "id": "view-in-github",
        "colab_type": "text"
      },
      "source": [
        "<a href=\"https://colab.research.google.com/github/drsubirghosh2008/drsubirghosh2008/blob/main/PW_Assignment_Module_16_26_10_24_NumpyBasic.ipynb\" target=\"_parent\"><img src=\"https://colab.research.google.com/assets/colab-badge.svg\" alt=\"Open In Colab\"/></a>"
      ]
    },
    {
      "cell_type": "markdown",
      "source": [
        "Consider the below code to answer further questions:\n",
        "import numpy as np\n",
        "list_ = [ ‘1’ , ’2’ , ‘3’ , ‘4’ , ‘5’ ]\n",
        "array_list = np.array(object = list_)\n",
        "\n",
        "Q1. Is there any difference in the data type of variables list_ and array_list? If there is then write a code to print the data types of both the variables."
      ],
      "metadata": {
        "id": "KptBt6rH3EP_"
      }
    },
    {
      "cell_type": "code",
      "source": [
        "import numpy as np\n",
        "list_ = [ '1','2', '3','4','5' ]\n",
        "array_list = np.array(object = list_)\n",
        "print(type(list_))#soln.1\n",
        "print(type(array_list))#soln.1\n",
        "print(list_)#soln.2\n",
        "print(array_list)#soln.2"
      ],
      "metadata": {
        "colab": {
          "base_uri": "https://localhost:8080/"
        },
        "id": "o0cRu6LGEC4O",
        "outputId": "7e4a00eb-1058-43fa-9a77-9202d8111cbe"
      },
      "execution_count": 14,
      "outputs": [
        {
          "output_type": "stream",
          "name": "stdout",
          "text": [
            "<class 'list'>\n",
            "<class 'numpy.ndarray'>\n",
            "['1', '2', '3', '4', '5']\n",
            "['1' '2' '3' '4' '5']\n"
          ]
        }
      ]
    },
    {
      "cell_type": "markdown",
      "source": [
        "There any difference in the data type of variables list_ and array_list."
      ],
      "metadata": {
        "id": "H1SMJ0uJHuTG"
      }
    },
    {
      "cell_type": "markdown",
      "source": [
        "Q2. Write a code to print the data type of each and every element of both the variables list_ and arra_list."
      ],
      "metadata": {
        "id": "vacbIIwnKkrl"
      }
    },
    {
      "cell_type": "code",
      "source": [
        "import numpy as np\n",
        "list_ = [ '1','2', '3','4','5' ]\n",
        "array_list = np.array(object = list_)\n",
        "print(list_)\n",
        "print(array_list)"
      ],
      "metadata": {
        "colab": {
          "base_uri": "https://localhost:8080/"
        },
        "id": "8EvfJX9VHtgd",
        "outputId": "2b0026bf-b788-441e-c326-dbbdaf3b749c"
      },
      "execution_count": 13,
      "outputs": [
        {
          "output_type": "stream",
          "name": "stdout",
          "text": [
            "['1', '2', '3', '4', '5']\n",
            "['1' '2' '3' '4' '5']\n"
          ]
        }
      ]
    },
    {
      "cell_type": "markdown",
      "source": [
        "Q3. Considering the following changes in the variable, array_list:\n",
        "\n",
        "array_list = np.array(object = list_, dtype = int)\n",
        "\n",
        "Will there be any difference in the data type of the elements present in both the variables, list_ and arra_list?\n",
        "\n",
        "If so then print the data types of each and every element present in both the variables, list_ and arra_list.\n"
      ],
      "metadata": {
        "id": "hT0GCTnwK4Fd"
      }
    },
    {
      "cell_type": "code",
      "source": [
        "import numpy as np\n",
        "array_list = np.array(object = list_, dtype = int)\n",
        "print(type(list_))\n",
        "print(type(array_list))\n",
        "print(list_)\n",
        "print(array_list)"
      ],
      "metadata": {
        "colab": {
          "base_uri": "https://localhost:8080/"
        },
        "id": "gPQPsztNLT1N",
        "outputId": "c81eedb9-2e41-40c7-9846-fb17bc4ea1ab"
      },
      "execution_count": 17,
      "outputs": [
        {
          "output_type": "stream",
          "name": "stdout",
          "text": [
            "<class 'list'>\n",
            "<class 'numpy.ndarray'>\n",
            "['1', '2', '3', '4', '5']\n",
            "[1 2 3 4 5]\n"
          ]
        }
      ]
    },
    {
      "cell_type": "markdown",
      "source": [
        "\n",
        "Consider the below code to answer further questions:\n",
        "\n",
        "import numpy as np\n",
        "num_list = [ [ 1 , 2 , 3 ] , [ 4 , 5 , 6 ] ]\n",
        "num_array = np.array(object = num_list)"
      ],
      "metadata": {
        "id": "LhvMptfgLRA-"
      }
    },
    {
      "cell_type": "markdown",
      "source": [
        "Q4. Write a code to find the following characteristics of variable, num_array:\n",
        "\n",
        "(i) shape\n",
        "\n",
        "(ii) size"
      ],
      "metadata": {
        "id": "xn20boYUL7Gl"
      }
    },
    {
      "cell_type": "code",
      "source": [
        "import numpy as np\n",
        "\n",
        "num_list = [[1, 2, 3], [4, 5, 6]]\n",
        "num_array = np.array(object=num_list)\n",
        "\n",
        "# Get the \"shape\" of num_list (number of sublists and their lengths)\n",
        "num_list_shape = (len(num_list), len(num_list[0]))  # Assuming all sublists have the same length\n",
        "\n",
        "# Get the shape of the NumPy array\n",
        "num_array_shape = num_array.shape\n",
        "\n",
        "# Get the total number of elements in num_list\n",
        "num_list_size = sum(len(sublist) for sublist in num_list)\n",
        "\n",
        "# Get the total number of elements in the NumPy array\n",
        "num_array_size = num_array.size\n",
        "\n",
        "\n",
        "print(num_list_shape) # Output: (2, 3)\n",
        "print(num_array_shape) # Output: (2, 3)\n",
        "print(num_list_size)   # Output: 6\n",
        "print(num_array_size)   # Output: 6"
      ],
      "metadata": {
        "colab": {
          "base_uri": "https://localhost:8080/"
        },
        "id": "LgemqM7jNZhl",
        "outputId": "05227786-a57e-431b-eff7-da6608f34181"
      },
      "execution_count": 21,
      "outputs": [
        {
          "output_type": "stream",
          "name": "stdout",
          "text": [
            "(2, 3)\n",
            "(2, 3)\n",
            "6\n",
            "6\n"
          ]
        }
      ]
    },
    {
      "cell_type": "markdown",
      "source": [
        "Q5. Write a code to create numpy array of 3*3 matrix containing zeros only, using a numpy array creation function.\n",
        "[Hint: The size of the array will be 9 and the shape will be (3,3).]"
      ],
      "metadata": {
        "id": "Ot12gZzLNqUG"
      }
    },
    {
      "cell_type": "code",
      "source": [
        "import numpy as np\n",
        "\n",
        "# Creating a 3x3 matrix of zeros\n",
        "zero_matrix = np.zeros((3, 3))\n",
        "print(zero_matrix)"
      ],
      "metadata": {
        "colab": {
          "base_uri": "https://localhost:8080/"
        },
        "id": "taBM2GJNWQAm",
        "outputId": "e7965935-b5f1-426a-d22c-07f8889b36e4"
      },
      "execution_count": 29,
      "outputs": [
        {
          "output_type": "stream",
          "name": "stdout",
          "text": [
            "[[0. 0. 0.]\n",
            " [0. 0. 0.]\n",
            " [0. 0. 0.]]\n"
          ]
        }
      ]
    },
    {
      "cell_type": "markdown",
      "source": [
        "Q6. Create an identity matrix of shape (5,5) using numpy functions?\n",
        "[Hint: An identity matrix is a matrix containing 1 diagonally and other elements will be 0.]"
      ],
      "metadata": {
        "id": "jPSyDqvDVIE0"
      }
    },
    {
      "cell_type": "code",
      "source": [
        "# Importing the NumPy library with an alias 'np'\n",
        "import numpy as np\n",
        "\n",
        "# Creating a diagonal matrix with diagonal elements 1, 2, 3, 4, 5 using np.diag()\n",
        "x = np.diag([1, 1, 1, 1, 1])\n",
        "\n",
        "# Printing the diagonal matrix 'x'\n",
        "print(x)\n"
      ],
      "metadata": {
        "colab": {
          "base_uri": "https://localhost:8080/"
        },
        "id": "IDDVrScvVb09",
        "outputId": "41277a8a-5d31-4f22-fdff-2f31afbda12f"
      },
      "execution_count": 28,
      "outputs": [
        {
          "output_type": "stream",
          "name": "stdout",
          "text": [
            "[[1 0 0 0 0]\n",
            " [0 1 0 0 0]\n",
            " [0 0 1 0 0]\n",
            " [0 0 0 1 0]\n",
            " [0 0 0 0 1]]\n"
          ]
        }
      ]
    },
    {
      "cell_type": "markdown",
      "source": [
        "**Thank You!**\n"
      ],
      "metadata": {
        "id": "Sd4WK9BpVzrU"
      }
    }
  ]
}