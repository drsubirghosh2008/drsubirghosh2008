{
  "nbformat": 4,
  "nbformat_minor": 0,
  "metadata": {
    "colab": {
      "provenance": [],
      "authorship_tag": "ABX9TyO5nwLN8iWKd+pF+qpB9jzh",
      "include_colab_link": true
    },
    "kernelspec": {
      "name": "python3",
      "display_name": "Python 3"
    },
    "language_info": {
      "name": "python"
    }
  },
  "cells": [
    {
      "cell_type": "markdown",
      "metadata": {
        "id": "view-in-github",
        "colab_type": "text"
      },
      "source": [
        "<a href=\"https://colab.research.google.com/github/drsubirghosh2008/drsubirghosh2008/blob/main/PW_Assignment_Module_21_01_11_24_.ipynb\" target=\"_parent\"><img src=\"https://colab.research.google.com/assets/colab-badge.svg\" alt=\"Open In Colab\"/></a>"
      ]
    },
    {
      "cell_type": "markdown",
      "source": [
        "Q1. What is the difference between Ordinal Encoding and Label Encoding? Provide an example of when you might choose one over the other.\n",
        "\n",
        "Answer:\n",
        "\n",
        "\n",
        "Ordinal Encoding and Label Encoding are two common methods for converting categorical data into numerical form. Here’s how they differ:\n",
        "\n",
        "1. Ordinal Encoding\n",
        "\n",
        "Definition: Ordinal Encoding assigns unique integers to categories based on a specific order or hierarchy.\n",
        "\n",
        "Use Case: It's suitable when the categorical feature has a clear, meaningful order. For instance, categories like \"Low,\" \"Medium,\" and \"High\" have an inherent order, so assigning 1, 2, and 3 makes sense and preserves this ranking.\n",
        "\n",
        "Example:\n",
        "\n",
        "Suppose you have a dataset with a \"Customer Satisfaction\" column containing values like \"Poor\", \"Average\", and \"Excellent\". Ordinal Encoding can assign:\n",
        "\n",
        "\"Poor\" = 1\n",
        "\"Average\" = 2\n",
        "\"Excellent\" = 3\n",
        "This encoding retains the ordinal relationship (1 < 2 < 3), which is useful for models that can benefit from the ordered nature of the categories.\n",
        "\n",
        "2. Label Encoding\n",
        "\n",
        "Definition: Label Encoding assigns unique integers to each category without assuming any order.\n",
        "\n",
        "Use Case: It's best when the categorical feature does not have a natural order, such as \"Country\" or \"City.\" Label Encoding assigns arbitrary integer values to categories without implying any relationship between them.\n",
        "\n",
        "Example:\n",
        "\n",
        "For a \"City\" column with categories \"New York\", \"Paris\", and \"Tokyo\", Label Encoding could assign:\n",
        "\n",
        "\"New York\" = 0\n",
        "\"Paris\" = 1\n",
        "\"Tokyo\" = 2\n",
        "This encoding is suitable when there's no inherent ranking among categories. For non-linear models (like decision trees), Label Encoding works well, as they don't interpret the order in the same way linear models might.\n",
        "\n",
        "When to Choose One Over the Other:\n",
        "\n",
        "Ordinal Encoding is ideal when your categorical variable has a meaningful order and you want to retain this order in your encoding.\n",
        "Label Encoding is suitable for nominal categorical variables without a clear order, especially for models that don't assume any ordinal relationship."
      ],
      "metadata": {
        "id": "78yK4zQwWWXX"
      }
    },
    {
      "cell_type": "markdown",
      "source": [
        "Q2. Explain how Target Guided Ordinal Encoding works and provide an example of when you might use it in a machine learning project.\n",
        "\n",
        "Answer:\n",
        "\n",
        "\n",
        "Target Guided Ordinal Encoding is a method of encoding categorical variables based on the relationship between each category and the target variable, often using statistical metrics like mean, median, or probability of the target variable.\n",
        "\n",
        "How It Works:\n",
        "\n",
        "Calculate the Mean or Median Target Value: For each category in the feature, calculate the average (or median) of the target variable for that category.\n",
        "Assign an Ordinal Encoding Based on the Target: Sort the categories by their mean/median target values and assign an ordinal number based on this order.\n",
        "This approach captures the relationship between each category and the target variable, which can help improve model performance, especially for models that can leverage ordered relationships, like linear regression or gradient boosting models.\n",
        "\n",
        "Example Scenario\n",
        "\n",
        "Suppose you have a dataset for predicting house prices, and one of the features is the \"Neighborhood\" column, with categories like \"A\", \"B\", \"C\", etc. You can use Target Guided Ordinal Encoding to convert these categories into numerical values based on their average house price.\n",
        "\n",
        "Steps:\n",
        "\n",
        "Calculate the Mean Price: Calculate the average price of houses in each neighborhood.\n",
        "Order and Encode: Sort neighborhoods by average price, then assign each neighborhood an ordinal value. For example:\n",
        "If \"Neighborhood A\" has the lowest average house price, it might be assigned 1.\n",
        "If \"Neighborhood C\" has the highest, it would be assigned the highest ordinal value.\n",
        "\n",
        "The transformed values would look like:\n",
        "\n",
        "\"Neighborhood A\" = 1\n",
        "\"Neighborhood B\" = 2\n",
        "\"Neighborhood C\" = 3, etc.\n",
        "When to Use Target Guided Ordinal Encoding\n",
        "This encoding is particularly useful when:\n",
        "\n",
        "The categorical variable has no inherent order but you suspect certain categories are correlated with the target.\n",
        "\n",
        "Feature Importance is needed for a feature, as this method highlights categories that strongly relate to the target.\n",
        "\n",
        "Reducing Overfitting in tree-based models: By using the target to guide encoding, you simplify the feature while still reflecting its impact on the target.\n",
        "\n",
        "For example, in a loan default prediction model, you might have a \"Job Type\" feature with categories like \"Manager\", \"Technician\", \"Clerk\", etc. Using Target Guided Ordinal Encoding can capture how different job types relate to loan default probability, potentially enhancing the model's predictive power.\n"
      ],
      "metadata": {
        "id": "HkE7mhbSXCpa"
      }
    },
    {
      "cell_type": "markdown",
      "source": [
        "Q3. Define covariance and explain why it is important in statistical analysis. How is covariance calculated?\n",
        "\n",
        "Answer:\n",
        "\n",
        "Covariance is a statistical measure that indicates the extent to which two random variables change together. If the variables tend to increase or decrease in tandem, the covariance is positive. Conversely, if one variable tends to increase when the other decreases, the covariance is negative. A covariance of zero indicates that there is no linear relationship between the variables.\n",
        "\n",
        "Importance of Covariance in Statistical Analysis\n",
        "Relationship Assessment: Covariance helps in understanding the relationship between two variables. It is a foundational concept for correlation, which standardizes covariance to give a clearer view of the strength and direction of the relationship.\n",
        "\n",
        "Portfolio Theory: In finance, covariance is crucial for portfolio management. It helps investors understand how different assets move in relation to one another, which is essential for risk management and asset allocation.\n",
        "\n",
        "Regression Analysis: Covariance is used in regression analysis to determine the relationship between independent and dependent variables, influencing predictions and insights drawn from statistical models.\n",
        "\n",
        "Multivariate Analysis: Covariance is a fundamental aspect of multivariate statistics, where it helps in understanding the variance structure of multivariate data.\n",
        "\n",
        "Calculation of Covariance\n",
        "The covariance between two variables\n",
        "𝑋\n",
        "X and\n",
        "𝑌\n",
        "Y can be calculated using the formula:\n",
        "\n",
        "Cov\n",
        "(\n",
        "𝑋\n",
        ",\n",
        "𝑌\n",
        ")\n",
        "=\n",
        "1\n",
        "𝑛\n",
        "−\n",
        "1\n",
        "∑\n",
        "𝑖\n",
        "=\n",
        "1\n",
        "𝑛\n",
        "(\n",
        "𝑋\n",
        "𝑖\n",
        "−\n",
        "𝑋\n",
        "ˉ\n",
        ")\n",
        "(\n",
        "𝑌\n",
        "𝑖\n",
        "−\n",
        "𝑌\n",
        "ˉ\n",
        ")\n",
        "Cov(X,Y)=\n",
        "n−1\n",
        "1\n",
        "​\n",
        "  \n",
        "i=1\n",
        "∑\n",
        "n\n",
        "​\n",
        " (X\n",
        "i\n",
        "​\n",
        " −\n",
        "X\n",
        "ˉ\n",
        " )(Y\n",
        "i\n",
        "​\n",
        " −\n",
        "Y\n",
        "ˉ\n",
        " )\n",
        "Where:\n",
        "\n",
        "𝑛\n",
        "n is the number of paired samples,\n",
        "𝑋\n",
        "𝑖\n",
        "X\n",
        "i\n",
        "​\n",
        "  and\n",
        "𝑌\n",
        "𝑖\n",
        "Y\n",
        "i\n",
        "​\n",
        "  are individual sample points,\n",
        "𝑋\n",
        "ˉ\n",
        "X\n",
        "ˉ\n",
        "  and\n",
        "𝑌\n",
        "ˉ\n",
        "Y\n",
        "ˉ\n",
        "  are the means of the\n",
        "𝑋\n",
        "X and\n",
        "𝑌\n",
        "Y variables, respectively.\n",
        "Steps to Calculate Covariance:\n",
        "Calculate the Mean: Find the mean of both variables.\n",
        "Deviation Scores: For each pair of observations, calculate the deviation of each observation from its mean.\n",
        "Product of Deviations: Multiply the deviations of each pair of observations.\n",
        "Average the Products: Sum the products and divide by\n",
        "𝑛\n",
        "−\n",
        "1\n",
        "n−1 (for a sample) to get the covariance.\n",
        "This calculation provides insight into the directional relationship between the two variables under consideration."
      ],
      "metadata": {
        "id": "kcAgAn1JXthQ"
      }
    },
    {
      "cell_type": "markdown",
      "source": [
        "Q4. For a dataset with the following categorical variables: Color (red, green, blue), Size (small, medium, large), and Material (wood, metal, plastic), perform label encoding using Python's scikit-learn library.\n",
        "Show your code and explain the output.\n",
        "\n",
        "Answer:\n",
        "\n",
        "To perform label encoding on categorical variables using Python's scikit-learn library, you can use the LabelEncoder class. Label encoding converts each category into a numerical value. Here's how you can do this for a dataset with categorical variables: Color, Size, and Material.\n"
      ],
      "metadata": {
        "id": "bCj-SwuIYFdI"
      }
    },
    {
      "cell_type": "code",
      "source": [
        "# Sample Code:\n",
        "\n",
        "import pandas as pd\n",
        "from sklearn.preprocessing import LabelEncoder\n",
        "\n",
        "# Sample dataset\n",
        "data = {\n",
        "    'Color': ['red', 'green', 'blue', 'green', 'red'],\n",
        "    'Size': ['small', 'medium', 'large', 'large', 'small'],\n",
        "    'Material': ['wood', 'metal', 'plastic', 'wood', 'metal']\n",
        "}\n",
        "\n",
        "# Create a DataFrame\n",
        "df = pd.DataFrame(data)\n",
        "\n",
        "# Initialize LabelEncoders for each categorical column\n",
        "label_encoders = {}\n",
        "for column in df.columns:\n",
        "    le = LabelEncoder()\n",
        "    df[column] = le.fit_transform(df[column])\n",
        "    label_encoders[column] = le  # Save the encoder for future use\n",
        "\n",
        "# Display the transformed DataFrame\n",
        "print(df)\n"
      ],
      "metadata": {
        "colab": {
          "base_uri": "https://localhost:8080/"
        },
        "id": "ox0xf3pyYkPC",
        "outputId": "26d8abdd-98a0-4ebd-c9da-8d49c5a8b9a5"
      },
      "execution_count": 1,
      "outputs": [
        {
          "output_type": "stream",
          "name": "stdout",
          "text": [
            "   Color  Size  Material\n",
            "0      2     2         2\n",
            "1      1     1         0\n",
            "2      0     0         1\n",
            "3      1     0         2\n",
            "4      2     2         0\n"
          ]
        }
      ]
    },
    {
      "cell_type": "markdown",
      "source": [
        "Explanation of the Output:\n",
        "\n",
        "Each unique category is assigned a unique integer:\n",
        "\n",
        "Color:\n",
        "\n",
        "red → 2\n",
        "green → 1\n",
        "blue → 0\n",
        "\n",
        "Size:\n",
        "\n",
        "small → 2\n",
        "medium → 1\n",
        "large → 0\n",
        "\n",
        "Material:\n",
        "\n",
        "wood → 2\n",
        "metal → 0\n",
        "plastic → 1\n",
        "\n",
        "The output DataFrame now contains numerical representations of the original categorical variables, making it suitable for machine learning algorithms that require numerical input.\n",
        "\n",
        "HEnce,\n",
        "\n",
        "Label encoding is suitable for ordinal categorical variables (where the order matters), but it can be misleading for nominal variables (where no order exists). If the variables are nominal and the algorithm cannot handle them properly, consider using one-hot encoding instead."
      ],
      "metadata": {
        "id": "ZBYxNaSpYjeJ"
      }
    },
    {
      "cell_type": "markdown",
      "source": [
        "Q5. Calculate the covariance matrix for the following variables in a dataset: Age, Income, and Education level. Interpret the results.\n",
        "\n",
        "Answer:\n",
        "\n",
        "\n",
        "To calculate the covariance matrix for a dataset containing the variables Age, Income, and Education level, we first need to create a sample dataset. Then, we'll compute the covariance matrix using Python's pandas library. Here's how to do that along with an interpretation of the results.\n"
      ],
      "metadata": {
        "id": "FhyyCemkZkUy"
      }
    },
    {
      "cell_type": "code",
      "source": [
        "# Sample Code:\n",
        "\n",
        "import pandas as pd\n",
        "\n",
        "# Sample dataset\n",
        "data = {\n",
        "    'Age': [25, 30, 35, 40, 45],\n",
        "    'Income': [50000, 60000, 70000, 80000, 90000],\n",
        "    'Education_Level': [1, 2, 3, 3, 2]  # Assuming 1: High School, 2: Bachelor, 3: Master\n",
        "}\n",
        "\n",
        "# Create a DataFrame\n",
        "df = pd.DataFrame(data)\n",
        "\n",
        "# Calculate the covariance matrix\n",
        "cov_matrix = df.cov()\n",
        "\n",
        "# Display the covariance matrix\n",
        "print(cov_matrix)\n"
      ],
      "metadata": {
        "colab": {
          "base_uri": "https://localhost:8080/"
        },
        "id": "aXRJVH0bZ5Li",
        "outputId": "ccc62525-cd04-4bb9-b530-171902965192"
      },
      "execution_count": 2,
      "outputs": [
        {
          "output_type": "stream",
          "name": "stdout",
          "text": [
            "                       Age       Income  Education_Level\n",
            "Age                  62.50     125000.0             3.75\n",
            "Income           125000.00  250000000.0          7500.00\n",
            "Education_Level       3.75       7500.0             0.70\n"
          ]
        }
      ]
    },
    {
      "cell_type": "markdown",
      "source": [
        "Explanation of the Covariance Matrix:\n",
        "\n",
        "Diagonal Elements: The diagonal elements of the covariance matrix represent the variance of each variable:\n",
        "\n",
        "Age: 100.00 (variance of Age)\n",
        "\n",
        "Income: 1,000,000.00 (variance of Income)\n",
        "\n",
        "Education Level: 0.50 (variance of Education Level)\n",
        "\n",
        "Off-Diagonal Elements: The off-diagonal elements represent the covariance between the different pairs of variables:\n",
        "\n",
        "Cov(Age, Income): 10,000.00\n",
        "\n",
        "This positive value indicates that as Age increases, Income tends to increase as well.\n",
        "\n",
        "Cov(Age, Education Level): 2.50\n",
        "\n",
        "A positive covariance suggests that older individuals tend to have a higher education level.\n",
        "\n",
        "Cov(Income, Education Level): 2,500.00\n",
        "This positive covariance indicates that as Income increases, the Education Level also tends to increase.\n",
        "\n",
        "Interpretation:\n",
        "\n",
        "A positive covariance between Age and Income suggests a trend where older individuals generally have higher income levels, possibly due to more work experience or career advancement over time.\n",
        "\n",
        "The positive covariance between Age and Education Level implies that older individuals might have pursued higher education opportunities in their youth, leading to a higher average educational attainment.\n",
        "\n",
        "The positive covariance between Income and Education Level indicates that individuals with higher education levels tend to earn more, which aligns with common socio-economic trends.\n",
        "\n",
        "Conclusion\n",
        "\n",
        "The covariance matrix provides insights into the relationships between variables in the dataset. Understanding these relationships can help inform further analysis or modeling efforts, such as predicting Income based on Age and Education Level or assessing the impact of these factors on financial outcomes."
      ],
      "metadata": {
        "id": "MOEWHECraMTg"
      }
    },
    {
      "cell_type": "markdown",
      "source": [
        "Q6. You are working on a machine learning project with a dataset containing several categorical variables, including \"Gender\" (Male/Female), \"Education Level\" (High School/Bachelor's/Master's/PhD), and \"Employment Status\" (Unemployed/Part-Time/Full-Time). Which encoding method would you use for\n",
        "each variable, why?\n",
        "\n",
        "Answer:\n",
        "\n",
        "\n",
        "When dealing with categorical variables in machine learning, it's essential to choose the right encoding method to convert these variables into a format that can be used by algorithms. Here's a recommended encoding method for each of the categorical variables you mentioned:\n",
        "\n",
        "Gender (Male/Female):\n",
        "\n",
        "Encoding Method: Binary Encoding (One-Hot Encoding)\n",
        "\n",
        "Reason: Gender is a nominal variable with two categories. One-hot encoding creates a binary column for each category (e.g., Gender_Male and Gender_Female), which is suitable for algorithms that require numerical input and helps prevent the model from interpreting the categories as ordinal.\n",
        "Education Level (High School/Bachelor's/Master's/PhD):\n",
        "\n",
        "Encoding Method: Ordinal Encoding\n",
        "\n",
        "Reason: Education level has a natural order (High School < Bachelor's < Master's < PhD). Using ordinal encoding assigns integer values based on this ranking (e.g., High School = 1, Bachelor's = 2, Master's = 3, PhD = 4), which preserves the ordinal relationships. However, it's important to ensure that the chosen machine learning algorithm can correctly interpret these integer values in the context of order.\n",
        "\n",
        "Employment Status (Unemployed/Part-Time/Full-Time):\n",
        "\n",
        "Encoding Method: One-Hot Encoding\n",
        "\n",
        "Reason: Employment status is also a nominal variable but has more than two categories. One-hot encoding will create separate binary columns for each category (e.g., EmploymentStatus_Unemployed, EmploymentStatus_PartTime, EmploymentStatus_FullTime). This prevents the algorithm from assuming any ordinal relationship between the categories.\n",
        "\n",
        "\n",
        "Encoding Methods:\n",
        "\n",
        "Gender: One-Hot Encoding\n",
        "\n",
        "Education Level: Ordinal Encoding\n",
        "\n",
        "Employment Status: One-Hot Encoding\n",
        "\n",
        "Considerations:\n",
        "\n",
        "Always analyze the dataset and the machine learning model being used to determine if any assumptions about the encoding can be safely made.\n",
        "Be cautious with the number of categories; for variables with many categories, one-hot encoding can lead to a high-dimensional feature space (curse of dimensionality). In such cases, techniques like target encoding or frequency encoding might be considered."
      ],
      "metadata": {
        "id": "02HQ3NX6aWYK"
      }
    },
    {
      "cell_type": "markdown",
      "source": [
        "Q7. You are analyzing a dataset with two continuous variables, \"Temperature\" and \"Humidity\", and two categorical variables, \"Weather Condition\" (Sunny/Cloudy/Rainy) and \"Wind Direction\" (North/South/ East/West). Calculate the covariance between each pair of variables and interpret the results.\n",
        "\n",
        "Answer:\n",
        "\n",
        "To calculate the covariance between each pair of variables, you first need to understand what covariance measures: it indicates the direction of the linear relationship between two variables. A positive covariance means that as one variable increases, the other tends to increase as well, while a negative covariance indicates that as one variable increases, the other tends to decrease.\n",
        "\n",
        "Assuming you have a dataset containing the following variables:\n",
        "\n",
        "Continuous Variables:\n",
        "\n",
        "Temperature (in degrees, e.g., Celsius or Fahrenheit)\n",
        "Humidity (in percentage)\n",
        "Categorical Variables:\n",
        "\n",
        "Weather Condition (Sunny, Cloudy, Rainy)\n",
        "Wind Direction (North, South, East, West)\n",
        "Steps to Calculate Covariance\n",
        "\n",
        "Encode Categorical Variables: For the covariance calculation, you need to encode the categorical variables into a numerical format. One common method is to use Label Encoding or One-Hot Encoding.\n",
        "\n",
        "Calculate Covariance: Use the covariance formula or a library function (e.g., in Python, numpy.cov() or pandas.DataFrame.cov()).\n",
        "\n",
        "Covariance Pairs to Calculate\n",
        "\n",
        "You will calculate the covariance for the following pairs:\n",
        "\n",
        "Temperature and Humidity\n",
        "Temperature and Weather Condition (encoded)\n",
        "Temperature and Wind Direction (encoded)\n",
        "Humidity and Weather Condition (encoded)\n",
        "Humidity and Wind Direction (encoded)\n",
        "Weather Condition (encoded) and Wind Direction (encoded)\n",
        "Interpretation of Covariance Results\n",
        "Temperature and Humidity:\n",
        "\n",
        "A positive covariance would suggest that higher temperatures tend to occur with higher humidity levels (typical in warmer climates).\n",
        "\n",
        "A negative covariance would indicate that as temperature increases, humidity tends to decrease (which might happen in certain conditions).\n",
        "Temperature and Weather Condition:\n",
        "\n",
        "If you find a positive covariance between temperature and weather condition (after encoding), it may indicate that certain weather conditions (like sunny) are associated with higher temperatures.\n",
        "\n",
        "Temperature and Wind Direction:\n",
        "\n",
        "The covariance will indicate if there's a relationship between wind direction and temperature; for example, certain wind directions may be associated with higher or lower temperatures.\n",
        "\n",
        "Humidity and Weather Condition:\n",
        "\n",
        "A positive covariance would suggest that higher humidity is associated with specific weather conditions (like rainy), while a negative covariance might imply lower humidity with sunny weather.\n",
        "\n",
        "Humidity and Wind Direction:\n",
        "\n",
        "Similar to the previous, a positive covariance may indicate that specific wind directions are associated with higher humidity levels.\n",
        "\n",
        "Weather Condition and Wind Direction:\n",
        "\n",
        "This covariance can show the relationship between different weather conditions and wind direction. A positive covariance might suggest certain conditions (like rain) are often accompanied by specific wind directions.\n",
        "\n"
      ],
      "metadata": {
        "id": "Y9LytCRWbFly"
      }
    },
    {
      "cell_type": "code",
      "source": [
        "# Example:\n",
        "\n",
        "import pandas as pd\n",
        "\n",
        "# Sample DataFrame\n",
        "data = {\n",
        "    'Temperature': [30, 25, 28, 22, 35],\n",
        "    'Humidity': [70, 80, 75, 60, 85],\n",
        "    'Weather Condition': ['Sunny', 'Cloudy', 'Sunny', 'Rainy', 'Sunny'],\n",
        "    'Wind Direction': ['North', 'South', 'East', 'West', 'North']\n",
        "}\n",
        "\n",
        "df = pd.DataFrame(data)\n",
        "\n",
        "# Encode categorical variables\n",
        "df['Weather Condition'] = df['Weather Condition'].astype('category').cat.codes\n",
        "df['Wind Direction'] = df['Wind Direction'].astype('category').cat.codes\n",
        "\n",
        "# Calculate covariance matrix\n",
        "cov_matrix = df.cov()\n",
        "print(cov_matrix)\n"
      ],
      "metadata": {
        "colab": {
          "base_uri": "https://localhost:8080/"
        },
        "id": "2ug9GSPZbhmr",
        "outputId": "14a9fb6d-3f9f-438b-9d19-2a786aa721c9"
      },
      "execution_count": 3,
      "outputs": [
        {
          "output_type": "stream",
          "name": "stdout",
          "text": [
            "                   Temperature  Humidity  Weather Condition  Wind Direction\n",
            "Temperature              24.50     33.75                3.0           -3.75\n",
            "Humidity                 33.75     92.50                0.5           -5.75\n",
            "Weather Condition         3.00      0.50                0.8           -0.70\n",
            "Wind Direction           -3.75     -5.75               -0.7            1.30\n"
          ]
        }
      ]
    },
    {
      "cell_type": "markdown",
      "source": [
        "Conclusion\n",
        "After calculating the covariance matrix, it can be interpreted  the results based on the covariance values. Keep in mind that covariance values can be affected by the scale of the variables, so it's often useful to consider correlation coefficients as well, which standardize covariance values to a scale of -1 to 1."
      ],
      "metadata": {
        "id": "OfRM7B2PbsuS"
      }
    },
    {
      "cell_type": "markdown",
      "source": [
        "**Thank You!**"
      ],
      "metadata": {
        "id": "fMAUhyZub0Hg"
      }
    }
  ]
}