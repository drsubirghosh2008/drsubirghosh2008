{
  "nbformat": 4,
  "nbformat_minor": 0,
  "metadata": {
    "colab": {
      "provenance": [],
      "authorship_tag": "ABX9TyNl8KEtAar8tlgF+FsCIzHJ",
      "include_colab_link": true
    },
    "kernelspec": {
      "name": "python3",
      "display_name": "Python 3"
    },
    "language_info": {
      "name": "python"
    }
  },
  "cells": [
    {
      "cell_type": "markdown",
      "metadata": {
        "id": "view-in-github",
        "colab_type": "text"
      },
      "source": [
        "<a href=\"https://colab.research.google.com/github/drsubirghosh2008/drsubirghosh2008/blob/main/PW_Assignment_Module_27_9_11_24_KNN_3.ipynb\" target=\"_parent\"><img src=\"https://colab.research.google.com/assets/colab-badge.svg\" alt=\"Open In Colab\"/></a>"
      ]
    },
    {
      "cell_type": "markdown",
      "source": [
        "Q1. Write a Python code to implement the KNN classifier algorithm on load_iris dataset in sklearn.datasets.\n",
        "\n",
        "Answer:\n",
        "\n"
      ],
      "metadata": {
        "id": "kaxt6LlR98Hd"
      }
    },
    {
      "cell_type": "code",
      "source": [
        "#KNN classifier\n",
        "# Import necessary libraries\n",
        "from sklearn.datasets import load_iris\n",
        "from sklearn.model_selection import train_test_split\n",
        "from sklearn.neighbors import KNeighborsClassifier\n",
        "from sklearn.metrics import accuracy_score, classification_report\n",
        "\n",
        "# Load the Iris dataset\n",
        "iris = load_iris()\n",
        "X = iris.data  # Feature matrix\n",
        "y = iris.target  # Target vector\n",
        "\n",
        "# Split the data into training and testing sets (80% train, 20% test)\n",
        "X_train, X_test, y_train, y_test = train_test_split(X, y, test_size=0.2, random_state=42)\n",
        "\n",
        "# Initialize the KNN classifier with a specific value of k (e.g., 3)\n",
        "k = 3\n",
        "knn = KNeighborsClassifier(n_neighbors=k)\n",
        "\n",
        "# Fit the model on the training data\n",
        "knn.fit(X_train, y_train)\n",
        "\n",
        "# Predict the labels for the test set\n",
        "y_pred = knn.predict(X_test)\n",
        "\n",
        "# Evaluate the model\n",
        "accuracy = accuracy_score(y_test, y_pred)\n",
        "print(f\"Accuracy: {accuracy:.2f}\")\n",
        "\n",
        "# Print a detailed classification report\n",
        "print(\"\\nClassification Report:\")\n",
        "print(classification_report(y_test, y_pred, target_names=iris.target_names))\n"
      ],
      "metadata": {
        "colab": {
          "base_uri": "https://localhost:8080/"
        },
        "id": "NllwNTSr-I_d",
        "outputId": "34a11bec-187d-4ca0-d400-2d1f5c2430f0"
      },
      "execution_count": 1,
      "outputs": [
        {
          "output_type": "stream",
          "name": "stdout",
          "text": [
            "Accuracy: 1.00\n",
            "\n",
            "Classification Report:\n",
            "              precision    recall  f1-score   support\n",
            "\n",
            "      setosa       1.00      1.00      1.00        10\n",
            "  versicolor       1.00      1.00      1.00         9\n",
            "   virginica       1.00      1.00      1.00        11\n",
            "\n",
            "    accuracy                           1.00        30\n",
            "   macro avg       1.00      1.00      1.00        30\n",
            "weighted avg       1.00      1.00      1.00        30\n",
            "\n"
          ]
        }
      ]
    },
    {
      "cell_type": "markdown",
      "source": [
        "Explanation:\n",
        "Dataset Loading:\n",
        "\n",
        "The load_iris() function loads the Iris dataset, which includes features (sepal and petal measurements) and target labels (setosa, versicolor, virginica).\n",
        "Train-Test Split:\n",
        "\n",
        "The train_test_split function divides the dataset into training and testing subsets for model evaluation.\n",
        "KNN Classifier:\n",
        "\n",
        "KNeighborsClassifier is used with n_neighbors=k to specify the number of neighbors.\n",
        "\n",
        "Model Training:\n",
        "\n",
        "The .fit() method trains the KNN model on the training data.\n",
        "Prediction:\n",
        "\n",
        "The .predict() method predicts the labels for the test data.\n",
        "Evaluation:\n",
        "\n",
        "Accuracy and a detailed classification report (precision, recall, and F1-score) are generated."
      ],
      "metadata": {
        "id": "omF-pm45_0-u"
      }
    },
    {
      "cell_type": "markdown",
      "source": [
        "Q2. Write a Python code to implement the KNN regressor algorithm on load_boston dataset in sklearn.datasets.\n",
        "\n",
        "Answer:\n",
        "\n",
        "\n",
        "The load_boston dataset has been deprecated in recent versions of scikit-learn. However, you can still access it by installing the sklearn.datasets extension openml. Alternatively, if you're using an older version, here's the code for implementing the KNN Regressor on the dataset.\n",
        "\n",
        "Below is the code assuming access to the load_boston dataset:"
      ],
      "metadata": {
        "id": "yHIyFTWq_4BE"
      }
    },
    {
      "cell_type": "code",
      "source": [
        "# Import necessary libraries\n",
        "from sklearn.datasets import fetch_openml\n",
        "from sklearn.model_selection import train_test_split\n",
        "from sklearn.neighbors import KNeighborsRegressor\n",
        "from sklearn.metrics import mean_squared_error, r2_score\n",
        "\n",
        "# Load the Boston dataset (fetch_openml is the current recommended method)\n",
        "boston = fetch_openml(name='boston', version=1, as_frame=True)\n",
        "X = boston.data  # Feature matrix\n",
        "y = boston.target  # Target vector\n",
        "\n",
        "# Split the data into training and testing sets (80% train, 20% test)\n",
        "X_train, X_test, y_train, y_test = train_test_split(X, y, test_size=0.2, random_state=42)\n",
        "\n",
        "# Initialize the KNN regressor with a specific value of k (e.g., 5)\n",
        "k = 5\n",
        "knn_regressor = KNeighborsRegressor(n_neighbors=k)\n",
        "\n",
        "# Fit the model on the training data\n",
        "knn_regressor.fit(X_train, y_train)\n",
        "\n",
        "# Predict the target values for the test set\n",
        "y_pred = knn_regressor.predict(X_test)\n",
        "\n",
        "# Evaluate the model\n",
        "mse = mean_squared_error(y_test, y_pred)\n",
        "r2 = r2_score(y_test, y_pred)\n",
        "print(f\"Mean Squared Error: {mse:.2f}\")\n",
        "print(f\"R-squared Score: {r2:.2f}\")\n"
      ],
      "metadata": {
        "colab": {
          "base_uri": "https://localhost:8080/"
        },
        "id": "hIWutnHlD0CE",
        "outputId": "281ed41e-b7a9-40d7-f18f-b240b0e48289"
      },
      "execution_count": 2,
      "outputs": [
        {
          "output_type": "stream",
          "name": "stdout",
          "text": [
            "Mean Squared Error: 25.86\n",
            "R-squared Score: 0.65\n"
          ]
        }
      ]
    },
    {
      "cell_type": "markdown",
      "source": [
        "Explanation:\n",
        "Dataset Loading:\n",
        "\n",
        "The fetch_openml function is used to load the Boston dataset since load_boston is no longer supported in recent versions.\n",
        "Train-Test Split:\n",
        "\n",
        "The dataset is divided into training and testing subsets to evaluate the model effectively.\n",
        "KNN Regressor:\n",
        "\n",
        "KNeighborsRegressor is initialized with n_neighbors=k to specify the number of neighbors used for regression.\n",
        "Model Training:\n",
        "\n",
        "The .fit() method is used to train the KNN model on the training data.\n",
        "Prediction:\n",
        "\n",
        "The .predict() method predicts the target values for the test data.\n",
        "Evaluation:\n",
        "\n",
        "Mean Squared Error (MSE) and R-squared score are calculated to evaluate the model's performance."
      ],
      "metadata": {
        "id": "IfoR03gTD8hs"
      }
    },
    {
      "cell_type": "markdown",
      "source": [
        "Q3. Write a Python code snippet to find the optimal value of K for the KNN classifier algorithm using cross-validation on load_iris dataset in sklearn.datasets.\n",
        "\n",
        "Answer:\n",
        "\n",
        "Here’s a Python code snippet to determine the optimal value of K for the KNN classifier algorithm using cross-validation on the load_iris dataset:"
      ],
      "metadata": {
        "id": "Ws5cqwEyD-br"
      }
    },
    {
      "cell_type": "code",
      "source": [
        "# Import necessary libraries\n",
        "from sklearn.datasets import load_iris\n",
        "from sklearn.model_selection import cross_val_score\n",
        "from sklearn.neighbors import KNeighborsClassifier\n",
        "import numpy as np\n",
        "\n",
        "# Load the Iris dataset\n",
        "iris = load_iris()\n",
        "X = iris.data  # Feature matrix\n",
        "y = iris.target  # Target vector\n",
        "\n",
        "# Initialize variables\n",
        "k_values = range(1, 31)  # Test K values from 1 to 30\n",
        "cv_scores = []  # To store cross-validation scores for each K\n",
        "\n",
        "# Perform cross-validation for each value of K\n",
        "for k in k_values:\n",
        "    knn = KNeighborsClassifier(n_neighbors=k)\n",
        "    # Use 10-fold cross-validation to evaluate the model\n",
        "    scores = cross_val_score(knn, X, y, cv=10, scoring='accuracy')\n",
        "    cv_scores.append(scores.mean())\n",
        "\n",
        "# Find the optimal K (maximum cross-validation score)\n",
        "optimal_k = k_values[np.argmax(cv_scores)]\n",
        "print(f\"Optimal value of K: {optimal_k}\")\n",
        "\n",
        "# Plotting the results\n",
        "import matplotlib.pyplot as plt\n",
        "\n",
        "plt.plot(k_values, cv_scores, marker='o')\n",
        "plt.xlabel('Number of Neighbors K')\n",
        "plt.ylabel('Cross-Validated Accuracy')\n",
        "plt.title('Optimal K for KNN Classifier')\n",
        "plt.grid(True)\n",
        "plt.show()\n"
      ],
      "metadata": {
        "colab": {
          "base_uri": "https://localhost:8080/",
          "height": 490
        },
        "id": "UA0EnCOaEKhr",
        "outputId": "6832d07d-fcba-44cf-8d82-25b12463e354"
      },
      "execution_count": 3,
      "outputs": [
        {
          "output_type": "stream",
          "name": "stdout",
          "text": [
            "Optimal value of K: 13\n"
          ]
        },
        {
          "output_type": "display_data",
          "data": {
            "text/plain": [
              "<Figure size 640x480 with 1 Axes>"
            ],
            "image/png": "[encoded data removed]"
          },
          "metadata": {}
        }
      ]
    },
    {
      "cell_type": "markdown",
      "source": [
        "Explanation:\n",
        "Cross-Validation:\n",
        "\n",
        "The cross_val_score function performs 10-fold cross-validation to evaluate the model's performance for each K.\n",
        "\n",
        "Accuracy Evaluation:\n",
        "\n",
        "For each K, the average accuracy is calculated and stored in the cv_scores list.\n",
        "Optimal K:\n",
        "\n",
        "The optimal K is determined as the value that gives the maximum average cross-validation accuracy.\n",
        "\n",
        "Plotting Results:\n",
        "\n",
        "A line plot shows the relationship between K and cross-validated accuracy, helping visualize the choice of K.\n",
        "This approach ensures that the model generalizes well by selecting the\n",
        "K value that works best across multiple splits of the dataset."
      ],
      "metadata": {
        "id": "XWD8PM2wESg0"
      }
    },
    {
      "cell_type": "markdown",
      "source": [
        "Q4. Implement the KNN regressor algorithm with feature scaling on load_boston dataset in sklearn.datasets.\n",
        "\n",
        "Answer:\n",
        "\n",
        " implementation of  the K-Nearest Neighbors (KNN) regressor with feature scaling on the load_boston dataset using scikit-learn."
      ],
      "metadata": {
        "id": "UZysDnH9Ef0a"
      }
    },
    {
      "cell_type": "code",
      "source": [
        "from sklearn.datasets import fetch_california_housing\n",
        "from sklearn.model_selection import train_test_split\n",
        "from sklearn.preprocessing import StandardScaler\n",
        "from sklearn.neighbors import KNeighborsRegressor\n",
        "from sklearn.metrics import mean_squared_error\n",
        "\n",
        "# Load the dataset\n",
        "housing = fetch_california_housing()\n",
        "X, y = housing.data, housing.target\n",
        "\n",
        "# Split into training and testing sets\n",
        "X_train, X_test, y_train, y_test = train_test_split(X, y, test_size=0.2, random_state=42)\n",
        "\n",
        "# Feature scaling\n",
        "scaler = StandardScaler()\n",
        "X_train_scaled = scaler.fit_transform(X_train)\n",
        "X_test_scaled = scaler.transform(X_test)\n",
        "\n",
        "# Initialize the KNN regressor\n",
        "knn = KNeighborsRegressor(n_neighbors=5)\n",
        "\n",
        "# Train the model\n",
        "knn.fit(X_train_scaled, y_train)\n",
        "\n",
        "# Make predictions\n",
        "y_pred = knn.predict(X_test_scaled)\n",
        "\n",
        "# Evaluate the model\n",
        "mse = mean_squared_error(y_test, y_pred)\n",
        "print(f\"Mean Squared Error: {mse}\")\n"
      ],
      "metadata": {
        "colab": {
          "base_uri": "https://localhost:8080/"
        },
        "id": "7XunroZOEqjr",
        "outputId": "8e7303a1-f5e1-4ad3-df90-0dc0084a4018"
      },
      "execution_count": 11,
      "outputs": [
        {
          "output_type": "stream",
          "name": "stdout",
          "text": [
            "Mean Squared Error: 0.4324216146043236\n"
          ]
        }
      ]
    },
    {
      "cell_type": "markdown",
      "source": [
        "Explanation of the Steps:\n",
        "\n",
        "Load the Data: Use load_boston() from sklearn.datasets to load the Boston housing dataset.\n",
        "\n",
        "Split Data: Use train_test_split to split the data into training and testing sets.\n",
        "\n",
        "Feature Scaling: Use StandardScaler for feature scaling to standardize features by removing the mean and scaling to unit variance.\n",
        "\n",
        "KNN Regressor: Create a KNeighborsRegressor model and set the number of neighbors (n_neighbors) as desired.\n",
        "\n",
        "Train: Fit the model on the scaled training data.\n",
        "\n",
        "Predict: Use the model to predict the target variable on the scaled test data.\n",
        "\n",
        "Evaluate: Calculate the Mean Squared Error (MSE) to evaluate the model’s performance."
      ],
      "metadata": {
        "id": "TqGRPuA2GTfq"
      }
    },
    {
      "cell_type": "markdown",
      "source": [
        "Q5. Write a Python code snippet to implement the KNN classifier algorithm with weighted voting on load_iris dataset in sklearn.datasets.\n",
        "\n",
        "Answer:\n",
        "\n",
        "Here’s a Python code snippet that implements the KNN classifier algorithm with weighted voting using the load_iris dataset from sklearn.datasets. It uses the KNeighborsClassifier from sklearn.neighbors and sets the weights='distance' parameter to apply distance-weighted voting:"
      ],
      "metadata": {
        "id": "NYgDPuqwGXtB"
      }
    },
    {
      "cell_type": "code",
      "source": [
        "from sklearn.datasets import load_iris\n",
        "from sklearn.model_selection import train_test_split\n",
        "from sklearn.neighbors import KNeighborsClassifier\n",
        "from sklearn.metrics import accuracy_score\n",
        "\n",
        "# Load the Iris dataset\n",
        "iris = load_iris()\n",
        "X = iris.data\n",
        "y = iris.target\n",
        "\n",
        "# Split the dataset into training and testing sets\n",
        "X_train, X_test, y_train, y_test = train_test_split(X, y, test_size=0.3, random_state=42)\n",
        "\n",
        "# Initialize the KNN classifier with weighted voting\n",
        "knn = KNeighborsClassifier(n_neighbors=5, weights='distance')\n",
        "\n",
        "# Train the classifier\n",
        "knn.fit(X_train, y_train)\n",
        "\n",
        "# Predict on the test set\n",
        "y_pred = knn.predict(X_test)\n",
        "\n",
        "# Calculate accuracy\n",
        "accuracy = accuracy_score(y_test, y_pred)\n",
        "\n",
        "print(f'Accuracy of the KNN classifier with weighted voting: {accuracy:.2f}')\n"
      ],
      "metadata": {
        "colab": {
          "base_uri": "https://localhost:8080/"
        },
        "id": "VgPESyHSGx3D",
        "outputId": "0b2e8010-a8ab-4fd2-a3bf-e7e9b7b5a8ee"
      },
      "execution_count": 12,
      "outputs": [
        {
          "output_type": "stream",
          "name": "stdout",
          "text": [
            "Accuracy of the KNN classifier with weighted voting: 1.00\n"
          ]
        }
      ]
    },
    {
      "cell_type": "markdown",
      "source": [
        "Key points:\n",
        "\n",
        "weights='distance': This argument ensures that closer neighbors have a greater influence on the classification by assigning weights inversely proportional to their distance.\n",
        "\n",
        "train_test_split: Splits the dataset into training and testing sets (70% training, 30% testing in this case).\n",
        "\n",
        "KNeighborsClassifier: Implements the KNN algorithm, with n_neighbors=5 as an example."
      ],
      "metadata": {
        "id": "MbCTPGdlG8Xh"
      }
    },
    {
      "cell_type": "markdown",
      "source": [
        "Q6. Implement a function to standardise the features before applying KNN classifier.\n",
        "\n",
        "Answer:\n",
        "\n",
        "To standardize the features before applying the KNN classifier, you can use the StandardScaler from sklearn.preprocessing. Standardizing the data ensures that each feature has a mean of 0 and a standard deviation of 1, which is important for KNN because it is sensitive to the scale of the features."
      ],
      "metadata": {
        "id": "iXkano_WHAjp"
      }
    },
    {
      "cell_type": "code",
      "source": [
        "from sklearn.datasets import load_iris\n",
        "from sklearn.model_selection import train_test_split\n",
        "from sklearn.neighbors import KNeighborsClassifier\n",
        "from sklearn.preprocessing import StandardScaler\n",
        "from sklearn.metrics import accuracy_score\n",
        "\n",
        "def knn_with_standardization(X, y, n_neighbors=5, test_size=0.3):\n",
        "    \"\"\"\n",
        "    This function standardizes the features and applies the KNN classifier.\n",
        "\n",
        "    Parameters:\n",
        "    X (array-like): Feature matrix.\n",
        "    y (array-like): Target vector.\n",
        "    n_neighbors (int): Number of neighbors to use for KNN.\n",
        "    test_size (float): Proportion of the data to use for testing.\n",
        "\n",
        "    Returns:\n",
        "    float: Accuracy of the classifier on the test set.\n",
        "    \"\"\"\n",
        "    # Split the dataset into training and testing sets\n",
        "    X_train, X_test, y_train, y_test = train_test_split(X, y, test_size=test_size, random_state=42)\n",
        "\n",
        "    # Standardize the features using StandardScaler\n",
        "    scaler = StandardScaler()\n",
        "    X_train_scaled = scaler.fit_transform(X_train)\n",
        "    X_test_scaled = scaler.transform(X_test)\n",
        "\n",
        "    # Initialize the KNN classifier with weighted voting\n",
        "    knn = KNeighborsClassifier(n_neighbors=n_neighbors, weights='distance')\n",
        "\n",
        "    # Train the classifier\n",
        "    knn.fit(X_train_scaled, y_train)\n",
        "\n",
        "    # Predict on the test set\n",
        "    y_pred = knn.predict(X_test_scaled)\n",
        "\n",
        "    # Calculate and return accuracy\n",
        "    accuracy = accuracy_score(y_test, y_pred)\n",
        "    return accuracy\n",
        "\n",
        "# Load the Iris dataset\n",
        "iris = load_iris()\n",
        "X = iris.data\n",
        "y = iris.target\n",
        "\n",
        "# Call the function and print the result\n",
        "accuracy = knn_with_standardization(X, y)\n",
        "print(f'Accuracy of KNN with standardized features: {accuracy:.2f}')\n"
      ],
      "metadata": {
        "colab": {
          "base_uri": "https://localhost:8080/"
        },
        "id": "up4S1J6OHPea",
        "outputId": "0e4b23a5-11d8-4af1-a132-4fd1de93b5cf"
      },
      "execution_count": 13,
      "outputs": [
        {
          "output_type": "stream",
          "name": "stdout",
          "text": [
            "Accuracy of KNN with standardized features: 1.00\n"
          ]
        }
      ]
    },
    {
      "cell_type": "markdown",
      "source": [
        "Explanation:\n",
        "\n",
        "StandardScaler:\n",
        "\n",
        "The fit_transform method is used on the training data to compute the mean and standard deviation and scale the features. The transform method is applied to the test data using the already fitted scaler to ensure the test set is standardized using the same parameters as the training set.\n",
        "\n",
        "KNN Classifier:\n",
        "\n",
        "The classifier is trained using the standardized features. We use distance-weighted voting (weights='distance') as in the previous example.\n",
        "Accuracy: After making predictions on the test set, we calculate the accuracy using accuracy_score."
      ],
      "metadata": {
        "id": "3kYLZGZIHb4R"
      }
    },
    {
      "cell_type": "markdown",
      "source": [
        "Q7. Write a Python function to calculate the euclidean distance between two points.\n",
        "\n",
        "Answer:\n",
        "\n",
        "To calculate the Euclidean distance between two points in a multi-dimensional space, you can use the following formula:\n",
        "\n",
        "𝑑\n",
        "=\n",
        "∑\n",
        "𝑖\n",
        "=\n",
        "1\n",
        "𝑛\n",
        "(\n",
        "𝑥\n",
        "𝑖\n",
        "−\n",
        "𝑦\n",
        "𝑖\n",
        ")\n",
        "2\n",
        "d=\n",
        "i=1\n",
        "∑\n",
        "n\n",
        "​\n",
        " (x\n",
        "i\n",
        "​\n",
        " −y\n",
        "i\n",
        "​\n",
        " )\n",
        "2\n",
        "\n",
        "​\n",
        "\n",
        "Where\n",
        "𝑥\n",
        "𝑖\n",
        "x\n",
        "i\n",
        "​\n",
        "  and\n",
        "𝑦\n",
        "𝑖\n",
        "y\n",
        "i\n",
        "​\n",
        "  are the coordinates of the two points in the\n",
        "𝑖\n",
        "i-th dimension.\n",
        "\n",
        "Here’s the Python function to calculate the Euclidean distance between two points:"
      ],
      "metadata": {
        "id": "Uuw8nHmTHoEy"
      }
    },
    {
      "cell_type": "code",
      "source": [
        "import math\n",
        "\n",
        "def euclidean_distance(point1, point2):\n",
        "    \"\"\"\n",
        "    This function calculates the Euclidean distance between two points in a multi-dimensional space.\n",
        "\n",
        "    Parameters:\n",
        "    point1 (tuple or list): Coordinates of the first point.\n",
        "    point2 (tuple or list): Coordinates of the second point.\n",
        "\n",
        "    Returns:\n",
        "    float: The Euclidean distance between the two points.\n",
        "    \"\"\"\n",
        "    # Ensure both points have the same dimension\n",
        "    if len(point1) != len(point2):\n",
        "        raise ValueError(\"Both points must have the same number of dimensions\")\n",
        "\n",
        "    # Calculate the sum of squared differences\n",
        "    squared_diff = sum((x - y) ** 2 for x, y in zip(point1, point2))\n",
        "\n",
        "    # Return the square root of the sum\n",
        "    return math.sqrt(squared_diff)\n",
        "\n",
        "# Example usage\n",
        "point1 = (1, 2, 3)\n",
        "point2 = (4, 5, 6)\n",
        "\n",
        "distance = euclidean_distance(point1, point2)\n",
        "print(f\"The Euclidean distance between {point1} and {point2} is: {distance:.2f}\")\n"
      ],
      "metadata": {
        "colab": {
          "base_uri": "https://localhost:8080/"
        },
        "id": "-wotJcIjH1sL",
        "outputId": "66b42437-ae34-4651-8137-418085be1b5d"
      },
      "execution_count": 14,
      "outputs": [
        {
          "output_type": "stream",
          "name": "stdout",
          "text": [
            "The Euclidean distance between (1, 2, 3) and (4, 5, 6) is: 5.20\n"
          ]
        }
      ]
    },
    {
      "cell_type": "markdown",
      "source": [
        "Explanation:\n",
        "zip(point1, point2): This pairs each coordinate from point1 and point2 together.\n",
        "Squared differences: For each pair of coordinates, the difference is squared and summed up.\n",
        "Square root: Finally, the square root of the sum of squared differences is computed to get the Euclidean distance.\n",
        "Example:\n",
        "For points (1, 2, 3) and (4, 5, 6), the function will calculate the Euclidean distance as:\n",
        "\n",
        "(\n",
        "4\n",
        "−\n",
        "1\n",
        ")\n",
        "2\n",
        "+\n",
        "(\n",
        "5\n",
        "−\n",
        "2\n",
        ")\n",
        "2\n",
        "+\n",
        "(\n",
        "6\n",
        "−\n",
        "3\n",
        ")\n",
        "2\n",
        "=\n",
        "9\n",
        "+\n",
        "9\n",
        "+\n",
        "9\n",
        "=\n",
        "27\n",
        "≈\n",
        "5.20\n",
        "(4−1)\n",
        "2\n",
        " +(5−2)\n",
        "2\n",
        " +(6−3)\n",
        "2\n",
        "\n",
        "​\n",
        " =\n",
        "9+9+9\n",
        "​\n",
        " =\n",
        "27\n",
        "​\n",
        " ≈5.20"
      ],
      "metadata": {
        "id": "3Ko6U_nwH5ca"
      }
    },
    {
      "cell_type": "markdown",
      "source": [
        "Q8. Write a Python function to calculate the manhattan distance between two points.\n",
        "\n",
        "Answer:\n",
        "\n",
        "To calculate the Manhattan distance (also known as L1 distance or taxicab distance) between two points in a multi-dimensional space, you can use the following formula:\n",
        "\n",
        "𝑑\n",
        "=\n",
        "∑\n",
        "𝑖\n",
        "=\n",
        "1\n",
        "𝑛\n",
        "∣\n",
        "𝑥\n",
        "𝑖\n",
        "−\n",
        "𝑦\n",
        "𝑖\n",
        "∣\n",
        "d=\n",
        "i=1\n",
        "∑\n",
        "n\n",
        "​\n",
        " ∣x\n",
        "i\n",
        "​\n",
        " −y\n",
        "i\n",
        "​\n",
        " ∣\n",
        "Where\n",
        "𝑥\n",
        "𝑖\n",
        "x\n",
        "i\n",
        "​\n",
        "  and\n",
        "𝑦\n",
        "𝑖\n",
        "y\n",
        "i\n",
        "​\n",
        "  are the coordinates of the two points in the\n",
        "𝑖\n",
        "i-th dimension, and\n",
        "∣\n",
        "𝑥\n",
        "𝑖\n",
        "−\n",
        "𝑦\n",
        "𝑖\n",
        "∣\n",
        "∣x\n",
        "i\n",
        "​\n",
        " −y\n",
        "i\n",
        "​\n",
        " ∣ is the absolute difference between the coordinates.\n",
        "\n",
        "Here's the Python function to calculate the Manhattan distance between two points:"
      ],
      "metadata": {
        "id": "7jjRye4qIEY6"
      }
    },
    {
      "cell_type": "code",
      "source": [
        "def manhattan_distance(point1, point2):\n",
        "    \"\"\"\n",
        "    This function calculates the Manhattan distance between two points in a multi-dimensional space.\n",
        "\n",
        "    Parameters:\n",
        "    point1 (tuple or list): Coordinates of the first point.\n",
        "    point2 (tuple or list): Coordinates of the second point.\n",
        "\n",
        "    Returns:\n",
        "    float: The Manhattan distance between the two points.\n",
        "    \"\"\"\n",
        "    # Ensure both points have the same dimension\n",
        "    if len(point1) != len(point2):\n",
        "        raise ValueError(\"Both points must have the same number of dimensions\")\n",
        "\n",
        "    # Calculate the sum of absolute differences\n",
        "    distance = sum(abs(x - y) for x, y in zip(point1, point2))\n",
        "\n",
        "    return distance\n",
        "\n",
        "# Example usage\n",
        "point1 = (1, 2, 3)\n",
        "point2 = (4, 5, 6)\n",
        "\n",
        "distance = manhattan_distance(point1, point2)\n",
        "print(f\"The Manhattan distance between {point1} and {point2} is: {distance}\")\n"
      ],
      "metadata": {
        "colab": {
          "base_uri": "https://localhost:8080/"
        },
        "id": "5KK_k7ZpIPLZ",
        "outputId": "efbf9f65-ea38-4909-a7c7-105cb12e819c"
      },
      "execution_count": 15,
      "outputs": [
        {
          "output_type": "stream",
          "name": "stdout",
          "text": [
            "The Manhattan distance between (1, 2, 3) and (4, 5, 6) is: 9\n"
          ]
        }
      ]
    },
    {
      "cell_type": "markdown",
      "source": [
        "Explanation:\n",
        "zip(point1, point2): This pairs each coordinate from point1 and point2 together.\n",
        "Absolute differences: For each pair of coordinates, the absolute difference is calculated using abs(x - y).\n",
        "Summing the absolute differences: The sum of the absolute differences is computed to get the Manhattan distance.\n",
        "Example:\n",
        "For points (1, 2, 3) and (4, 5, 6), the function will calculate the Manhattan distance as:\n",
        "\n",
        "∣\n",
        "4\n",
        "−\n",
        "1\n",
        "∣\n",
        "+\n",
        "∣\n",
        "5\n",
        "−\n",
        "2\n",
        "∣\n",
        "+\n",
        "∣\n",
        "6\n",
        "−\n",
        "3\n",
        "∣\n",
        "=\n",
        "3\n",
        "+\n",
        "3\n",
        "+\n",
        "3\n",
        "=\n",
        "9\n",
        "∣4−1∣+∣5−2∣+∣6−3∣=3+3+3=9"
      ],
      "metadata": {
        "id": "H2iryX77IZbx"
      }
    },
    {
      "cell_type": "markdown",
      "source": [
        "**Thank You!**"
      ],
      "metadata": {
        "id": "Ae6LCYn6IahR"
      }
    }
  ]
}