{
  "nbformat": 4,
  "nbformat_minor": 0,
  "metadata": {
    "colab": {
      "provenance": [],
      "authorship_tag": "ABX9TyNEMRcBga/vehcaZHHBqaP6",
      "include_colab_link": true
    },
    "kernelspec": {
      "name": "python3",
      "display_name": "Python 3"
    },
    "language_info": {
      "name": "python"
    }
  },
  "cells": [
    {
      "cell_type": "markdown",
      "metadata": {
        "id": "view-in-github",
        "colab_type": "text"
      },
      "source": [
        "<a href=\"https://colab.research.google.com/github/drsubirghosh2008/drsubirghosh2008/blob/main/PW_Assignment_OOPS_TASK_.ipynb\" target=\"_parent\"><img src=\"https://colab.research.google.com/assets/colab-badge.svg\" alt=\"Open In Colab\"/></a>"
      ]
    },
    {
      "cell_type": "markdown",
      "source": [
        "Q1. Create a vehicle class with an init method having instance variables as name_of_vehicle, max_speed and average_of_vehicle.\n",
        "\n",
        "Here's a Python class definition for a Vehicle class with the __init__ method that initializes name_of_vehicle, max_speed, and average_of_vehicle:"
      ],
      "metadata": {
        "id": "d1a0L_o48JqV"
      }
    },
    {
      "cell_type": "code",
      "source": [
        "class Vehicle:\n",
        "    def __init__(self, name_of_vehicle, max_speed, average_of_vehicle):\n",
        "        self.name_of_vehicle = name_of_vehicle\n",
        "        self.max_speed = max_speed\n",
        "        self.average_of_vehicle = average_of_vehicle\n",
        "\n",
        "# Example usage:\n",
        "car = Vehicle(\"Car\", 180, 15)\n",
        "print(car.name_of_vehicle)\n",
        "print(car.max_speed)\n",
        "print(car.average_of_vehicle)\n"
      ],
      "metadata": {
        "colab": {
          "base_uri": "https://localhost:8080/"
        },
        "id": "3RvvCfdP9rze",
        "outputId": "53fb9b48-c156-436e-eeb6-3ff142de0033"
      },
      "execution_count": 2,
      "outputs": [
        {
          "output_type": "stream",
          "name": "stdout",
          "text": [
            "Car\n",
            "180\n",
            "15\n"
          ]
        }
      ]
    },
    {
      "cell_type": "markdown",
      "source": [
        "This class takes three arguments—name_of_vehicle, max_speed, and average_of_vehicle—and initializes them as instance variables."
      ],
      "metadata": {
        "id": "IWKJypkT95Ds"
      }
    },
    {
      "cell_type": "markdown",
      "source": [
        "Q2. Create a child class car from the vehicle class created in Que 1, which will inherit the vehicle class.\n",
        "Create a method named seating_capacity which takes capacity as an argument and returns the name of the vehicle and its seating capacity."
      ],
      "metadata": {
        "id": "PItmt3wS9-v8"
      }
    },
    {
      "cell_type": "code",
      "source": [
        "class Vehicle:\n",
        "    def __init__(self, name_of_vehicle, max_speed, average_of_vehicle):\n",
        "        self.name_of_vehicle = name_of_vehicle\n",
        "        self.max_speed = max_speed\n",
        "        self.average_of_vehicle = average_of_vehicle\n",
        "\n",
        "class Car(Vehicle):\n",
        "    def seating_capacity(self, capacity):\n",
        "        return f\"{self.name_of_vehicle} has a seating capacity of {capacity}.\"\n",
        "\n",
        "# Example usage:\n",
        "my_car = Car(\"Sedan\", 200, 18)\n",
        "print(my_car.seating_capacity(5))\n"
      ],
      "metadata": {
        "colab": {
          "base_uri": "https://localhost:8080/"
        },
        "id": "fcLKWDoA-bxO",
        "outputId": "bbe9cd27-f254-45d9-9397-55e011ed063f"
      },
      "execution_count": 4,
      "outputs": [
        {
          "output_type": "stream",
          "name": "stdout",
          "text": [
            "Sedan has a seating capacity of 5.\n"
          ]
        }
      ]
    },
    {
      "cell_type": "markdown",
      "source": [
        "In this example,\n",
        "The Car class inherits from the Vehicle class.\n",
        "The seating_capacity method takes a capacity argument and returns a string with the vehicle's name and seating capacity."
      ],
      "metadata": {
        "id": "5luQ0vK_-hiN"
      }
    },
    {
      "cell_type": "markdown",
      "source": [
        "Q3. What is multiple inheritance? Write a python code to demonstrate multiple inheritance.\n",
        "\n",
        "Multiple Inheritance is a feature in object-oriented programming where a class can inherit attributes and methods from more than one parent class. In Python, this allows a class to inherit from multiple base classes, combining their behaviors and attributes.\n",
        "\n",
        "Here's an example of multiple inheritance in Python:"
      ],
      "metadata": {
        "id": "aS9RXL-B-7Cl"
      }
    },
    {
      "cell_type": "code",
      "source": [
        "# Parent class 1\n",
        "class Engine:\n",
        "    def __init__(self, engine_type):\n",
        "        self.engine_type = engine_type\n",
        "\n",
        "    def show_engine(self):\n",
        "        return f\"Engine Type: {self.engine_type}\"\n",
        "\n",
        "# Parent class 2\n",
        "class Body:\n",
        "    def __init__(self, body_type):\n",
        "        self.body_type = body_type\n",
        "\n",
        "    def show_body(self):\n",
        "        return f\"Body Type: {self.body_type}\"\n",
        "\n",
        "# Child class inheriting from both Engine and Body\n",
        "class Car(Engine, Body):\n",
        "    def __init__(self, name, engine_type, body_type):\n",
        "        Engine.__init__(self, engine_type)\n",
        "        Body.__init__(self, body_type)\n",
        "        self.name = name\n",
        "\n",
        "    def show_details(self):\n",
        "        return f\"Car: {self.name}, {self.show_engine()}, {self.show_body()}\"\n",
        "\n",
        "# Example usage:\n",
        "my_car = Car(\"SUV\", \"V6\", \"Hatchback\")\n",
        "print(my_car.show_details())\n"
      ],
      "metadata": {
        "colab": {
          "base_uri": "https://localhost:8080/"
        },
        "id": "svNEONgeEIG1",
        "outputId": "29f861ea-acec-4fd1-fdf1-adeb3e78b161"
      },
      "execution_count": 5,
      "outputs": [
        {
          "output_type": "stream",
          "name": "stdout",
          "text": [
            "Car: SUV, Engine Type: V6, Body Type: Hatchback\n"
          ]
        }
      ]
    },
    {
      "cell_type": "markdown",
      "source": [
        "Explanation:\n",
        "Engine and Body are two parent classes, each with their own attributes (engine_type and body_type, respectively).\n",
        "The Car class inherits from both Engine and Body. In its constructor, it initializes both base classes using their __init__ methods.\n",
        "The Car class can then access methods from both parent classes (show_engine and show_body), as well as its own methods (show_details)."
      ],
      "metadata": {
        "id": "T6jKald9EY10"
      }
    },
    {
      "cell_type": "markdown",
      "source": [
        "Q4. What are getter and setter in python? Create a class and create a getter and a setter method in this class.\n",
        "\n",
        "\n",
        "Getters and Setters in Python are methods used to access and modify the values of private or protected instance variables in a class. They provide controlled access to class attributes, ensuring data encapsulation.\n",
        "\n",
        "Getter is used to get the value of a variable.\n",
        "Setter is used to set or modify the value of a variable.\n",
        "In Python, the @property decorator is commonly used to define getters, while the @<property_name>.setter decorator is used to define setters."
      ],
      "metadata": {
        "id": "ANA3JhpsEckc"
      }
    },
    {
      "cell_type": "code",
      "source": [
        "class Person:\n",
        "    def __init__(self, name, age):\n",
        "        self._name = name  # Protected variable\n",
        "        self._age = age    # Protected variable\n",
        "\n",
        "    # Getter method for 'age'\n",
        "    @property\n",
        "    def age(self):\n",
        "        return self._age\n",
        "\n",
        "    # Setter method for 'age'\n",
        "    @age.setter\n",
        "    def age(self, new_age):\n",
        "        if new_age > 0:\n",
        "            self._age = new_age\n",
        "        else:\n",
        "            raise ValueError(\"Age must be positive\")\n",
        "\n",
        "    # Getter method for 'name'\n",
        "    @property\n",
        "    def name(self):\n",
        "        return self._name\n",
        "\n",
        "    # Setter method for 'name'\n",
        "    @name.setter\n",
        "    def name(self, new_name):\n",
        "        if new_name:\n",
        "            self._name = new_name\n",
        "        else:\n",
        "            raise ValueError(\"Name cannot be empty\")\n",
        "\n",
        "# Example usage:\n",
        "person = Person(\"John\", 30)\n",
        "\n",
        "# Accessing and modifying age using getter and setter\n",
        "print(person.age)\n",
        "person.age = 35     # Modifying age\n",
        "print(person.age)\n",
        "\n",
        "# Accessing and modifying name using getter and setter\n",
        "print(person.name)\n",
        "person.name = \"Jane\"  # Modifying name\n",
        "print(person.name)\n"
      ],
      "metadata": {
        "colab": {
          "base_uri": "https://localhost:8080/"
        },
        "id": "-3P3uLawEzq0",
        "outputId": "070a82db-d2b5-4b85-d227-d02ad2adc188"
      },
      "execution_count": 7,
      "outputs": [
        {
          "output_type": "stream",
          "name": "stdout",
          "text": [
            "30\n",
            "35\n",
            "John\n",
            "Jane\n"
          ]
        }
      ]
    },
    {
      "cell_type": "markdown",
      "source": [
        "Explanation:\n",
        "\n",
        "\n",
        "_name and _age are protected variables (denoted by the underscore _), meaning they should not be accessed directly outside the class.\n",
        "@property defines a getter method that allows access to the value of _age and _name.\n",
        "\n",
        "\n",
        "@<property>.setter defines a setter method that validates and sets new values for _age and _name.\n",
        "You can now use person.age and person.name as if they are attributes, but behind the scenes, the getter and setter methods are being invoked."
      ],
      "metadata": {
        "id": "4kEUCedNFKgk"
      }
    },
    {
      "cell_type": "markdown",
      "source": [
        "Q5.What is method overriding in python? Write a python code to demonstrate method overriding.\n",
        "\n",
        "\n",
        "Method overriding in Python occurs when a subclass provides a specific implementation for a method that is already defined in its superclass. The version of the method in the subclass overrides the version in the superclass. This allows a subclass to customize or modify the behavior of the inherited method.\n",
        "\n",
        "Key Points about Method Overriding:\n",
        "The method name and parameters in the subclass should be the same as the method in the superclass.\n",
        "The overridden method in the subclass is called when the method is invoked on an instance of the subclass."
      ],
      "metadata": {
        "id": "-f65moI7FPtc"
      }
    },
    {
      "cell_type": "code",
      "source": [
        "# Parent class\n",
        "class Animal:\n",
        "    def sound(self):\n",
        "        return \"Animals make sound\"\n",
        "\n",
        "# Child class 1\n",
        "class Dog(Animal):\n",
        "    def sound(self):\n",
        "        return \"Dog barks\"\n",
        "\n",
        "# Child class 2\n",
        "class Cat(Animal):\n",
        "    def sound(self):\n",
        "        return \"Cat meows\"\n",
        "\n",
        "# Example usage:\n",
        "animal = Animal()\n",
        "dog = Dog()\n",
        "cat = Cat()\n",
        "\n",
        "print(animal.sound())\n",
        "print(dog.sound())\n",
        "print(cat.sound())\n"
      ],
      "metadata": {
        "colab": {
          "base_uri": "https://localhost:8080/"
        },
        "id": "PtLIDLukFcWE",
        "outputId": "3f7a0fea-0217-42a8-d812-597becacfc28"
      },
      "execution_count": 9,
      "outputs": [
        {
          "output_type": "stream",
          "name": "stdout",
          "text": [
            "Animals make sound\n",
            "Dog barks\n",
            "Cat meows\n"
          ]
        }
      ]
    },
    {
      "cell_type": "markdown",
      "source": [
        "Explanation:\n",
        "\n",
        "The Animal class defines a method sound which returns a generic message \"Animals make sound\".\n",
        "\n",
        "Both Dog and Cat classes inherit from Animal and override the sound method to provide their specific sounds: \"Dog barks\" and \"Cat meows\".\n",
        "\n",
        "When calling sound() on an instance of Dog or Cat, the overridden method in the subclass is executed, not the method in the Animal class.\n",
        "\n",
        "This demonstrates how method overriding allows subclasses to alter or extend the behavior of methods inherited from a parent class."
      ],
      "metadata": {
        "id": "mdP9mbeAFny0"
      }
    },
    {
      "cell_type": "markdown",
      "source": [
        "Thank You!"
      ],
      "metadata": {
        "id": "QHj5pSeIFzv8"
      }
    }
  ]
}