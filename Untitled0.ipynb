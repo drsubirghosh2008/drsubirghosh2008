{
  "nbformat": 4,
  "nbformat_minor": 0,
  "metadata": {
    "colab": {
      "provenance": [],
      "authorship_tag": "ABX9TyO+5Z6NyosKXZ+0Vc8lKJtD",
      "include_colab_link": true
    },
    "kernelspec": {
      "name": "python3",
      "display_name": "Python 3"
    },
    "language_info": {
      "name": "python"
    }
  },
  "cells": [
    {
      "cell_type": "markdown",
      "metadata": {
        "id": "view-in-github",
        "colab_type": "text"
      },
      "source": [
        "<a href=\"https://colab.research.google.com/github/drsubirghosh2008/drsubirghosh2008/blob/main/Untitled0.ipynb\" target=\"_parent\"><img src=\"https://colab.research.google.com/assets/colab-badge.svg\" alt=\"Open In Colab\"/></a>"
      ]
    },
    {
      "cell_type": "markdown",
      "source": [
        "Q1. Calculate the 95% confidence interval for a sample of data with a mean of 50 and a standard deviation of 5 using Python. Interpret the results.\n",
        "\n",
        "Answer:\n",
        "\n",
        "The 95% confidence interval for the data with a mean of 50 and a standard deviation of 5 is approximately (40.20, 59.80). This means we are 95% confident that the true population mean falls within this interval."
      ],
      "metadata": {
        "id": "_FP3KbBfARvk"
      }
    },
    {
      "cell_type": "code",
      "source": [
        "import scipy.stats as stats\n",
        "\n",
        "# Given data\n",
        "mean = 50\n",
        "std_dev = 5\n",
        "confidence_level = 0.95\n",
        "sample_size = 1  # Assuming a sample of one for a population mean estimation\n",
        "\n",
        "# Calculate the 95% confidence interval for a normally distributed sample with a known standard deviation\n",
        "# For large sample size n > 30, we can use the z-score for 95% confidence interval\n",
        "z_score = stats.norm.ppf((1 + confidence_level) / 2)\n",
        "\n",
        "# Calculate the margin of error\n",
        "margin_of_error = z_score * (std_dev / (sample_size ** 0.5))\n",
        "\n",
        "# Confidence interval\n",
        "lower_bound = mean - margin_of_error\n",
        "upper_bound = mean + margin_of_error\n",
        "(lower_bound, upper_bound)\n"
      ],
      "metadata": {
        "colab": {
          "base_uri": "https://localhost:8080/"
        },
        "id": "fW78ljJYAyo1",
        "outputId": "7e6128da-36b9-42da-86fa-68b56e4ec5e4"
      },
      "execution_count": 1,
      "outputs": [
        {
          "output_type": "execute_result",
          "data": {
            "text/plain": [
              "(40.200180077299734, 59.799819922700266)"
            ]
          },
          "metadata": {},
          "execution_count": 1
        }
      ]
    },
    {
      "cell_type": "markdown",
      "source": [
        "Q2. Conduct a chi-square goodness of fit test to determine if the distribution of colors of M&Ms in a bag matches the expected distribution of 20% blue, 20% orange, 20% green, 10% yellow, 10% red, and 20% brown. Use Python to perform the test with a significance level of 0.05.\n",
        "\n",
        "Answer:\n",
        "\n",
        "\n",
        "The chi-square goodness of fit test yields a chi-square statistic of 2.5 and a p-value of approximately 0.776. With a significance level of 0.05, we fail to reject the null hypothesis since the p-value is greater than 0.05. This suggests that there is no significant difference between the observed distribution of M&M colors and the expected distribution; the observed frequencies are consistent with the expected proportions."
      ],
      "metadata": {
        "id": "rsy_PIeHBIpN"
      }
    },
    {
      "cell_type": "code",
      "source": [
        "import numpy as np\n",
        "from scipy.stats import chi2_contingency\n",
        "\n",
        "# Observed counts of colors in a sample bag of M&Ms\n",
        "observed_counts = np.array([25, 18, 22, 8, 10, 17])  # hypothetical observed frequencies for colors\n",
        "\n",
        "# Expected proportions for each color based on given distribution\n",
        "expected_proportions = np.array([0.2, 0.2, 0.2, 0.1, 0.1, 0.2])\n",
        "\n",
        "# Calculate the expected counts based on total observed count\n",
        "total_count = observed_counts.sum()\n",
        "expected_counts = expected_proportions * total_count\n",
        "\n",
        "# Perform the chi-square goodness of fit test\n",
        "chi_square_stat, p_value = stats.chisquare(f_obs=observed_counts, f_exp=expected_counts)\n",
        "\n",
        "(chi_square_stat, p_value)\n"
      ],
      "metadata": {
        "colab": {
          "base_uri": "https://localhost:8080/"
        },
        "id": "ik2Id92-BmO1",
        "outputId": "497f6d12-0801-4000-df48-281d5b7df5f4"
      },
      "execution_count": 2,
      "outputs": [
        {
          "output_type": "execute_result",
          "data": {
            "text/plain": [
              "(2.5, 0.7764950711233227)"
            ]
          },
          "metadata": {},
          "execution_count": 2
        }
      ]
    },
    {
      "cell_type": "markdown",
      "source": [
        "Q3. Use Python to calculate the chi-square statistic and p-value for a contingency table with the following data:\n",
        "          Group A    Group B   \n",
        "Outcome 1: 20         15\n",
        "Outcome 2: 10         25\n",
        "Outcome 3: 15         20\n",
        "\n",
        "Interpret the results of the test.\n",
        "\n",
        "Answer:\n",
        "\n",
        "The chi-square statistic is approximately 5.83, with a p-value of 0.054 and 2 degrees of freedom. Since the p-value is slightly greater than the significance level of 0.05, we fail to reject the null hypothesis. This suggests that there is no statistically significant association between the groups (Group A and Group B) and the outcomes at the 0.05 significance level. However, the p-value is close to 0.05, indicating that the association is borderline significant."
      ],
      "metadata": {
        "id": "fGOcOCC5Bsy7"
      }
    },
    {
      "cell_type": "code",
      "source": [
        "# Creating the contingency table\n",
        "contingency_table = np.array([[20, 15],\n",
        "                              [10, 25],\n",
        "                              [15, 20]])\n",
        "\n",
        "# Performing the chi-square test of independence\n",
        "chi2_stat, p_value, dof, expected = chi2_contingency(contingency_table)\n",
        "\n",
        "(chi2_stat, p_value, dof, expected)\n"
      ],
      "metadata": {
        "colab": {
          "base_uri": "https://localhost:8080/"
        },
        "id": "k9YpAePkDRA0",
        "outputId": "0a3014d2-68e9-4b3d-d768-5bbe8eaba620"
      },
      "execution_count": 3,
      "outputs": [
        {
          "output_type": "execute_result",
          "data": {
            "text/plain": [
              "(5.833333333333334,\n",
              " 0.05411376622282158,\n",
              " 2,\n",
              " array([[15., 20.],\n",
              "        [15., 20.],\n",
              "        [15., 20.]]))"
            ]
          },
          "metadata": {},
          "execution_count": 3
        }
      ]
    },
    {
      "cell_type": "markdown",
      "source": [
        "Q4. A study of the prevalence of smoking in a population of 500 individuals found that 60 individuals  smoked. Use Python to calculate the 95% confidence interval for the true proportion of individuals in the  population who smoke.\n",
        "\n",
        "Answer:\n"
      ],
      "metadata": {
        "id": "9utxCzTDDPqV"
      }
    },
    {
      "cell_type": "code",
      "source": [
        "# Given data\n",
        "n = 500  # total population\n",
        "x = 60   # number of individuals who smoke\n",
        "confidence_level = 0.95\n",
        "\n",
        "# Proportion of smokers\n",
        "p_hat = x / n\n",
        "\n",
        "# Standard error for a proportion\n",
        "std_error = np.sqrt((p_hat * (1 - p_hat)) / n)\n",
        "\n",
        "# Z-score for 95% confidence\n",
        "z_score = stats.norm.ppf((1 + confidence_level) / 2)\n",
        "\n",
        "# Confidence interval\n",
        "margin_of_error = z_score * std_error\n",
        "lower_bound = p_hat - margin_of_error\n",
        "upper_bound = p_hat + margin_of_error\n",
        "(lower_bound, upper_bound)\n"
      ],
      "metadata": {
        "colab": {
          "base_uri": "https://localhost:8080/"
        },
        "id": "S4yHvQuuD4ol",
        "outputId": "a829f48d-e8ad-4845-9466-ce1966e1c82d"
      },
      "execution_count": 4,
      "outputs": [
        {
          "output_type": "execute_result",
          "data": {
            "text/plain": [
              "(0.09151638887130707, 0.1484836111286929)"
            ]
          },
          "metadata": {},
          "execution_count": 4
        }
      ]
    },
    {
      "cell_type": "markdown",
      "source": [
        "The 95% confidence interval for the data is approximately (9.16, 14.85). This means we are 95% confident that the true population mean falls within this interval."
      ],
      "metadata": {
        "id": "WODiU5NSEBOs"
      }
    },
    {
      "cell_type": "markdown",
      "source": [
        "Q5. Calculate the 90% confidence interval for a sample of data with a mean of 75 and a standard deviation of 12 using Python. Interpret the results.\n",
        "\n",
        "Answer:\n",
        "\n"
      ],
      "metadata": {
        "id": "Rd6dOoChEsNl"
      }
    },
    {
      "cell_type": "code",
      "source": [
        "# Given data for Q5\n",
        "mean = 75\n",
        "std_dev = 12\n",
        "confidence_level = 0.90\n",
        "sample_size = 1  # Assuming sample size is one (or inferring population mean)\n",
        "\n",
        "# Calculate the 90% confidence interval\n",
        "z_score = stats.norm.ppf((1 + confidence_level) / 2)\n",
        "margin_of_error = z_score * (std_dev / (sample_size ** 0.5))\n",
        "\n",
        "# Confidence interval\n",
        "lower_bound = mean - margin_of_error\n",
        "upper_bound = mean + margin_of_error\n",
        "(lower_bound, upper_bound)\n"
      ],
      "metadata": {
        "colab": {
          "base_uri": "https://localhost:8080/"
        },
        "id": "JjR-W_42DQI0",
        "outputId": "57107456-d945-4aab-99d9-5694e68b0ec6"
      },
      "execution_count": 5,
      "outputs": [
        {
          "output_type": "execute_result",
          "data": {
            "text/plain": [
              "(55.261756476582335, 94.73824352341767)"
            ]
          },
          "metadata": {},
          "execution_count": 5
        }
      ]
    },
    {
      "cell_type": "markdown",
      "source": [
        "The 95% confidence interval for the data with a mean of 75 and a standard deviation of 12 is approximately (55.26, 94.74). This means we are 95% confident that the true population mean falls within this interval."
      ],
      "metadata": {
        "id": "2zw9TtURFMVl"
      }
    },
    {
      "cell_type": "markdown",
      "source": [
        "Q6. Use Python to plot the chi-square distribution with 10 degrees of freedom. Label the axes and shade the  area corresponding to a chi-square statistic of 15.\n",
        "\n",
        "Answer:\n",
        "\n"
      ],
      "metadata": {
        "id": "CDCgVIWyFZAD"
      }
    },
    {
      "cell_type": "code",
      "source": [
        "import numpy as np\n",
        "import matplotlib.pyplot as plt\n",
        "from scipy.stats import chi2\n",
        "\n",
        "# Degrees of freedom\n",
        "df = 10\n",
        "\n",
        "# Generate x values\n",
        "x = np.linspace(0, 30, 1000)\n",
        "\n",
        "# Compute chi-square distribution values\n",
        "y = chi2.pdf(x, df)\n",
        "\n",
        "# Create the plot\n",
        "plt.plot(x, y, label='Chi-square Distribution (df=10)')\n",
        "\n",
        "# Shade the area corresponding to chi-square statistic of 15\n",
        "x_fill = np.linspace(15, 30, 1000)\n",
        "y_fill = chi2.pdf(x_fill, df)\n",
        "plt.fill_between(x_fill, y_fill, color='gray', alpha=0.5, label='Chi-square statistic = 15')\n",
        "\n",
        "# Labels and title\n",
        "plt.title('Chi-square Distribution with 10 Degrees of Freedom')\n",
        "plt.xlabel('Chi-square value')\n",
        "plt.ylabel('Probability Density')\n",
        "\n",
        "# Add a legend\n",
        "plt.legend()\n",
        "\n",
        "# Show the plot\n",
        "plt.show()\n"
      ],
      "metadata": {
        "colab": {
          "base_uri": "https://localhost:8080/",
          "height": 472
        },
        "id": "QCNJhgy9Ftys",
        "outputId": "8295593b-2cd6-4d83-c2e3-506d07c913a6"
      },
      "execution_count": 6,
      "outputs": [
        {
          "output_type": "display_data",
          "data": {
            "text/plain": [
              "<Figure size 640x480 with 1 Axes>"
            ],
            "image/png": "[encoded data removed]"
          },
          "metadata": {}
        }
      ]
    },
    {
      "cell_type": "markdown",
      "source": [
        "Q7. A random sample of 1000 people was asked if they preferred Coke or Pepsi. Of the sample, 520  preferred Coke. Calculate a 99% confidence interval for the true proportion of people in the population who prefer Coke.\n",
        "\n",
        "Answer:\n",
        "\n"
      ],
      "metadata": {
        "id": "1leRD1j0Fz-8"
      }
    },
    {
      "cell_type": "code",
      "source": [
        "import numpy as np\n",
        "from scipy.stats import norm\n",
        "\n",
        "# Given data\n",
        "n = 1000  # sample size\n",
        "x = 520   # number of people who prefer Coke\n",
        "confidence_level = 0.99\n",
        "\n",
        "# Proportion of people who prefer Coke\n",
        "p_hat = x / n\n",
        "\n",
        "# Z-score for 99% confidence\n",
        "z_score = norm.ppf((1 + confidence_level) / 2)\n",
        "\n",
        "# Standard error for a proportion\n",
        "std_error = np.sqrt((p_hat * (1 - p_hat)) / n)\n",
        "\n",
        "# Margin of error\n",
        "margin_of_error = z_score * std_error\n",
        "\n",
        "# Confidence interval\n",
        "lower_bound = p_hat - margin_of_error\n",
        "upper_bound = p_hat + margin_of_error\n",
        "(lower_bound, upper_bound)\n"
      ],
      "metadata": {
        "colab": {
          "base_uri": "https://localhost:8080/"
        },
        "id": "93EMiENpGPko",
        "outputId": "6ea840db-75e6-4913-ea07-fdc9ae1dd7a3"
      },
      "execution_count": 7,
      "outputs": [
        {
          "output_type": "execute_result",
          "data": {
            "text/plain": [
              "(0.4793051576779699, 0.5606948423220302)"
            ]
          },
          "metadata": {},
          "execution_count": 7
        }
      ]
    },
    {
      "cell_type": "markdown",
      "source": [
        "Calculate a 99% confidence interval for the true proportion of people in the population who prefer Coke is approximately (47.93, 56.07).\n",
        "\n",
        " This means we are 99% confident that the true proportion of people falls within this interval."
      ],
      "metadata": {
        "id": "B_tpWoG8GXlN"
      }
    },
    {
      "cell_type": "markdown",
      "source": [
        "Q8. A researcher hypothesizes that a coin is biased towards tails. They flip the coin 100 times and observe 45 tails. Conduct a chi-square goodness of fit test to determine if the observed frequencies match the expected frequencies of a fair coin. Use a significance level of 0.05.\n",
        "\n",
        "Answer:\n",
        "\n",
        "To test the hypothesis that the coin is biased towards tails, we can use a chi-square goodness of fit test to compare the observed frequencies to the expected frequencies of a fair coin (50 tails and 50 heads out of 100 flips).\n",
        "\n",
        "\n",
        "Observed frequencies: The researcher observed 45 tails and, by deduction, 55 heads (100 flips in total).\n",
        "\n",
        "Expected frequencies: For a fair coin, the expected frequency of tails and heads would both be 50 (50 tails and 50 heads out of 100 flips).\n",
        "\n",
        "Significance level: We are using a significance level of 0.05.\n",
        "\n",
        "Null hypothesis: The coin is fair (i.e., the distribution of heads and tails matches the expected frequencies for a fair coin).\n",
        "\n",
        "Alternative hypothesis: The coin is biased towards tails.\n",
        "\n",
        "If the p-value is less than the significance level (0.05), we reject the null hypothesis and conclude that the coin is biased.\n"
      ],
      "metadata": {
        "id": "AYsO9HRjG74t"
      }
    },
    {
      "cell_type": "code",
      "source": [
        "from scipy.stats import chisquare\n",
        "\n",
        "# Observed frequencies: 45 tails, 55 heads\n",
        "observed = [45, 55]\n",
        "\n",
        "# Expected frequencies for a fair coin: 50 tails, 50 heads\n",
        "expected = [50, 50]\n",
        "\n",
        "# Perform chi-square goodness of fit test\n",
        "chi2_stat, p_value = chisquare(f_obs=observed, f_exp=expected)\n",
        "\n",
        "(chi2_stat, p_value)\n"
      ],
      "metadata": {
        "colab": {
          "base_uri": "https://localhost:8080/"
        },
        "id": "EBbWCQW_HoAV",
        "outputId": "ee0f5814-da71-45ef-cc1d-cf1600c9bc28"
      },
      "execution_count": 8,
      "outputs": [
        {
          "output_type": "execute_result",
          "data": {
            "text/plain": [
              "(1.0, 0.31731050786291115)"
            ]
          },
          "metadata": {},
          "execution_count": 8
        }
      ]
    },
    {
      "cell_type": "markdown",
      "source": [
        "Since the p-value is greater than 0.05, we fail to reject the null hypothesis.\n",
        "Hence, the coin is bias towards tail."
      ],
      "metadata": {
        "id": "A1fPoGhsH5cb"
      }
    },
    {
      "cell_type": "markdown",
      "source": [
        "Q9. A study was conducted to determine if there is an association between smoking status (smoker or non-smoker) and lung cancer diagnosis (yes or no). The results are shown in the contingency table below.\n",
        "Conduct a chi-square test for independence to determine if there is a significant association between smoking status and lung cancer diagnosis.\n",
        "              Lung Cancer: Yes                    Lung Cancer: No\n",
        "Smoker             60                                  140\n",
        "Non-smoker         30                                  170\n",
        "\n",
        "Use a significance level of 0.05.\n",
        "\n",
        "Answer:\n",
        "\n",
        "Hypotheses:\n",
        "\n",
        "Null Hypothesis (𝐻0): There is no association between smoking status and lung cancer diagnosis.\n",
        "\n",
        "Alternative Hypothesis (H1): There is an association between smoking status and lung cancer diagnosis.\n",
        "\n",
        "Significance Level:\n",
        "\n",
        "The significance level (α) is 0.05\n",
        "\n",
        "Interpretation:\n",
        "\n",
        "If the p-value is less than 0.05, we reject the null hypothesis and conclude that there is a statistically significant association between smoking status and lung cancer diagnosis.\n",
        "\n",
        "If the p-value is greater than 0.05, we fail to reject the null hypothesis, indicating no significant association.\n",
        "\n"
      ],
      "metadata": {
        "id": "AysJUtegIOF0"
      }
    },
    {
      "cell_type": "code",
      "source": [
        "import numpy as np\n",
        "from scipy.stats import chi2_contingency\n",
        "\n",
        "# Contingency table data\n",
        "contingency_table = np.array([[60, 140],\n",
        "                              [30, 170]])\n",
        "\n",
        "# Perform chi-square test for independence\n",
        "chi2_stat, p_value, dof, expected = chi2_contingency(contingency_table)\n",
        "\n",
        "(chi2_stat, p_value, dof, expected)\n"
      ],
      "metadata": {
        "colab": {
          "base_uri": "https://localhost:8080/"
        },
        "id": "3S7a8UXTKWN8",
        "outputId": "4d6e3cb6-a6ea-4c60-f495-a0cbd99f3c70"
      },
      "execution_count": 9,
      "outputs": [
        {
          "output_type": "execute_result",
          "data": {
            "text/plain": [
              "(12.057347670250895,\n",
              " 0.0005158863863703744,\n",
              " 1,\n",
              " array([[ 45., 155.],\n",
              "        [ 45., 155.]]))"
            ]
          },
          "metadata": {},
          "execution_count": 9
        }
      ]
    },
    {
      "cell_type": "markdown",
      "source": [
        "Since the p-value: 0.0005 <  0.05, we reject the null hypothesis and conclude that there is a statistically significant association between smoking status and lung cancer diagnosis with 1 degree of freedom."
      ],
      "metadata": {
        "id": "U4SQiKAjK5f8"
      }
    },
    {
      "cell_type": "markdown",
      "source": [
        "Q10. A study was conducted to determine if the proportion of people who prefer milk chocolate, dark chocolate, or white chocolate is different in the U.S. versus the U.K. A random sample of 500 people from the U.S. and a random sample of 500 people from the U.K. were surveyed. The results are shown in the\n",
        "contingency table below.\n",
        "\n",
        "Conduct a chi-square test for independence to determine if there is a significant association between chocolate preference and country of origin.\n",
        "\n",
        "                Milk Chocolate       Dark Chocolate        White Chocolate\n",
        "U.S. (n=500)        200                  150                    150\n",
        "U.K. (n=500)        225                  175                    100\n",
        "\n",
        "Use a significance level of 0.01.\n",
        "\n",
        "Answer:\n",
        "\n",
        "Hypotheses:\n",
        "\n",
        "Null Hypothesis (𝐻0): There is no association between chocolate preference and country of origin.\n",
        "\n",
        "Alternative Hypothesis (H1): There is an association between chocolate preference and country of origin.\n",
        "\n",
        "Significance Level:\n",
        "The significance level (𝛼) is 0.01.\n",
        "\n",
        "Decision Rule: If the p-value is less than 0.01, we reject the null hypothesis and conclude that there is a statistically significant association between chocolate preference and country of origin.\n",
        "\n",
        "If the p-value is greater than 0.01, we fail to reject the null hypothesis, indicating no significant association.\n"
      ],
      "metadata": {
        "id": "_Ba_tbt0LFJD"
      }
    },
    {
      "cell_type": "code",
      "source": [
        "import numpy as np\n",
        "from scipy.stats import chi2_contingency\n",
        "\n",
        "# Create the contingency table\n",
        "contingency_table = np.array([[200, 150, 150],\n",
        "                              [225, 175, 100]])\n",
        "\n",
        "# Perform chi-square test for independence\n",
        "chi2_stat, p_value, dof, expected = chi2_contingency(contingency_table)\n",
        "\n",
        "(chi2_stat, p_value, dof, expected)\n"
      ],
      "metadata": {
        "colab": {
          "base_uri": "https://localhost:8080/"
        },
        "id": "TJgHZnjhMmqk",
        "outputId": "13451968-3702-4210-f462-349efb257411"
      },
      "execution_count": 10,
      "outputs": [
        {
          "output_type": "execute_result",
          "data": {
            "text/plain": [
              "(13.393665158371041,\n",
              " 0.0012348168997745918,\n",
              " 2,\n",
              " array([[212.5, 162.5, 125. ],\n",
              "        [212.5, 162.5, 125. ]]))"
            ]
          },
          "metadata": {},
          "execution_count": 10
        }
      ]
    },
    {
      "cell_type": "markdown",
      "source": [
        "Intrepretation:\n",
        "\n",
        "Since the p-value: 0.0012 < 0.01, we reject the null hypothesis and conclude that there is a statistically significant association between chocolate preference and country of origin."
      ],
      "metadata": {
        "id": "gTF0aSgTNA4C"
      }
    },
    {
      "cell_type": "markdown",
      "source": [
        "Q11. A random sample of 30 people was selected from a population with an unknown mean and standard deviation. The sample mean was found to be 72 and the sample standard deviation was found to be 10.\n",
        "Conduct a hypothesis test to determine if the population mean is significantly different from 70. Use a significance level of 0.05.\n",
        "\n",
        "Answer:\n",
        "\n",
        "To conduct a hypothesis test to determine if the population mean is significantly different from 70, we can use a t-test since the population standard deviation is unknown and we have a small sample size (n < 30).\n",
        "\n",
        "Hypotheses\n",
        "Null Hypothesis (H0):      The population mean (𝜇) is equal to 70.\n",
        "                           (i.e, 𝐻0:𝜇 = 70)\n",
        "Alternative Hypothesis(H1):The population mean (𝜇) is not equal to 70.\n",
        "                           (i.e, 𝐻1:𝜇 ≠70)\n",
        "Given Data: Sample size (n) = 30\n",
        "Sample mean: 72\n",
        "Sample standard deviation: 10\n",
        "Significance level (α) = 0.05\n",
        "df= n−1\n",
        "\n",
        "Decision rule:\n",
        "\n",
        "If the absolute value of the calculated t-statistic is greater than the critical t-value, or if the p-value is less than 0.05, we reject the null hypothesis. This indicates that there is a statistically significant difference between the population mean and 70.\n",
        "\n",
        "If not, we fail to reject the null hypothesis, indicating no significant difference."
      ],
      "metadata": {
        "id": "yw9Zx6mLNUt8"
      }
    },
    {
      "cell_type": "code",
      "source": [
        "import scipy.stats as stats\n",
        "import numpy as np\n",
        "\n",
        "# Given data\n",
        "sample_mean = 72\n",
        "hypothesized_mean = 70\n",
        "sample_std_dev = 10\n",
        "sample_size = 30\n",
        "alpha = 0.05\n",
        "\n",
        "# Calculate the t-statistic\n",
        "t_statistic = (sample_mean - hypothesized_mean) / (sample_std_dev / np.sqrt(sample_size))\n",
        "\n",
        "# Degrees of freedom\n",
        "df = sample_size - 1\n",
        "\n",
        "# Critical t-value for two-tailed test\n",
        "t_critical = stats.t.ppf(1 - alpha/2, df)\n",
        "\n",
        "# Calculate p-value\n",
        "p_value = 2 * (1 - stats.t.cdf(abs(t_statistic), df))\n",
        "\n",
        "(t_statistic, t_critical, p_value)\n"
      ],
      "metadata": {
        "colab": {
          "base_uri": "https://localhost:8080/"
        },
        "id": "eJBwrTiYO_tU",
        "outputId": "3072f646-44e7-4c05-dde2-43dca4ef905b"
      },
      "execution_count": 11,
      "outputs": [
        {
          "output_type": "execute_result",
          "data": {
            "text/plain": [
              "(1.0954451150103321, 2.045229642132703, 0.2823362372860698)"
            ]
          },
          "metadata": {},
          "execution_count": 11
        }
      ]
    },
    {
      "cell_type": "markdown",
      "source": [
        "If the absolute value of the calculated t-statistic is greater than the critical t-value, or if the p-value is less than 0.05, we reject the null hypothesis. This indicates that there is a statistically significant difference between the population mean and 70.\n",
        "Since the p-value: 0.28 > 0.05 or calculated t-value (t_statistic): 1.095 < critical t-value (t_critical): 2.045, we fail to reject the null hypothesis.\n",
        "\n",
        "This indicates that there is no difference between the population mean and 70."
      ],
      "metadata": {
        "id": "F3HvaWX0PODT"
      }
    },
    {
      "cell_type": "markdown",
      "source": [
        "Thank You!"
      ],
      "metadata": {
        "id": "mihhPClmRWsD"
      }
    }
  ]
}